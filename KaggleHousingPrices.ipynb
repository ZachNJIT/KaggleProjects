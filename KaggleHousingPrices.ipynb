{
 "cells": [
  {
   "cell_type": "markdown",
   "metadata": {},
   "source": [
    "Zach Barnhart\n",
    "Kaggle Housing Price "
   ]
  },
  {
   "cell_type": "markdown",
   "metadata": {},
   "source": [
    "# Pre-processing\n",
    "\n",
    "### First we will import our data into Jupyter. Since we need to evaluate our prediction model, we will not use the test data provided on Kaggle (since it does not have actual sales values for us to evaluate accuracy with), but rather we will use 5-fold cross-validation from the training data provided as an indication of the average accuracy of the different types of models we will try.\n",
    "\n",
    "### We will want to use readr's read_csv method because it handles NA values in a way that will be easier to handle later. This package is in tidyverse, so we load library tidyverse first. (N.B. we will need plyr later, and it needs to be loaded before dplyr, so we go ahead and load it here)"
   ]
  },
  {
   "cell_type": "code",
   "execution_count": 1,
   "metadata": {
    "scrolled": true
   },
   "outputs": [
    {
     "name": "stderr",
     "output_type": "stream",
     "text": [
      "Parsed with column specification:\n",
      "cols(\n",
      "  .default = col_character(),\n",
      "  Id = col_double(),\n",
      "  MSSubClass = col_double(),\n",
      "  LotFrontage = col_double(),\n",
      "  LotArea = col_double(),\n",
      "  OverallQual = col_double(),\n",
      "  OverallCond = col_double(),\n",
      "  YearBuilt = col_double(),\n",
      "  YearRemodAdd = col_double(),\n",
      "  MasVnrArea = col_double(),\n",
      "  BsmtFinSF1 = col_double(),\n",
      "  BsmtFinSF2 = col_double(),\n",
      "  BsmtUnfSF = col_double(),\n",
      "  TotalBsmtSF = col_double(),\n",
      "  `1stFlrSF` = col_double(),\n",
      "  `2ndFlrSF` = col_double(),\n",
      "  LowQualFinSF = col_double(),\n",
      "  GrLivArea = col_double(),\n",
      "  BsmtFullBath = col_double(),\n",
      "  BsmtHalfBath = col_double(),\n",
      "  FullBath = col_double()\n",
      "  # ... with 18 more columns\n",
      ")\n",
      "See spec(...) for full column specifications.\n"
     ]
    }
   ],
   "source": [
    "options(warn=-1)\n",
    "library(plyr)\n",
    "suppressMessages(library(tidyverse))\n",
    "houses <- read_csv('train.csv')"
   ]
  },
  {
   "cell_type": "markdown",
   "metadata": {},
   "source": [
    "### Let us get a brief overview of the data"
   ]
  },
  {
   "cell_type": "code",
   "execution_count": 2,
   "metadata": {},
   "outputs": [
    {
     "data": {
      "text/html": [
       "<ol class=list-inline>\n",
       "\t<li>1460</li>\n",
       "\t<li>81</li>\n",
       "</ol>\n"
      ],
      "text/latex": [
       "\\begin{enumerate*}\n",
       "\\item 1460\n",
       "\\item 81\n",
       "\\end{enumerate*}\n"
      ],
      "text/markdown": [
       "1. 1460\n",
       "2. 81\n",
       "\n",
       "\n"
      ],
      "text/plain": [
       "[1] 1460   81"
      ]
     },
     "metadata": {},
     "output_type": "display_data"
    },
    {
     "data": {
      "text/html": [
       "<table>\n",
       "<thead><tr><th scope=col>Id</th><th scope=col>MSSubClass</th><th scope=col>MSZoning</th><th scope=col>LotFrontage</th><th scope=col>LotArea</th><th scope=col>Street</th><th scope=col>Alley</th><th scope=col>LotShape</th><th scope=col>LandContour</th><th scope=col>Utilities</th><th scope=col>...</th><th scope=col>PoolArea</th><th scope=col>PoolQC</th><th scope=col>Fence</th><th scope=col>MiscFeature</th><th scope=col>MiscVal</th><th scope=col>MoSold</th><th scope=col>YrSold</th><th scope=col>SaleType</th><th scope=col>SaleCondition</th><th scope=col>SalePrice</th></tr></thead>\n",
       "<tbody>\n",
       "\t<tr><td>1      </td><td>60     </td><td>RL     </td><td>65     </td><td> 8450  </td><td>Pave   </td><td>NA     </td><td>Reg    </td><td>Lvl    </td><td>AllPub </td><td>...    </td><td>0      </td><td>NA     </td><td>NA     </td><td>NA     </td><td>  0    </td><td> 2     </td><td>2008   </td><td>WD     </td><td>Normal </td><td>208500 </td></tr>\n",
       "\t<tr><td>2      </td><td>20     </td><td>RL     </td><td>80     </td><td> 9600  </td><td>Pave   </td><td>NA     </td><td>Reg    </td><td>Lvl    </td><td>AllPub </td><td>...    </td><td>0      </td><td>NA     </td><td>NA     </td><td>NA     </td><td>  0    </td><td> 5     </td><td>2007   </td><td>WD     </td><td>Normal </td><td>181500 </td></tr>\n",
       "\t<tr><td>3      </td><td>60     </td><td>RL     </td><td>68     </td><td>11250  </td><td>Pave   </td><td>NA     </td><td>IR1    </td><td>Lvl    </td><td>AllPub </td><td>...    </td><td>0      </td><td>NA     </td><td>NA     </td><td>NA     </td><td>  0    </td><td> 9     </td><td>2008   </td><td>WD     </td><td>Normal </td><td>223500 </td></tr>\n",
       "\t<tr><td>4      </td><td>70     </td><td>RL     </td><td>60     </td><td> 9550  </td><td>Pave   </td><td>NA     </td><td>IR1    </td><td>Lvl    </td><td>AllPub </td><td>...    </td><td>0      </td><td>NA     </td><td>NA     </td><td>NA     </td><td>  0    </td><td> 2     </td><td>2006   </td><td>WD     </td><td>Abnorml</td><td>140000 </td></tr>\n",
       "\t<tr><td>5      </td><td>60     </td><td>RL     </td><td>84     </td><td>14260  </td><td>Pave   </td><td>NA     </td><td>IR1    </td><td>Lvl    </td><td>AllPub </td><td>...    </td><td>0      </td><td>NA     </td><td>NA     </td><td>NA     </td><td>  0    </td><td>12     </td><td>2008   </td><td>WD     </td><td>Normal </td><td>250000 </td></tr>\n",
       "\t<tr><td>6      </td><td>50     </td><td>RL     </td><td>85     </td><td>14115  </td><td>Pave   </td><td>NA     </td><td>IR1    </td><td>Lvl    </td><td>AllPub </td><td>...    </td><td>0      </td><td>NA     </td><td>MnPrv  </td><td>Shed   </td><td>700    </td><td>10     </td><td>2009   </td><td>WD     </td><td>Normal </td><td>143000 </td></tr>\n",
       "</tbody>\n",
       "</table>\n"
      ],
      "text/latex": [
       "\\begin{tabular}{r|lllllllllllllllllllllllllllllllllllllllllllllllllllllllllllllllllllllllllllllllll}\n",
       " Id & MSSubClass & MSZoning & LotFrontage & LotArea & Street & Alley & LotShape & LandContour & Utilities & ... & PoolArea & PoolQC & Fence & MiscFeature & MiscVal & MoSold & YrSold & SaleType & SaleCondition & SalePrice\\\\\n",
       "\\hline\n",
       "\t 1       & 60      & RL      & 65      &  8450   & Pave    & NA      & Reg     & Lvl     & AllPub  & ...     & 0       & NA      & NA      & NA      &   0     &  2      & 2008    & WD      & Normal  & 208500 \\\\\n",
       "\t 2       & 20      & RL      & 80      &  9600   & Pave    & NA      & Reg     & Lvl     & AllPub  & ...     & 0       & NA      & NA      & NA      &   0     &  5      & 2007    & WD      & Normal  & 181500 \\\\\n",
       "\t 3       & 60      & RL      & 68      & 11250   & Pave    & NA      & IR1     & Lvl     & AllPub  & ...     & 0       & NA      & NA      & NA      &   0     &  9      & 2008    & WD      & Normal  & 223500 \\\\\n",
       "\t 4       & 70      & RL      & 60      &  9550   & Pave    & NA      & IR1     & Lvl     & AllPub  & ...     & 0       & NA      & NA      & NA      &   0     &  2      & 2006    & WD      & Abnorml & 140000 \\\\\n",
       "\t 5       & 60      & RL      & 84      & 14260   & Pave    & NA      & IR1     & Lvl     & AllPub  & ...     & 0       & NA      & NA      & NA      &   0     & 12      & 2008    & WD      & Normal  & 250000 \\\\\n",
       "\t 6       & 50      & RL      & 85      & 14115   & Pave    & NA      & IR1     & Lvl     & AllPub  & ...     & 0       & NA      & MnPrv   & Shed    & 700     & 10      & 2009    & WD      & Normal  & 143000 \\\\\n",
       "\\end{tabular}\n"
      ],
      "text/markdown": [
       "\n",
       "| Id | MSSubClass | MSZoning | LotFrontage | LotArea | Street | Alley | LotShape | LandContour | Utilities | ... | PoolArea | PoolQC | Fence | MiscFeature | MiscVal | MoSold | YrSold | SaleType | SaleCondition | SalePrice |\n",
       "|---|---|---|---|---|---|---|---|---|---|---|---|---|---|---|---|---|---|---|---|---|\n",
       "| 1       | 60      | RL      | 65      |  8450   | Pave    | NA      | Reg     | Lvl     | AllPub  | ...     | 0       | NA      | NA      | NA      |   0     |  2      | 2008    | WD      | Normal  | 208500  |\n",
       "| 2       | 20      | RL      | 80      |  9600   | Pave    | NA      | Reg     | Lvl     | AllPub  | ...     | 0       | NA      | NA      | NA      |   0     |  5      | 2007    | WD      | Normal  | 181500  |\n",
       "| 3       | 60      | RL      | 68      | 11250   | Pave    | NA      | IR1     | Lvl     | AllPub  | ...     | 0       | NA      | NA      | NA      |   0     |  9      | 2008    | WD      | Normal  | 223500  |\n",
       "| 4       | 70      | RL      | 60      |  9550   | Pave    | NA      | IR1     | Lvl     | AllPub  | ...     | 0       | NA      | NA      | NA      |   0     |  2      | 2006    | WD      | Abnorml | 140000  |\n",
       "| 5       | 60      | RL      | 84      | 14260   | Pave    | NA      | IR1     | Lvl     | AllPub  | ...     | 0       | NA      | NA      | NA      |   0     | 12      | 2008    | WD      | Normal  | 250000  |\n",
       "| 6       | 50      | RL      | 85      | 14115   | Pave    | NA      | IR1     | Lvl     | AllPub  | ...     | 0       | NA      | MnPrv   | Shed    | 700     | 10      | 2009    | WD      | Normal  | 143000  |\n",
       "\n"
      ],
      "text/plain": [
       "  Id MSSubClass MSZoning LotFrontage LotArea Street Alley LotShape LandContour\n",
       "1 1  60         RL       65           8450   Pave   NA    Reg      Lvl        \n",
       "2 2  20         RL       80           9600   Pave   NA    Reg      Lvl        \n",
       "3 3  60         RL       68          11250   Pave   NA    IR1      Lvl        \n",
       "4 4  70         RL       60           9550   Pave   NA    IR1      Lvl        \n",
       "5 5  60         RL       84          14260   Pave   NA    IR1      Lvl        \n",
       "6 6  50         RL       85          14115   Pave   NA    IR1      Lvl        \n",
       "  Utilities ... PoolArea PoolQC Fence MiscFeature MiscVal MoSold YrSold\n",
       "1 AllPub    ... 0        NA     NA    NA            0      2     2008  \n",
       "2 AllPub    ... 0        NA     NA    NA            0      5     2007  \n",
       "3 AllPub    ... 0        NA     NA    NA            0      9     2008  \n",
       "4 AllPub    ... 0        NA     NA    NA            0      2     2006  \n",
       "5 AllPub    ... 0        NA     NA    NA            0     12     2008  \n",
       "6 AllPub    ... 0        NA     MnPrv Shed        700     10     2009  \n",
       "  SaleType SaleCondition SalePrice\n",
       "1 WD       Normal        208500   \n",
       "2 WD       Normal        181500   \n",
       "3 WD       Normal        223500   \n",
       "4 WD       Abnorml       140000   \n",
       "5 WD       Normal        250000   \n",
       "6 WD       Normal        143000   "
      ]
     },
     "metadata": {},
     "output_type": "display_data"
    }
   ],
   "source": [
    "dim(houses)\n",
    "head(houses)"
   ]
  },
  {
   "cell_type": "markdown",
   "metadata": {},
   "source": [
    "### So we have 1460 instances of houses, with 81 total features. Looking at the data, it appears there are a lot of features with a significant number missing entries (e.g. Allet, PoolQC, Fence, MiscFeature, etc). Now, most packages with convenient linear models cannot handle NA entries, so we will need to do some preprocessing here. First, let us see how widespread missing values are in the data set as a whole:"
   ]
  },
  {
   "cell_type": "code",
   "execution_count": 3,
   "metadata": {},
   "outputs": [
    {
     "name": "stdout",
     "output_type": "stream",
     "text": [
      "[1] \"Percentage of missing values in data set:  5.88956536445121\"\n"
     ]
    }
   ],
   "source": [
    "print(paste('Percentage of missing values in data set: ',mean(is.na(houses)) * 100))"
   ]
  },
  {
   "cell_type": "markdown",
   "metadata": {},
   "source": [
    "### Ok, only 6%, this is not too bad. Seeing as how certain columns appear to have many missing values, we guess that most columns likely have few or no missing values, but, either way, we need to find some kind of solution - possibly eliminate columns with too many missing values, deal with all other missing values in some way. We start by finding which columns have missing values (MissValCol) and then counting the number of values in each column and listing them in decreasing order"
   ]
  },
  {
   "cell_type": "code",
   "execution_count": 4,
   "metadata": {},
   "outputs": [
    {
     "data": {
      "text/html": [
       "<dl class=dl-horizontal>\n",
       "\t<dt>PoolQC</dt>\n",
       "\t\t<dd>1453</dd>\n",
       "\t<dt>MiscFeature</dt>\n",
       "\t\t<dd>1406</dd>\n",
       "\t<dt>Alley</dt>\n",
       "\t\t<dd>1369</dd>\n",
       "\t<dt>Fence</dt>\n",
       "\t\t<dd>1179</dd>\n",
       "\t<dt>FireplaceQu</dt>\n",
       "\t\t<dd>690</dd>\n",
       "\t<dt>LotFrontage</dt>\n",
       "\t\t<dd>259</dd>\n",
       "\t<dt>GarageType</dt>\n",
       "\t\t<dd>81</dd>\n",
       "\t<dt>GarageYrBlt</dt>\n",
       "\t\t<dd>81</dd>\n",
       "\t<dt>GarageFinish</dt>\n",
       "\t\t<dd>81</dd>\n",
       "\t<dt>GarageQual</dt>\n",
       "\t\t<dd>81</dd>\n",
       "\t<dt>GarageCond</dt>\n",
       "\t\t<dd>81</dd>\n",
       "\t<dt>BsmtExposure</dt>\n",
       "\t\t<dd>38</dd>\n",
       "\t<dt>BsmtFinType2</dt>\n",
       "\t\t<dd>38</dd>\n",
       "\t<dt>BsmtQual</dt>\n",
       "\t\t<dd>37</dd>\n",
       "\t<dt>BsmtCond</dt>\n",
       "\t\t<dd>37</dd>\n",
       "\t<dt>BsmtFinType1</dt>\n",
       "\t\t<dd>37</dd>\n",
       "\t<dt>MasVnrType</dt>\n",
       "\t\t<dd>8</dd>\n",
       "\t<dt>MasVnrArea</dt>\n",
       "\t\t<dd>8</dd>\n",
       "\t<dt>Electrical</dt>\n",
       "\t\t<dd>1</dd>\n",
       "</dl>\n"
      ],
      "text/latex": [
       "\\begin{description*}\n",
       "\\item[PoolQC] 1453\n",
       "\\item[MiscFeature] 1406\n",
       "\\item[Alley] 1369\n",
       "\\item[Fence] 1179\n",
       "\\item[FireplaceQu] 690\n",
       "\\item[LotFrontage] 259\n",
       "\\item[GarageType] 81\n",
       "\\item[GarageYrBlt] 81\n",
       "\\item[GarageFinish] 81\n",
       "\\item[GarageQual] 81\n",
       "\\item[GarageCond] 81\n",
       "\\item[BsmtExposure] 38\n",
       "\\item[BsmtFinType2] 38\n",
       "\\item[BsmtQual] 37\n",
       "\\item[BsmtCond] 37\n",
       "\\item[BsmtFinType1] 37\n",
       "\\item[MasVnrType] 8\n",
       "\\item[MasVnrArea] 8\n",
       "\\item[Electrical] 1\n",
       "\\end{description*}\n"
      ],
      "text/markdown": [
       "PoolQC\n",
       ":   1453MiscFeature\n",
       ":   1406Alley\n",
       ":   1369Fence\n",
       ":   1179FireplaceQu\n",
       ":   690LotFrontage\n",
       ":   259GarageType\n",
       ":   81GarageYrBlt\n",
       ":   81GarageFinish\n",
       ":   81GarageQual\n",
       ":   81GarageCond\n",
       ":   81BsmtExposure\n",
       ":   38BsmtFinType2\n",
       ":   38BsmtQual\n",
       ":   37BsmtCond\n",
       ":   37BsmtFinType1\n",
       ":   37MasVnrType\n",
       ":   8MasVnrArea\n",
       ":   8Electrical\n",
       ":   1\n",
       "\n"
      ],
      "text/plain": [
       "      PoolQC  MiscFeature        Alley        Fence  FireplaceQu  LotFrontage \n",
       "        1453         1406         1369         1179          690          259 \n",
       "  GarageType  GarageYrBlt GarageFinish   GarageQual   GarageCond BsmtExposure \n",
       "          81           81           81           81           81           38 \n",
       "BsmtFinType2     BsmtQual     BsmtCond BsmtFinType1   MasVnrType   MasVnrArea \n",
       "          38           37           37           37            8            8 \n",
       "  Electrical \n",
       "           1 "
      ]
     },
     "metadata": {},
     "output_type": "display_data"
    }
   ],
   "source": [
    "MissValCol <- which(colSums(is.na(houses)) > 0)\n",
    "sort(colSums(sapply(houses[MissValCol], is.na)), decreasing = TRUE)"
   ]
  },
  {
   "cell_type": "markdown",
   "metadata": {},
   "source": [
    "# Features with Quality or Condition-type scale\n",
    "\n",
    "### Ok, this tells us a lot of information. First, we have a lot of \"quality\" variables - PoolQC, GarageQual, BsmtQual, etc. As the data guide for GarageQual explains:\n",
    "\n",
    "GarageCond: Garage condition\n",
    "\n",
    "       Ex\tExcellent\n",
    "       Gd\tGood\n",
    "       TA\tTypical/Average\n",
    "       Fa\tFair\n",
    "       Po\tPoor\n",
    "       NA\tNo Garage\n",
    "       \n",
    "### Which makes sense, NA corresponds to no garage at all. Similarly, NA for PoolQC corresponds to no pool, NA for FireplaceQual corresponds to no fireplace, etc. Now, we want to encode these different quality features with some sort of numerical scale, we will do it in the obvious scale NA <- 0, Po <- 1, Fa <- 2, ..., Ex <- 5. Now, to assign 0 to NA, we need to change it to a string first for all these types of features. Going through the data guide (simply searching for 'Gd' does the trick), we find these features are ExterQual, ExterCond, BsmtQual, BsmtCond, HeatingQC, KitchenQual, FireplaceQu, GarageQual, GarageCond, PoolQC.\n",
    "\n",
    "### First, we need to replace NA with 'No'. Looking at our list of columns that have missing values, we only need to do this for BsmtQual, BsmtCond, FireplaceQu, GarageQual, GarageCond, and PoolQC:"
   ]
  },
  {
   "cell_type": "code",
   "execution_count": 5,
   "metadata": {},
   "outputs": [],
   "source": [
    "houses$BsmtQual[is.na(houses$BsmtQual)] <- 'No'\n",
    "houses$BsmtCond[is.na(houses$BsmtCond)] <- 'No'\n",
    "houses$FireplaceQu[is.na(houses$FireplaceQu)] <- 'No'\n",
    "houses$GarageQual[is.na(houses$GarageQual)] <- 'No'\n",
    "houses$GarageCond[is.na(houses$GarageCond)] <- 'No'\n",
    "houses$PoolQC[is.na(houses$PoolQC)] <- 'No'"
   ]
  },
  {
   "cell_type": "markdown",
   "metadata": {},
   "source": [
    "### Now we create a vector of equivalent numerical values for each string is order to encode them with revalue, which is a handy method for encoding available in the plyr package (which we loaded earlier). We do this for all variables with this clear numerical scale equivalent, even those that didn't have missing values. "
   ]
  },
  {
   "cell_type": "code",
   "execution_count": 6,
   "metadata": {},
   "outputs": [
    {
     "name": "stderr",
     "output_type": "stream",
     "text": [
      "The following `from` values were not present in `x`: No, Po\n",
      "The following `from` values were not present in `x`: No\n",
      "The following `from` values were not present in `x`: Po\n",
      "The following `from` values were not present in `x`: Ex\n",
      "The following `from` values were not present in `x`: No\n",
      "The following `from` values were not present in `x`: No, Po\n",
      "The following `from` values were not present in `x`: Po, TA\n"
     ]
    }
   ],
   "source": [
    "values <- c('No' = 0, 'Po' = 1, 'Fa' = 2, 'TA' = 3, 'Gd' = 4, 'Ex' = 5)\n",
    "\n",
    "houses$ExterQual<-as.integer(revalue(houses$ExterQual, values))\n",
    "houses$ExterCond<-as.integer(revalue(houses$ExterCond, values))\n",
    "houses$BsmtQual<-as.integer(revalue(houses$BsmtQual, values))\n",
    "houses$BsmtCond<-as.integer(revalue(houses$BsmtCond, values))\n",
    "houses$HeatingQC<-as.integer(revalue(houses$HeatingQC, values))\n",
    "houses$KitchenQual<-as.integer(revalue(houses$KitchenQual, values))\n",
    "houses$FireplaceQu<-as.integer(revalue(houses$FireplaceQu, values))\n",
    "houses$GarageQual<-as.integer(revalue(houses$GarageQual, values))\n",
    "houses$GarageCond<-as.integer(revalue(houses$GarageCond, values))\n",
    "houses$PoolQC<-as.integer(revalue(houses$PoolQC, values))"
   ]
  },
  {
   "cell_type": "markdown",
   "metadata": {},
   "source": [
    "### Great, let us see which columns with missing values remain"
   ]
  },
  {
   "cell_type": "code",
   "execution_count": 7,
   "metadata": {},
   "outputs": [
    {
     "data": {
      "text/html": [
       "<dl class=dl-horizontal>\n",
       "\t<dt>MiscFeature</dt>\n",
       "\t\t<dd>1406</dd>\n",
       "\t<dt>Alley</dt>\n",
       "\t\t<dd>1369</dd>\n",
       "\t<dt>Fence</dt>\n",
       "\t\t<dd>1179</dd>\n",
       "\t<dt>LotFrontage</dt>\n",
       "\t\t<dd>259</dd>\n",
       "\t<dt>GarageType</dt>\n",
       "\t\t<dd>81</dd>\n",
       "\t<dt>GarageYrBlt</dt>\n",
       "\t\t<dd>81</dd>\n",
       "\t<dt>GarageFinish</dt>\n",
       "\t\t<dd>81</dd>\n",
       "\t<dt>BsmtExposure</dt>\n",
       "\t\t<dd>38</dd>\n",
       "\t<dt>BsmtFinType2</dt>\n",
       "\t\t<dd>38</dd>\n",
       "\t<dt>BsmtFinType1</dt>\n",
       "\t\t<dd>37</dd>\n",
       "\t<dt>MasVnrType</dt>\n",
       "\t\t<dd>8</dd>\n",
       "\t<dt>MasVnrArea</dt>\n",
       "\t\t<dd>8</dd>\n",
       "\t<dt>Electrical</dt>\n",
       "\t\t<dd>1</dd>\n",
       "</dl>\n"
      ],
      "text/latex": [
       "\\begin{description*}\n",
       "\\item[MiscFeature] 1406\n",
       "\\item[Alley] 1369\n",
       "\\item[Fence] 1179\n",
       "\\item[LotFrontage] 259\n",
       "\\item[GarageType] 81\n",
       "\\item[GarageYrBlt] 81\n",
       "\\item[GarageFinish] 81\n",
       "\\item[BsmtExposure] 38\n",
       "\\item[BsmtFinType2] 38\n",
       "\\item[BsmtFinType1] 37\n",
       "\\item[MasVnrType] 8\n",
       "\\item[MasVnrArea] 8\n",
       "\\item[Electrical] 1\n",
       "\\end{description*}\n"
      ],
      "text/markdown": [
       "MiscFeature\n",
       ":   1406Alley\n",
       ":   1369Fence\n",
       ":   1179LotFrontage\n",
       ":   259GarageType\n",
       ":   81GarageYrBlt\n",
       ":   81GarageFinish\n",
       ":   81BsmtExposure\n",
       ":   38BsmtFinType2\n",
       ":   38BsmtFinType1\n",
       ":   37MasVnrType\n",
       ":   8MasVnrArea\n",
       ":   8Electrical\n",
       ":   1\n",
       "\n"
      ],
      "text/plain": [
       " MiscFeature        Alley        Fence  LotFrontage   GarageType  GarageYrBlt \n",
       "        1406         1369         1179          259           81           81 \n",
       "GarageFinish BsmtExposure BsmtFinType2 BsmtFinType1   MasVnrType   MasVnrArea \n",
       "          81           38           38           37            8            8 \n",
       "  Electrical \n",
       "           1 "
      ]
     },
     "metadata": {},
     "output_type": "display_data"
    }
   ],
   "source": [
    "MissValCol <- which(colSums(is.na(houses)) > 0)\n",
    "sort(colSums(sapply(houses[MissValCol], is.na)), decreasing = TRUE)"
   ]
  },
  {
   "cell_type": "markdown",
   "metadata": {},
   "source": [
    "# Turn categorical variables into factors\n",
    "\n",
    "### Now, a lot of these remaining variables are simple categorical variables that happen to have no value in the case where the house entity does not have a garage, basemnet, fence, alley, etc. Now, unlike the case of quality/condition features, there is not a clear numerical scale for the values in this case, nor is it always clear that not having a value should be penalized. For instance, should not having a masonry veneer type be worse than having one? Should not having an alley be worse than having one? The answer is not clear. However, we shouldn't ditch these columns entirely, as they likely have some effect. For certain features, such as MiscFeature, we will simply assign 'None' to missing values, then we will use them as factor variables in our linear model later (in the linear model we will use, factor variables are used to calculate the difference between a base model using all instances and the model if we only consider values with a given factor for the categorical variable. It essentially uses one-hot encoding on the factor values to select which difference from the base model will be applied when we are predicting SalePrice later on, but this happens \"under the hood\" in the package we will use). \n",
    "\n",
    "### While 'None' is meaningful in the context of MiscFeature, it is less so for other features. For instance, Electrical. It is extremely unlikely that a house doesn't  have some sort of electrical set-up. Additionally, in this specific case, there is only one NA value, so having a 'None' factor with only 1 instance would probably cause an error down the line. In this type of situation, it seems more reasonable to use the mode. We will justify which option we decide on above each feature below."
   ]
  },
  {
   "cell_type": "code",
   "execution_count": 8,
   "metadata": {},
   "outputs": [],
   "source": [
    "# None is a valid category here\n",
    "houses$MiscFeature[is.na(houses$MiscFeature)] <- 'None'\n",
    "# None means no alley (feature describes specific alley type)\n",
    "houses$Alley[is.na(houses$Alley)] <- 'None'\n",
    "# None means no fence (feature describes specific fence type)\n",
    "houses$Fence[is.na(houses$Fence)] <- 'None'\n",
    "# None means no garage (feature describes types of garage)\n",
    "houses$GarageType[is.na(houses$GarageType)] <- 'None'\n",
    "# None means no Masonry Veneer (feature describes type of masonry veneer)\n",
    "houses$MasVnrType[is.na(houses$MasVnrType)] <- 'None'\n",
    "\n",
    "# Here, 'None' is unlikely, since a house has some kind of electricity, so we assume it has the most common type of electrical set-up\n",
    "houses$Electrical[is.na(houses$Electrical)] <- names(sort(-table(houses$Electrical)))[1]"
   ]
  },
  {
   "cell_type": "markdown",
   "metadata": {},
   "source": [
    "### In addition to these variables, let us take a look at the data guide to see if there are any other categorical variables that we can use as factors in our regression model, then we will handle them all at once. A short explanation as to why the variable will be considered as a factor is provided over each variable"
   ]
  },
  {
   "cell_type": "code",
   "execution_count": 9,
   "metadata": {},
   "outputs": [],
   "source": [
    "# features from above\n",
    "houses$MiscFeature <- as.factor(houses$MiscFeature)\n",
    "houses$Alley <- as.factor(houses$Alley)\n",
    "houses$Fence <- as.factor(houses$Fence)\n",
    "houses$GarageType <- as.factor(houses$GarageType)\n",
    "houses$MasVnrType <- as.factor(houses$MasVnrType)\n",
    "\n",
    "# Type of house. Not easy to encode numerically\n",
    "houses$MSSubClass <- as.factor(houses$MSSubClass)\n",
    "# Describe the zoning of the property. No good numerical scale\n",
    "houses$MSZoning <- as.factor(houses$MSZoning)\n",
    "# It seems like this one could almost be quantified, but it is not clear how one could quantify 'banked' and\n",
    "# 'hillside' differently, or if one should be better than the other.\n",
    "houses$LandContour<-as.factor(houses$LandContour)\n",
    "# Includes many different types of lot, many of which are categorically different (not clear which should be better)\n",
    "houses$LotConfig <- as.factor(houses$LotConfig)\n",
    "# Some neighbourhoods tend to have bigger, nicer houses, and some land has higher value based on location\n",
    "houses$Neighborhood <- as.factor(houses$Neighborhood)\n",
    "# proximity to certain large roads and railroad tracks, it is clear that being close to a highway or railroad\n",
    "# might have a negative effect, but there is not a clear way to quantify this, so we will use factors\n",
    "houses$Condition1 <- as.factor(houses$Condition1)\n",
    "houses$Condition2 <- as.factor(houses$Condition2)\n",
    "# This one contains types such as 'duplex' and 'townhome'. Not clear which should be better, so we use factors\n",
    "houses$BldgType <- as.factor(houses$BldgType)\n",
    "# It seems like 2-story houses should be better than 1-story houses, but there are other types like 'Split foyer' and 'Split leve'\n",
    "# that are more difficult to quantify, so we will use factors\n",
    "houses$HouseStyle <- as.factor(houses$HouseStyle)\n",
    "# Various styles and materials for roofs. Not sure which should be better, so we go with factors\n",
    "houses$RoofStyle<-as.factor(houses$RoofStyle)\n",
    "houses$RoofMatl<-as.factor(houses$RoofMatl)\n",
    "# Various exterior types\n",
    "houses$Exterior1st <- as.factor(houses$Exterior1st)\n",
    "houses$Exterior2nd <- as.factor(houses$Exterior2nd)\n",
    "# Various foundation types\n",
    "houses$Foundation <- as.factor(houses$Foundation)\n",
    "# Various different types of heating - central forces air vs. radioator vs. floor furnace, etc.\n",
    "houses$Heating <- as.factor(houses$Heating)\n",
    "# Various different types of electrical systems / fuse boxes. Certain categories have a clear hierarchy, but not all do, so\n",
    "# we will handle it as a factor\n",
    "houses$Electrical <- as.factor(houses$Electrical)\n",
    "# Financial circumstances of sale, no clear scale so we will use factor\n",
    "houses$SaleType <- as.factor(houses$SaleType)\n",
    "# Lastly, the condition of the sale - relationship between the parties (between family, foreclosure, normal, etc) - clearly categorical\n",
    "houses$SaleCondition <- as.factor(houses$SaleCondition)"
   ]
  },
  {
   "cell_type": "markdown",
   "metadata": {},
   "source": [
    "### Now things get a little tricky. We are tempted to interpret month sold as a numerical scale, but that would only allow decreasing throughout the year and increasing throughout the year to be accurately modeled. In reality, there may be some seasonality to the value of home sales - e.g. more in the Spring, less in the Fall/Winter, or vice versa. We could model this by numbering the months and then trying to find some kind of polynomial model, but it is how to know which to choose (cubed? quadratic? maybe even quartic? would higher degree overfit data?). In such a case, we will just interpret month sold as a factor"
   ]
  },
  {
   "cell_type": "code",
   "execution_count": 10,
   "metadata": {},
   "outputs": [],
   "source": [
    "houses$MoSold <- as.factor(houses$MoSold)"
   ]
  },
  {
   "cell_type": "markdown",
   "metadata": {},
   "source": [
    "# YrSold\n",
    "\n",
    "### Additionally, I have my misgivings about YrSold that makes me hesitate interpreting it as a numerical variable for the purpose of a linear model. Let us take a look at its values"
   ]
  },
  {
   "cell_type": "code",
   "execution_count": 11,
   "metadata": {},
   "outputs": [
    {
     "data": {
      "text/html": [
       "<ol class=list-inline>\n",
       "\t<li>2008</li>\n",
       "\t<li>2007</li>\n",
       "\t<li>2006</li>\n",
       "\t<li>2009</li>\n",
       "\t<li>2010</li>\n",
       "</ol>\n"
      ],
      "text/latex": [
       "\\begin{enumerate*}\n",
       "\\item 2008\n",
       "\\item 2007\n",
       "\\item 2006\n",
       "\\item 2009\n",
       "\\item 2010\n",
       "\\end{enumerate*}\n"
      ],
      "text/markdown": [
       "1. 2008\n",
       "2. 2007\n",
       "3. 2006\n",
       "4. 2009\n",
       "5. 2010\n",
       "\n",
       "\n"
      ],
      "text/plain": [
       "[1] 2008 2007 2006 2009 2010"
      ]
     },
     "metadata": {},
     "output_type": "display_data"
    }
   ],
   "source": [
    "unique(houses$YrSold)"
   ]
  },
  {
   "cell_type": "markdown",
   "metadata": {},
   "source": [
    "### Ok, this is a relatively should period, so we are tempted to think that a trend in housing prices would persist in one direction or the other across the entire period and so we could possibly interpret this as a quantitative variable. That, however, would be a mistake in this case, since the period in question in right during the collapse of the U.S. housing bubble in 2006. Looking at the Wikipedia page for the bubble (https://en.wikipedia.org/wiki/United_States_housing_bubble), we see that homes in IA hadn't gained as much value as houses on the coasts during the preceding period.\n",
    "\n",
    "<img src=\"1.png\" width=\"600\">\n",
    "\n",
    "### However, the market collapse likely still affected the IA housing market in some way. Now, was the decrease in value linear? That is the important question (if it is, we can interpret YrSold numerically). Further down on the Wikipedia page, we find the following graph:\n",
    "\n",
    "<img src=\"2.png\" width=\"400\">\n",
    "\n",
    "### That is, in 2006, prices started to dip, in 2007, they fell a little, and a real drop-off occurred in 2008 before dipping a little more and levelling off in 2009 and 2010. It would be hard to model this polynomially (strangely shaped curve), so we think the best way to proceed will be to interpret YrSold as a factor. This will also allow us to account for the sharply negative trend of sale price over the course of 2008, since using factors essentially runs the regression separately for each group and can account for these differing trends for each year."
   ]
  },
  {
   "cell_type": "code",
   "execution_count": 12,
   "metadata": {},
   "outputs": [],
   "source": [
    "houses$YrSold <- as.factor(houses$YrSold)"
   ]
  },
  {
   "cell_type": "markdown",
   "metadata": {},
   "source": [
    "### Alright, let's see where we are at with features with missing variables:"
   ]
  },
  {
   "cell_type": "code",
   "execution_count": 13,
   "metadata": {},
   "outputs": [
    {
     "data": {
      "text/html": [
       "<dl class=dl-horizontal>\n",
       "\t<dt>LotFrontage</dt>\n",
       "\t\t<dd>259</dd>\n",
       "\t<dt>GarageYrBlt</dt>\n",
       "\t\t<dd>81</dd>\n",
       "\t<dt>GarageFinish</dt>\n",
       "\t\t<dd>81</dd>\n",
       "\t<dt>BsmtExposure</dt>\n",
       "\t\t<dd>38</dd>\n",
       "\t<dt>BsmtFinType2</dt>\n",
       "\t\t<dd>38</dd>\n",
       "\t<dt>BsmtFinType1</dt>\n",
       "\t\t<dd>37</dd>\n",
       "\t<dt>MasVnrArea</dt>\n",
       "\t\t<dd>8</dd>\n",
       "</dl>\n"
      ],
      "text/latex": [
       "\\begin{description*}\n",
       "\\item[LotFrontage] 259\n",
       "\\item[GarageYrBlt] 81\n",
       "\\item[GarageFinish] 81\n",
       "\\item[BsmtExposure] 38\n",
       "\\item[BsmtFinType2] 38\n",
       "\\item[BsmtFinType1] 37\n",
       "\\item[MasVnrArea] 8\n",
       "\\end{description*}\n"
      ],
      "text/markdown": [
       "LotFrontage\n",
       ":   259GarageYrBlt\n",
       ":   81GarageFinish\n",
       ":   81BsmtExposure\n",
       ":   38BsmtFinType2\n",
       ":   38BsmtFinType1\n",
       ":   37MasVnrArea\n",
       ":   8\n",
       "\n"
      ],
      "text/plain": [
       " LotFrontage  GarageYrBlt GarageFinish BsmtExposure BsmtFinType2 BsmtFinType1 \n",
       "         259           81           81           38           38           37 \n",
       "  MasVnrArea \n",
       "           8 "
      ]
     },
     "metadata": {},
     "output_type": "display_data"
    }
   ],
   "source": [
    "MissValCol <- which(colSums(is.na(houses)) > 0)\n",
    "sort(colSums(sapply(houses[MissValCol], is.na)), decreasing = TRUE)"
   ]
  },
  {
   "cell_type": "markdown",
   "metadata": {},
   "source": [
    "# GarageYrBuilt\n",
    "\n",
    "### Ok, let us take care of these one-by-one. If there is no value for GarageYrBlt, it is not impossible that the garage was build or added after the home was built. Let us see how common this is."
   ]
  },
  {
   "cell_type": "code",
   "execution_count": 14,
   "metadata": {
    "scrolled": true
   },
   "outputs": [
    {
     "data": {
      "text/html": [
       "<table>\n",
       "<thead><tr><th scope=col>YearBuilt</th><th scope=col>YearRemodAdd</th><th scope=col>GarageYrBlt</th></tr></thead>\n",
       "<tbody>\n",
       "\t<tr><td>1915</td><td>1970</td><td>1998</td></tr>\n",
       "\t<tr><td>1929</td><td>2001</td><td>1991</td></tr>\n",
       "\t<tr><td>1951</td><td>2000</td><td>2005</td></tr>\n",
       "\t<tr><td>2007</td><td>2008</td><td>2008</td></tr>\n",
       "\t<tr><td>1927</td><td>1950</td><td>1920</td></tr>\n",
       "\t<tr><td>1994</td><td>1995</td><td>1995</td></tr>\n",
       "\t<tr><td>  NA</td><td>  NA</td><td>  NA</td></tr>\n",
       "\t<tr><td>1975</td><td>1980</td><td>1977</td></tr>\n",
       "\t<tr><td>  NA</td><td>  NA</td><td>  NA</td></tr>\n",
       "\t<tr><td>1934</td><td>1950</td><td>1985</td></tr>\n",
       "\t<tr><td>1955</td><td>1955</td><td>1962</td></tr>\n",
       "\t<tr><td>1972</td><td>1972</td><td>1973</td></tr>\n",
       "\t<tr><td>2004</td><td>2004</td><td>2006</td></tr>\n",
       "\t<tr><td>1920</td><td>1996</td><td>1935</td></tr>\n",
       "\t<tr><td>1921</td><td>1950</td><td>1990</td></tr>\n",
       "\t<tr><td>1997</td><td>1998</td><td>1998</td></tr>\n",
       "\t<tr><td>1982</td><td>2006</td><td>1987</td></tr>\n",
       "\t<tr><td>1954</td><td>2003</td><td>1989</td></tr>\n",
       "\t<tr><td>  NA</td><td>  NA</td><td>  NA</td></tr>\n",
       "\t<tr><td>1910</td><td>1981</td><td>1966</td></tr>\n",
       "\t<tr><td>1960</td><td>1960</td><td>1974</td></tr>\n",
       "\t<tr><td>  NA</td><td>  NA</td><td>  NA</td></tr>\n",
       "\t<tr><td>  NA</td><td>  NA</td><td>  NA</td></tr>\n",
       "\t<tr><td>1910</td><td>1998</td><td>1900</td></tr>\n",
       "\t<tr><td>  NA</td><td>  NA</td><td>  NA</td></tr>\n",
       "\t<tr><td>1931</td><td>1950</td><td>1951</td></tr>\n",
       "\t<tr><td>1885</td><td>1995</td><td>1954</td></tr>\n",
       "\t<tr><td>  NA</td><td>  NA</td><td>  NA</td></tr>\n",
       "\t<tr><td>2006</td><td>2007</td><td>2007</td></tr>\n",
       "\t<tr><td>1939</td><td>1950</td><td>1979</td></tr>\n",
       "\t<tr><td>...</td><td>...</td><td>...</td></tr>\n",
       "\t<tr><td>1920</td><td>1950</td><td>1967</td></tr>\n",
       "\t<tr><td>1930</td><td>1950</td><td>1925</td></tr>\n",
       "\t<tr><td>1941</td><td>1960</td><td>1977</td></tr>\n",
       "\t<tr><td>2006</td><td>2007</td><td>2007</td></tr>\n",
       "\t<tr><td>1914</td><td>1950</td><td>1938</td></tr>\n",
       "\t<tr><td>1920</td><td>1950</td><td>1989</td></tr>\n",
       "\t<tr><td>1918</td><td>2007</td><td>2007</td></tr>\n",
       "\t<tr><td>1941</td><td>1950</td><td>2003</td></tr>\n",
       "\t<tr><td>1905</td><td>2000</td><td>2003</td></tr>\n",
       "\t<tr><td>1948</td><td>1950</td><td>1966</td></tr>\n",
       "\t<tr><td>1920</td><td>2004</td><td>1933</td></tr>\n",
       "\t<tr><td>1915</td><td>1950</td><td>1998</td></tr>\n",
       "\t<tr><td>1972</td><td>2007</td><td>1988</td></tr>\n",
       "\t<tr><td>  NA</td><td>  NA</td><td>  NA</td></tr>\n",
       "\t<tr><td>1910</td><td>1950</td><td>1966</td></tr>\n",
       "\t<tr><td>1949</td><td>1950</td><td>1956</td></tr>\n",
       "\t<tr><td>1923</td><td>2000</td><td>1922</td></tr>\n",
       "\t<tr><td>1885</td><td>1950</td><td>1971</td></tr>\n",
       "\t<tr><td>1963</td><td>1963</td><td>1962</td></tr>\n",
       "\t<tr><td>1958</td><td>1983</td><td>1970</td></tr>\n",
       "\t<tr><td>1959</td><td>1959</td><td>1960</td></tr>\n",
       "\t<tr><td>1945</td><td>1950</td><td>1962</td></tr>\n",
       "\t<tr><td>1927</td><td>2007</td><td>1928</td></tr>\n",
       "\t<tr><td>1971</td><td>1971</td><td>1974</td></tr>\n",
       "\t<tr><td>1922</td><td>1994</td><td>1993</td></tr>\n",
       "\t<tr><td>1966</td><td>1966</td><td>1990</td></tr>\n",
       "\t<tr><td>1910</td><td>2000</td><td>1950</td></tr>\n",
       "\t<tr><td>  NA</td><td>  NA</td><td>  NA</td></tr>\n",
       "\t<tr><td>  NA</td><td>  NA</td><td>  NA</td></tr>\n",
       "\t<tr><td>  NA</td><td>  NA</td><td>  NA</td></tr>\n",
       "</tbody>\n",
       "</table>\n"
      ],
      "text/latex": [
       "\\begin{tabular}{r|lll}\n",
       " YearBuilt & YearRemodAdd & GarageYrBlt\\\\\n",
       "\\hline\n",
       "\t 1915 & 1970 & 1998\\\\\n",
       "\t 1929 & 2001 & 1991\\\\\n",
       "\t 1951 & 2000 & 2005\\\\\n",
       "\t 2007 & 2008 & 2008\\\\\n",
       "\t 1927 & 1950 & 1920\\\\\n",
       "\t 1994 & 1995 & 1995\\\\\n",
       "\t   NA &   NA &   NA\\\\\n",
       "\t 1975 & 1980 & 1977\\\\\n",
       "\t   NA &   NA &   NA\\\\\n",
       "\t 1934 & 1950 & 1985\\\\\n",
       "\t 1955 & 1955 & 1962\\\\\n",
       "\t 1972 & 1972 & 1973\\\\\n",
       "\t 2004 & 2004 & 2006\\\\\n",
       "\t 1920 & 1996 & 1935\\\\\n",
       "\t 1921 & 1950 & 1990\\\\\n",
       "\t 1997 & 1998 & 1998\\\\\n",
       "\t 1982 & 2006 & 1987\\\\\n",
       "\t 1954 & 2003 & 1989\\\\\n",
       "\t   NA &   NA &   NA\\\\\n",
       "\t 1910 & 1981 & 1966\\\\\n",
       "\t 1960 & 1960 & 1974\\\\\n",
       "\t   NA &   NA &   NA\\\\\n",
       "\t   NA &   NA &   NA\\\\\n",
       "\t 1910 & 1998 & 1900\\\\\n",
       "\t   NA &   NA &   NA\\\\\n",
       "\t 1931 & 1950 & 1951\\\\\n",
       "\t 1885 & 1995 & 1954\\\\\n",
       "\t   NA &   NA &   NA\\\\\n",
       "\t 2006 & 2007 & 2007\\\\\n",
       "\t 1939 & 1950 & 1979\\\\\n",
       "\t ... & ... & ...\\\\\n",
       "\t 1920 & 1950 & 1967\\\\\n",
       "\t 1930 & 1950 & 1925\\\\\n",
       "\t 1941 & 1960 & 1977\\\\\n",
       "\t 2006 & 2007 & 2007\\\\\n",
       "\t 1914 & 1950 & 1938\\\\\n",
       "\t 1920 & 1950 & 1989\\\\\n",
       "\t 1918 & 2007 & 2007\\\\\n",
       "\t 1941 & 1950 & 2003\\\\\n",
       "\t 1905 & 2000 & 2003\\\\\n",
       "\t 1948 & 1950 & 1966\\\\\n",
       "\t 1920 & 2004 & 1933\\\\\n",
       "\t 1915 & 1950 & 1998\\\\\n",
       "\t 1972 & 2007 & 1988\\\\\n",
       "\t   NA &   NA &   NA\\\\\n",
       "\t 1910 & 1950 & 1966\\\\\n",
       "\t 1949 & 1950 & 1956\\\\\n",
       "\t 1923 & 2000 & 1922\\\\\n",
       "\t 1885 & 1950 & 1971\\\\\n",
       "\t 1963 & 1963 & 1962\\\\\n",
       "\t 1958 & 1983 & 1970\\\\\n",
       "\t 1959 & 1959 & 1960\\\\\n",
       "\t 1945 & 1950 & 1962\\\\\n",
       "\t 1927 & 2007 & 1928\\\\\n",
       "\t 1971 & 1971 & 1974\\\\\n",
       "\t 1922 & 1994 & 1993\\\\\n",
       "\t 1966 & 1966 & 1990\\\\\n",
       "\t 1910 & 2000 & 1950\\\\\n",
       "\t   NA &   NA &   NA\\\\\n",
       "\t   NA &   NA &   NA\\\\\n",
       "\t   NA &   NA &   NA\\\\\n",
       "\\end{tabular}\n"
      ],
      "text/markdown": [
       "\n",
       "| YearBuilt | YearRemodAdd | GarageYrBlt |\n",
       "|---|---|---|\n",
       "| 1915 | 1970 | 1998 |\n",
       "| 1929 | 2001 | 1991 |\n",
       "| 1951 | 2000 | 2005 |\n",
       "| 2007 | 2008 | 2008 |\n",
       "| 1927 | 1950 | 1920 |\n",
       "| 1994 | 1995 | 1995 |\n",
       "|   NA |   NA |   NA |\n",
       "| 1975 | 1980 | 1977 |\n",
       "|   NA |   NA |   NA |\n",
       "| 1934 | 1950 | 1985 |\n",
       "| 1955 | 1955 | 1962 |\n",
       "| 1972 | 1972 | 1973 |\n",
       "| 2004 | 2004 | 2006 |\n",
       "| 1920 | 1996 | 1935 |\n",
       "| 1921 | 1950 | 1990 |\n",
       "| 1997 | 1998 | 1998 |\n",
       "| 1982 | 2006 | 1987 |\n",
       "| 1954 | 2003 | 1989 |\n",
       "|   NA |   NA |   NA |\n",
       "| 1910 | 1981 | 1966 |\n",
       "| 1960 | 1960 | 1974 |\n",
       "|   NA |   NA |   NA |\n",
       "|   NA |   NA |   NA |\n",
       "| 1910 | 1998 | 1900 |\n",
       "|   NA |   NA |   NA |\n",
       "| 1931 | 1950 | 1951 |\n",
       "| 1885 | 1995 | 1954 |\n",
       "|   NA |   NA |   NA |\n",
       "| 2006 | 2007 | 2007 |\n",
       "| 1939 | 1950 | 1979 |\n",
       "| ... | ... | ... |\n",
       "| 1920 | 1950 | 1967 |\n",
       "| 1930 | 1950 | 1925 |\n",
       "| 1941 | 1960 | 1977 |\n",
       "| 2006 | 2007 | 2007 |\n",
       "| 1914 | 1950 | 1938 |\n",
       "| 1920 | 1950 | 1989 |\n",
       "| 1918 | 2007 | 2007 |\n",
       "| 1941 | 1950 | 2003 |\n",
       "| 1905 | 2000 | 2003 |\n",
       "| 1948 | 1950 | 1966 |\n",
       "| 1920 | 2004 | 1933 |\n",
       "| 1915 | 1950 | 1998 |\n",
       "| 1972 | 2007 | 1988 |\n",
       "|   NA |   NA |   NA |\n",
       "| 1910 | 1950 | 1966 |\n",
       "| 1949 | 1950 | 1956 |\n",
       "| 1923 | 2000 | 1922 |\n",
       "| 1885 | 1950 | 1971 |\n",
       "| 1963 | 1963 | 1962 |\n",
       "| 1958 | 1983 | 1970 |\n",
       "| 1959 | 1959 | 1960 |\n",
       "| 1945 | 1950 | 1962 |\n",
       "| 1927 | 2007 | 1928 |\n",
       "| 1971 | 1971 | 1974 |\n",
       "| 1922 | 1994 | 1993 |\n",
       "| 1966 | 1966 | 1990 |\n",
       "| 1910 | 2000 | 1950 |\n",
       "|   NA |   NA |   NA |\n",
       "|   NA |   NA |   NA |\n",
       "|   NA |   NA |   NA |\n",
       "\n"
      ],
      "text/plain": [
       "    YearBuilt YearRemodAdd GarageYrBlt\n",
       "1   1915      1970         1998       \n",
       "2   1929      2001         1991       \n",
       "3   1951      2000         2005       \n",
       "4   2007      2008         2008       \n",
       "5   1927      1950         1920       \n",
       "6   1994      1995         1995       \n",
       "7     NA        NA           NA       \n",
       "8   1975      1980         1977       \n",
       "9     NA        NA           NA       \n",
       "10  1934      1950         1985       \n",
       "11  1955      1955         1962       \n",
       "12  1972      1972         1973       \n",
       "13  2004      2004         2006       \n",
       "14  1920      1996         1935       \n",
       "15  1921      1950         1990       \n",
       "16  1997      1998         1998       \n",
       "17  1982      2006         1987       \n",
       "18  1954      2003         1989       \n",
       "19    NA        NA           NA       \n",
       "20  1910      1981         1966       \n",
       "21  1960      1960         1974       \n",
       "22    NA        NA           NA       \n",
       "23    NA        NA           NA       \n",
       "24  1910      1998         1900       \n",
       "25    NA        NA           NA       \n",
       "26  1931      1950         1951       \n",
       "27  1885      1995         1954       \n",
       "28    NA        NA           NA       \n",
       "29  2006      2007         2007       \n",
       "30  1939      1950         1979       \n",
       "... ...       ...          ...        \n",
       "342 1920      1950         1967       \n",
       "343 1930      1950         1925       \n",
       "344 1941      1960         1977       \n",
       "345 2006      2007         2007       \n",
       "346 1914      1950         1938       \n",
       "347 1920      1950         1989       \n",
       "348 1918      2007         2007       \n",
       "349 1941      1950         2003       \n",
       "350 1905      2000         2003       \n",
       "351 1948      1950         1966       \n",
       "352 1920      2004         1933       \n",
       "353 1915      1950         1998       \n",
       "354 1972      2007         1988       \n",
       "355   NA        NA           NA       \n",
       "356 1910      1950         1966       \n",
       "357 1949      1950         1956       \n",
       "358 1923      2000         1922       \n",
       "359 1885      1950         1971       \n",
       "360 1963      1963         1962       \n",
       "361 1958      1983         1970       \n",
       "362 1959      1959         1960       \n",
       "363 1945      1950         1962       \n",
       "364 1927      2007         1928       \n",
       "365 1971      1971         1974       \n",
       "366 1922      1994         1993       \n",
       "367 1966      1966         1990       \n",
       "368 1910      2000         1950       \n",
       "369   NA        NA           NA       \n",
       "370   NA        NA           NA       \n",
       "371   NA        NA           NA       "
      ]
     },
     "metadata": {},
     "output_type": "display_data"
    }
   ],
   "source": [
    "houses[houses$YearBuilt != houses$GarageYrBlt,c('YearBuilt', 'YearRemodAdd','GarageYrBlt')]"
   ]
  },
  {
   "cell_type": "markdown",
   "metadata": {},
   "source": [
    "### Rather common, apparently. Let us see how common."
   ]
  },
  {
   "cell_type": "code",
   "execution_count": 15,
   "metadata": {},
   "outputs": [
    {
     "data": {
      "text/html": [
       "<ol class=list-inline>\n",
       "\t<li>0.254109589041096</li>\n",
       "\t<li>1</li>\n",
       "</ol>\n"
      ],
      "text/latex": [
       "\\begin{enumerate*}\n",
       "\\item 0.254109589041096\n",
       "\\item 1\n",
       "\\end{enumerate*}\n"
      ],
      "text/markdown": [
       "1. 0.254109589041096\n",
       "2. 1\n",
       "\n",
       "\n"
      ],
      "text/plain": [
       "[1] 0.2541096 1.0000000"
      ]
     },
     "metadata": {},
     "output_type": "display_data"
    }
   ],
   "source": [
    "dim(houses[houses$YearBuilt != houses$GarageYrBlt,])/dim(houses)"
   ]
  },
  {
   "cell_type": "markdown",
   "metadata": {},
   "source": [
    "### That is not too bad. In 25.41% of cases, the garage was built a different year than the house, but most of the time, the garage was built the same year as the house. Now, houses built before cars were common often have a garage built later than the house. Cars became more common in the United States around 1930, so let us see what percentage of houses built before this date has garages built significantly later (> 20 years)"
   ]
  },
  {
   "cell_type": "code",
   "execution_count": 16,
   "metadata": {},
   "outputs": [
    {
     "data": {
      "text/html": [
       "<ol class=list-inline>\n",
       "\t<li>0.508108108108108</li>\n",
       "\t<li>1</li>\n",
       "</ol>\n"
      ],
      "text/latex": [
       "\\begin{enumerate*}\n",
       "\\item 0.508108108108108\n",
       "\\item 1\n",
       "\\end{enumerate*}\n"
      ],
      "text/markdown": [
       "1. 0.508108108108108\n",
       "2. 1\n",
       "\n",
       "\n"
      ],
      "text/plain": [
       "[1] 0.5081081 1.0000000"
      ]
     },
     "metadata": {},
     "output_type": "display_data"
    }
   ],
   "source": [
    "dim(houses[(houses$YearBuilt < 1930) & (houses$GarageYrBlt > 1950),])/dim(houses[houses$YearBuilt < 1930,])"
   ]
  },
  {
   "cell_type": "markdown",
   "metadata": {},
   "source": [
    "### About 50%, a not very helpful result. Is this enough to split older homes with missing GarageYrBuilt dates up into their own category and assign them GarageYrBuilt dates older than their YearBuilt dates? Let us see what percentage of the instances with missing GarageYrBuilt dates come from this category:"
   ]
  },
  {
   "cell_type": "code",
   "execution_count": 17,
   "metadata": {},
   "outputs": [
    {
     "data": {
      "text/html": [
       "<ol class=list-inline>\n",
       "\t<li>0.395061728395062</li>\n",
       "\t<li>1</li>\n",
       "</ol>\n"
      ],
      "text/latex": [
       "\\begin{enumerate*}\n",
       "\\item 0.395061728395062\n",
       "\\item 1\n",
       "\\end{enumerate*}\n"
      ],
      "text/markdown": [
       "1. 0.395061728395062\n",
       "2. 1\n",
       "\n",
       "\n"
      ],
      "text/plain": [
       "[1] 0.3950617 1.0000000"
      ]
     },
     "metadata": {},
     "output_type": "display_data"
    }
   ],
   "source": [
    "dim(houses[is.na(houses$GarageYrBlt) & (houses$YearBuilt < 1930),])/dim(houses[is.na(houses$GarageYrBlt),])"
   ]
  },
  {
   "cell_type": "markdown",
   "metadata": {},
   "source": [
    "### Almost 40%. This could go either way. If they were a larger percent of the instances with missing GarageYrBuilt values, we might consider them separately, but for simplicity's sake, we will just apply the pattern most common across the entire data set - that is, we will assign them to GarageYrBuilt=YearBuilt"
   ]
  },
  {
   "cell_type": "code",
   "execution_count": 18,
   "metadata": {},
   "outputs": [],
   "source": [
    "houses$GarageYrBlt[is.na(houses$GarageYrBlt)] <- houses$YearBuilt[is.na(houses$GarageYrBlt)]"
   ]
  },
  {
   "cell_type": "markdown",
   "metadata": {},
   "source": [
    "### Ok, now let us look at our updated list of features with NA values"
   ]
  },
  {
   "cell_type": "code",
   "execution_count": 19,
   "metadata": {},
   "outputs": [
    {
     "data": {
      "text/html": [
       "<dl class=dl-horizontal>\n",
       "\t<dt>LotFrontage</dt>\n",
       "\t\t<dd>259</dd>\n",
       "\t<dt>GarageFinish</dt>\n",
       "\t\t<dd>81</dd>\n",
       "\t<dt>BsmtExposure</dt>\n",
       "\t\t<dd>38</dd>\n",
       "\t<dt>BsmtFinType2</dt>\n",
       "\t\t<dd>38</dd>\n",
       "\t<dt>BsmtFinType1</dt>\n",
       "\t\t<dd>37</dd>\n",
       "\t<dt>MasVnrArea</dt>\n",
       "\t\t<dd>8</dd>\n",
       "</dl>\n"
      ],
      "text/latex": [
       "\\begin{description*}\n",
       "\\item[LotFrontage] 259\n",
       "\\item[GarageFinish] 81\n",
       "\\item[BsmtExposure] 38\n",
       "\\item[BsmtFinType2] 38\n",
       "\\item[BsmtFinType1] 37\n",
       "\\item[MasVnrArea] 8\n",
       "\\end{description*}\n"
      ],
      "text/markdown": [
       "LotFrontage\n",
       ":   259GarageFinish\n",
       ":   81BsmtExposure\n",
       ":   38BsmtFinType2\n",
       ":   38BsmtFinType1\n",
       ":   37MasVnrArea\n",
       ":   8\n",
       "\n"
      ],
      "text/plain": [
       " LotFrontage GarageFinish BsmtExposure BsmtFinType2 BsmtFinType1   MasVnrArea \n",
       "         259           81           38           38           37            8 "
      ]
     },
     "metadata": {},
     "output_type": "display_data"
    }
   ],
   "source": [
    "MissValCol <- which(colSums(is.na(houses)) > 0)\n",
    "sort(colSums(sapply(houses[MissValCol], is.na)), decreasing = TRUE)"
   ]
  },
  {
   "cell_type": "markdown",
   "metadata": {},
   "source": [
    "# LotFrontage\n",
    "\n",
    "### Next, let us look at LotFrontage, which is, as the data description explains, the linear number of street connected to the property. An initial idea might be to replace NA with the average value of this feature across all instances. But this doesn't take advantage of the fact that in residential areas, developers tend to build houses with similar features, i.e. typically houses in the same neighbourhood share certain characteristics - general size, lot size and shape, etc. A house in a nieghbourhood full of mansions will likely have quite a large frontage, as will houses in the suburban-rural boundary where the property may be delineated entirely by roads. In a neighbourhood full of row houses, the frontage will likely be exactly the same for each plot. For this reason, we may get a better estimate of the LotFrontage values by assigning to each instance with missing LotFrontage the average of whatever neightbourhood it belongs to. The one thing we must look for is the possiblity that certain neighbourhoods may not have any LotFrontage values. We will check to see if any values are still NA or 0 afterwards to make sure this is not the case.\n",
    "\n",
    "### Now, one thing we might also be concerned about is that, since we are assigning the neighbourhood average to each missing value, there are fewer values being used to calculate the average, so outliers (e.g. a single large property in an otherwise normal residential neighbourhood) might skew the average compared to the neighbourhood norm. For these reasons, we might be better suited to use the median rather than the mean. Let us compare these two for each neighbourhood to see if we can gain some insight. We will use dplyr group-by for this purpose."
   ]
  },
  {
   "cell_type": "code",
   "execution_count": 20,
   "metadata": {},
   "outputs": [],
   "source": [
    "options(warn=-1)\n",
    "library(dplyr)"
   ]
  },
  {
   "cell_type": "code",
   "execution_count": 21,
   "metadata": {},
   "outputs": [
    {
     "name": "stderr",
     "output_type": "stream",
     "text": [
      "`summarise()` ungrouping output (override with `.groups` argument)\n"
     ]
    },
    {
     "data": {
      "text/html": [
       "<table>\n",
       "<thead><tr><th scope=col>Neighborhood</th><th scope=col>avg_frontage</th><th scope=col>med_frontage</th><th scope=col>difference</th><th scope=col>total</th></tr></thead>\n",
       "<tbody>\n",
       "\t<tr><td>Gilbert   </td><td>79.87755  </td><td>65.0      </td><td>14.8775510</td><td> 79       </td></tr>\n",
       "\t<tr><td>Somerst   </td><td>64.66667  </td><td>73.5      </td><td> 8.8333333</td><td> 86       </td></tr>\n",
       "\t<tr><td>NPkVill   </td><td>32.28571  </td><td>24.0      </td><td> 8.2857143</td><td>  9       </td></tr>\n",
       "\t<tr><td>Veenker   </td><td>59.71429  </td><td>68.0      </td><td> 8.2857143</td><td> 11       </td></tr>\n",
       "\t<tr><td>MeadowV   </td><td>27.80000  </td><td>21.0      </td><td> 6.8000000</td><td> 17       </td></tr>\n",
       "\t<tr><td>NridgHt   </td><td>81.88158  </td><td>88.5      </td><td> 6.6184211</td><td> 77       </td></tr>\n",
       "\t<tr><td>BrkSide   </td><td>57.50980  </td><td>52.0      </td><td> 5.5098039</td><td> 58       </td></tr>\n",
       "\t<tr><td>SawyerW   </td><td>71.50000  </td><td>66.5      </td><td> 5.0000000</td><td> 59       </td></tr>\n",
       "\t<tr><td>Timber    </td><td>80.13333  </td><td>85.0      </td><td> 4.8666667</td><td> 38       </td></tr>\n",
       "\t<tr><td>Blmngtn   </td><td>47.14286  </td><td>43.0      </td><td> 4.1428571</td><td> 17       </td></tr>\n",
       "\t<tr><td>NAmes     </td><td>76.46237  </td><td>73.0      </td><td> 3.4623656</td><td>225       </td></tr>\n",
       "\t<tr><td>ClearCr   </td><td>83.46154  </td><td>80.0      </td><td> 3.4615385</td><td> 28       </td></tr>\n",
       "\t<tr><td>Sawyer    </td><td>74.43750  </td><td>71.0      </td><td> 3.4375000</td><td> 74       </td></tr>\n",
       "\t<tr><td>Mitchel   </td><td>70.08333  </td><td>73.0      </td><td> 2.9166667</td><td> 49       </td></tr>\n",
       "\t<tr><td>OldTown   </td><td>62.78899  </td><td>60.0      </td><td> 2.7889908</td><td>113       </td></tr>\n",
       "\t<tr><td>Edwards   </td><td>68.21739  </td><td>65.5      </td><td> 2.7173913</td><td>100       </td></tr>\n",
       "\t<tr><td>IDOTRR    </td><td>62.50000  </td><td>60.0      </td><td> 2.5000000</td><td> 37       </td></tr>\n",
       "\t<tr><td>Crawfor   </td><td>71.80488  </td><td>74.0      </td><td> 2.1951220</td><td> 51       </td></tr>\n",
       "\t<tr><td>CollgCr   </td><td>71.68254  </td><td>70.0      </td><td> 1.6825397</td><td>150       </td></tr>\n",
       "\t<tr><td>NWAmes    </td><td>81.28889  </td><td>80.0      </td><td> 1.2888889</td><td> 73       </td></tr>\n",
       "\t<tr><td>StoneBr   </td><td>62.70000  </td><td>61.5      </td><td> 1.2000000</td><td> 25       </td></tr>\n",
       "\t<tr><td>SWISU     </td><td>58.91304  </td><td>60.0      </td><td> 1.0869565</td><td> 25       </td></tr>\n",
       "\t<tr><td>NoRidge   </td><td>91.87879  </td><td>91.0      </td><td> 0.8787879</td><td> 41       </td></tr>\n",
       "\t<tr><td>BrDale    </td><td>21.56250  </td><td>21.0      </td><td> 0.5625000</td><td> 16       </td></tr>\n",
       "\t<tr><td>Blueste   </td><td>24.00000  </td><td>24.0      </td><td> 0.0000000</td><td>  2       </td></tr>\n",
       "</tbody>\n",
       "</table>\n"
      ],
      "text/latex": [
       "\\begin{tabular}{r|lllll}\n",
       " Neighborhood & avg\\_frontage & med\\_frontage & difference & total\\\\\n",
       "\\hline\n",
       "\t Gilbert    & 79.87755   & 65.0       & 14.8775510 &  79       \\\\\n",
       "\t Somerst    & 64.66667   & 73.5       &  8.8333333 &  86       \\\\\n",
       "\t NPkVill    & 32.28571   & 24.0       &  8.2857143 &   9       \\\\\n",
       "\t Veenker    & 59.71429   & 68.0       &  8.2857143 &  11       \\\\\n",
       "\t MeadowV    & 27.80000   & 21.0       &  6.8000000 &  17       \\\\\n",
       "\t NridgHt    & 81.88158   & 88.5       &  6.6184211 &  77       \\\\\n",
       "\t BrkSide    & 57.50980   & 52.0       &  5.5098039 &  58       \\\\\n",
       "\t SawyerW    & 71.50000   & 66.5       &  5.0000000 &  59       \\\\\n",
       "\t Timber     & 80.13333   & 85.0       &  4.8666667 &  38       \\\\\n",
       "\t Blmngtn    & 47.14286   & 43.0       &  4.1428571 &  17       \\\\\n",
       "\t NAmes      & 76.46237   & 73.0       &  3.4623656 & 225       \\\\\n",
       "\t ClearCr    & 83.46154   & 80.0       &  3.4615385 &  28       \\\\\n",
       "\t Sawyer     & 74.43750   & 71.0       &  3.4375000 &  74       \\\\\n",
       "\t Mitchel    & 70.08333   & 73.0       &  2.9166667 &  49       \\\\\n",
       "\t OldTown    & 62.78899   & 60.0       &  2.7889908 & 113       \\\\\n",
       "\t Edwards    & 68.21739   & 65.5       &  2.7173913 & 100       \\\\\n",
       "\t IDOTRR     & 62.50000   & 60.0       &  2.5000000 &  37       \\\\\n",
       "\t Crawfor    & 71.80488   & 74.0       &  2.1951220 &  51       \\\\\n",
       "\t CollgCr    & 71.68254   & 70.0       &  1.6825397 & 150       \\\\\n",
       "\t NWAmes     & 81.28889   & 80.0       &  1.2888889 &  73       \\\\\n",
       "\t StoneBr    & 62.70000   & 61.5       &  1.2000000 &  25       \\\\\n",
       "\t SWISU      & 58.91304   & 60.0       &  1.0869565 &  25       \\\\\n",
       "\t NoRidge    & 91.87879   & 91.0       &  0.8787879 &  41       \\\\\n",
       "\t BrDale     & 21.56250   & 21.0       &  0.5625000 &  16       \\\\\n",
       "\t Blueste    & 24.00000   & 24.0       &  0.0000000 &   2       \\\\\n",
       "\\end{tabular}\n"
      ],
      "text/markdown": [
       "\n",
       "| Neighborhood | avg_frontage | med_frontage | difference | total |\n",
       "|---|---|---|---|---|\n",
       "| Gilbert    | 79.87755   | 65.0       | 14.8775510 |  79        |\n",
       "| Somerst    | 64.66667   | 73.5       |  8.8333333 |  86        |\n",
       "| NPkVill    | 32.28571   | 24.0       |  8.2857143 |   9        |\n",
       "| Veenker    | 59.71429   | 68.0       |  8.2857143 |  11        |\n",
       "| MeadowV    | 27.80000   | 21.0       |  6.8000000 |  17        |\n",
       "| NridgHt    | 81.88158   | 88.5       |  6.6184211 |  77        |\n",
       "| BrkSide    | 57.50980   | 52.0       |  5.5098039 |  58        |\n",
       "| SawyerW    | 71.50000   | 66.5       |  5.0000000 |  59        |\n",
       "| Timber     | 80.13333   | 85.0       |  4.8666667 |  38        |\n",
       "| Blmngtn    | 47.14286   | 43.0       |  4.1428571 |  17        |\n",
       "| NAmes      | 76.46237   | 73.0       |  3.4623656 | 225        |\n",
       "| ClearCr    | 83.46154   | 80.0       |  3.4615385 |  28        |\n",
       "| Sawyer     | 74.43750   | 71.0       |  3.4375000 |  74        |\n",
       "| Mitchel    | 70.08333   | 73.0       |  2.9166667 |  49        |\n",
       "| OldTown    | 62.78899   | 60.0       |  2.7889908 | 113        |\n",
       "| Edwards    | 68.21739   | 65.5       |  2.7173913 | 100        |\n",
       "| IDOTRR     | 62.50000   | 60.0       |  2.5000000 |  37        |\n",
       "| Crawfor    | 71.80488   | 74.0       |  2.1951220 |  51        |\n",
       "| CollgCr    | 71.68254   | 70.0       |  1.6825397 | 150        |\n",
       "| NWAmes     | 81.28889   | 80.0       |  1.2888889 |  73        |\n",
       "| StoneBr    | 62.70000   | 61.5       |  1.2000000 |  25        |\n",
       "| SWISU      | 58.91304   | 60.0       |  1.0869565 |  25        |\n",
       "| NoRidge    | 91.87879   | 91.0       |  0.8787879 |  41        |\n",
       "| BrDale     | 21.56250   | 21.0       |  0.5625000 |  16        |\n",
       "| Blueste    | 24.00000   | 24.0       |  0.0000000 |   2        |\n",
       "\n"
      ],
      "text/plain": [
       "   Neighborhood avg_frontage med_frontage difference total\n",
       "1  Gilbert      79.87755     65.0         14.8775510  79  \n",
       "2  Somerst      64.66667     73.5          8.8333333  86  \n",
       "3  NPkVill      32.28571     24.0          8.2857143   9  \n",
       "4  Veenker      59.71429     68.0          8.2857143  11  \n",
       "5  MeadowV      27.80000     21.0          6.8000000  17  \n",
       "6  NridgHt      81.88158     88.5          6.6184211  77  \n",
       "7  BrkSide      57.50980     52.0          5.5098039  58  \n",
       "8  SawyerW      71.50000     66.5          5.0000000  59  \n",
       "9  Timber       80.13333     85.0          4.8666667  38  \n",
       "10 Blmngtn      47.14286     43.0          4.1428571  17  \n",
       "11 NAmes        76.46237     73.0          3.4623656 225  \n",
       "12 ClearCr      83.46154     80.0          3.4615385  28  \n",
       "13 Sawyer       74.43750     71.0          3.4375000  74  \n",
       "14 Mitchel      70.08333     73.0          2.9166667  49  \n",
       "15 OldTown      62.78899     60.0          2.7889908 113  \n",
       "16 Edwards      68.21739     65.5          2.7173913 100  \n",
       "17 IDOTRR       62.50000     60.0          2.5000000  37  \n",
       "18 Crawfor      71.80488     74.0          2.1951220  51  \n",
       "19 CollgCr      71.68254     70.0          1.6825397 150  \n",
       "20 NWAmes       81.28889     80.0          1.2888889  73  \n",
       "21 StoneBr      62.70000     61.5          1.2000000  25  \n",
       "22 SWISU        58.91304     60.0          1.0869565  25  \n",
       "23 NoRidge      91.87879     91.0          0.8787879  41  \n",
       "24 BrDale       21.56250     21.0          0.5625000  16  \n",
       "25 Blueste      24.00000     24.0          0.0000000   2  "
      ]
     },
     "metadata": {},
     "output_type": "display_data"
    }
   ],
   "source": [
    "houses %>% \n",
    "group_by(Neighborhood) %>% \n",
    "summarise(avg_frontage = mean(LotFrontage, na.rm=TRUE), \n",
    "        med_frontage = median(LotFrontage, na.rm=TRUE),\n",
    "        difference = abs(avg_frontage - med_frontage),\n",
    "        total = n()) %>%\n",
    "        arrange(desc(difference))"
   ]
  },
  {
   "cell_type": "markdown",
   "metadata": {},
   "source": [
    "### It appears the skew can go both ways. Let us look at the top two results to see why this happens."
   ]
  },
  {
   "cell_type": "code",
   "execution_count": 22,
   "metadata": {
    "scrolled": true
   },
   "outputs": [
    {
     "data": {
      "image/png": "[encoded data removed]",
      "text/plain": [
       "Plot with title \"Lot frontage in Gilbert\""
      ]
     },
     "metadata": {},
     "output_type": "display_data"
    },
    {
     "data": {
      "image/png": "[encoded data removed]",
      "text/plain": [
       "Plot with title \"Lot frontage in Somerset\""
      ]
     },
     "metadata": {},
     "output_type": "display_data"
    }
   ],
   "source": [
    "hist(houses[(houses$Neighborhood=='Gilbert') & (!is.na(houses$LotFrontage)), c('LotFrontage')][[1]], main=\"Lot frontage in Gilbert\", xlab=\"Lot Frontage\", col='darkmagenta')\n",
    "hist(houses[(houses$Neighborhood=='Somerst') & (!is.na(houses$LotFrontage)), c('LotFrontage')][[1]], main=\"Lot frontage in Somerset\", xlab=\"Lot Frontage\", col='green')"
   ]
  },
  {
   "cell_type": "markdown",
   "metadata": {},
   "source": [
    "### The case of Gilbert is more of what I was expecting to see. Mostly smaller frontages with a few large properties skewing the average. This is the type of situation where using the median is advantageous.\n",
    "\n",
    "### In the second situation, we're seeing what appears to be a bi-model distribution, so using the median isn't necessarily the best solution, however, the fact that the median is likely to be a much better fill-in in the case of the Gilbert, the neighbourhood with the most-skewed distribution, justifies its use across the board in our opinion, since in other neighbourhoods the difference between mean and median is much lower and so using the possible worse choice for measure of central tendency doesn't have as much of an effect."
   ]
  },
  {
   "cell_type": "code",
   "execution_count": 23,
   "metadata": {},
   "outputs": [],
   "source": [
    "for (i in 1:nrow(houses)){\n",
    "        if(is.na(houses$LotFrontage[i])){\n",
    "               houses$LotFrontage[i] <- as.integer(median(houses$LotFrontage[houses$Neighborhood==houses$Neighborhood[i]], na.rm=TRUE)) \n",
    "        }\n",
    "}"
   ]
  },
  {
   "cell_type": "markdown",
   "metadata": {},
   "source": [
    "### Let us see if that worked to eliminate all NA values in LotFrontage (it should have, since in the table above we see that every neighbourhood has at least one value for LotFrontage to work with), and also see which features still have NA values"
   ]
  },
  {
   "cell_type": "code",
   "execution_count": 24,
   "metadata": {},
   "outputs": [
    {
     "data": {
      "text/html": [
       "<dl class=dl-horizontal>\n",
       "\t<dt>GarageFinish</dt>\n",
       "\t\t<dd>81</dd>\n",
       "\t<dt>BsmtExposure</dt>\n",
       "\t\t<dd>38</dd>\n",
       "\t<dt>BsmtFinType2</dt>\n",
       "\t\t<dd>38</dd>\n",
       "\t<dt>BsmtFinType1</dt>\n",
       "\t\t<dd>37</dd>\n",
       "\t<dt>MasVnrArea</dt>\n",
       "\t\t<dd>8</dd>\n",
       "</dl>\n"
      ],
      "text/latex": [
       "\\begin{description*}\n",
       "\\item[GarageFinish] 81\n",
       "\\item[BsmtExposure] 38\n",
       "\\item[BsmtFinType2] 38\n",
       "\\item[BsmtFinType1] 37\n",
       "\\item[MasVnrArea] 8\n",
       "\\end{description*}\n"
      ],
      "text/markdown": [
       "GarageFinish\n",
       ":   81BsmtExposure\n",
       ":   38BsmtFinType2\n",
       ":   38BsmtFinType1\n",
       ":   37MasVnrArea\n",
       ":   8\n",
       "\n"
      ],
      "text/plain": [
       "GarageFinish BsmtExposure BsmtFinType2 BsmtFinType1   MasVnrArea \n",
       "          81           38           38           37            8 "
      ]
     },
     "metadata": {},
     "output_type": "display_data"
    }
   ],
   "source": [
    "MissValCol <- which(colSums(is.na(houses)) > 0)\n",
    "sort(colSums(sapply(houses[MissValCol], is.na)), decreasing = TRUE)"
   ]
  },
  {
   "cell_type": "markdown",
   "metadata": {},
   "source": [
    "# Various Finishes and Exposures\n",
    "\n",
    "### Next we have a series of features of the \"finishes\" and \"exposures\" type, when offer a clear quality scale that easily translates to a numerical scale. For instance, for BsmtFinType1, we have\n",
    "\n",
    "BsmtFinType1: Rating of basement finished area\n",
    "\n",
    "       GLQ\tGood Living Quarters\n",
    "       ALQ\tAverage Living Quarters\n",
    "       BLQ\tBelow Average Living Quarters\t\n",
    "       Rec\tAverage Rec Room\n",
    "       LwQ\tLow Quality\n",
    "       Unf\tUnfinshed\n",
    "       NA\tNo Basement\n",
    "\n",
    "### For these features, NA will be labelled a 0, and then we will label the rest of values with 1, 2, 3, etc. up to whatever the best value is (for the best quality). First, we handle BsmtFinType1 and BsmtFinType2:"
   ]
  },
  {
   "cell_type": "code",
   "execution_count": 25,
   "metadata": {},
   "outputs": [],
   "source": [
    "houses$BsmtFinType1[is.na(houses$BsmtFinType1)] <- 'No'\n",
    "houses$BsmtFinType2[is.na(houses$BsmtFinType2)] <- 'No'\n",
    "\n",
    "# Now we create a numerical scale...\n",
    "FinType <- c('No'=0, 'Unf'=1, 'LwQ'=2, 'Rec'=3, 'BLQ'=4, 'ALQ'=5, 'GLQ'=6)\n",
    "# ...and we use revalue to replace the strings with our numerical scale\n",
    "houses$BsmtFinType1<-as.integer(revalue(houses$BsmtFinType1, FinType))\n",
    "houses$BsmtFinType2<-as.integer(revalue(houses$BsmtFinType2, FinType))"
   ]
  },
  {
   "cell_type": "markdown",
   "metadata": {},
   "source": [
    "### For BsmtExposure, similar thing. The data description says\n",
    "\n",
    "BsmtExposure: Refers to walkout or garden level walls\n",
    "\n",
    "       Gd\tGood Exposure\n",
    "       Av\tAverage Exposure (split levels or foyers typically score average or above)\t\n",
    "       Mn\tMimimum Exposure\n",
    "       No\tNo Exposure\n",
    "       NA\tNo Basement\n",
    "\n",
    "### So we encode this in the obvious way:"
   ]
  },
  {
   "cell_type": "code",
   "execution_count": 26,
   "metadata": {},
   "outputs": [],
   "source": [
    "houses$BsmtExposure[is.na(houses$BsmtExposure)] <- 'None'\n",
    "Exposure <- c('None'=0, 'No'=1, 'Mn'=2, 'Av'=3, 'Gd'=4)\n",
    "houses$BsmtExposure<-as.integer(revalue(houses$BsmtExposure, Exposure))"
   ]
  },
  {
   "cell_type": "markdown",
   "metadata": {},
   "source": [
    "### GarageFinish is a similar story. The data description has\n",
    "\n",
    "GarageFinish: Interior finish of the garage\n",
    "\n",
    "       Fin\tFinished\n",
    "       RFn\tRough Finished\t\n",
    "       Unf\tUnfinished\n",
    "       NA\tNo Garage\n",
    "\n",
    "### So we encode as follows:"
   ]
  },
  {
   "cell_type": "code",
   "execution_count": 27,
   "metadata": {},
   "outputs": [],
   "source": [
    "houses$GarageFinish[is.na(houses$GarageFinish)] <- 'No'\n",
    "Finish <- c('No'=0, 'Unf'=1, 'RFn'=2, 'Fin'=3)\n",
    "houses$GarageFinish<-as.integer(revalue(houses$GarageFinish, Finish))"
   ]
  },
  {
   "cell_type": "markdown",
   "metadata": {},
   "source": [
    "### Let us see what features still have NA values"
   ]
  },
  {
   "cell_type": "code",
   "execution_count": 28,
   "metadata": {},
   "outputs": [
    {
     "data": {
      "text/html": [
       "<strong>MasVnrArea:</strong> 8"
      ],
      "text/latex": [
       "\\textbf{MasVnrArea:} 8"
      ],
      "text/markdown": [
       "**MasVnrArea:** 8"
      ],
      "text/plain": [
       "MasVnrArea \n",
       "         8 "
      ]
     },
     "metadata": {},
     "output_type": "display_data"
    }
   ],
   "source": [
    "MissValCol <- which(colSums(is.na(houses)) > 0)\n",
    "sort(colSums(sapply(houses[MissValCol], is.na)), decreasing = TRUE)"
   ]
  },
  {
   "cell_type": "markdown",
   "metadata": {},
   "source": [
    "# MasVnrArea\n",
    "\n",
    "### Lastly, the case of Masonry Veneer Area. Recall that before we handled MasVnrType missing values, there were 8 of them in that feature column. It's safe to assume the same 8 instances have missing values for Masonry Veneer Area, and, since they apparently don't have a masonry veneer of any sort, it seems fitting to set these missing values to 0"
   ]
  },
  {
   "cell_type": "code",
   "execution_count": 29,
   "metadata": {},
   "outputs": [],
   "source": [
    "houses$MasVnrArea[is.na(houses$MasVnrArea)] <-0"
   ]
  },
  {
   "cell_type": "code",
   "execution_count": 30,
   "metadata": {},
   "outputs": [
    {
     "ename": "ERROR",
     "evalue": "Error in colSums(sapply(houses[MissValCol], is.na)): 'x' must be an array of at least two dimensions\n",
     "output_type": "error",
     "traceback": [
      "Error in colSums(sapply(houses[MissValCol], is.na)): 'x' must be an array of at least two dimensions\nTraceback:\n",
      "1. sort(colSums(sapply(houses[MissValCol], is.na)), decreasing = TRUE)",
      "2. colSums(sapply(houses[MissValCol], is.na))",
      "3. stop(\"'x' must be an array of at least two dimensions\")"
     ]
    }
   ],
   "source": [
    "### Let us make sure we are done with missing values:\n",
    "MissValCol <- which(colSums(is.na(houses)) > 0)\n",
    "sort(colSums(sapply(houses[MissValCol], is.na)), decreasing = TRUE)"
   ]
  },
  {
   "cell_type": "markdown",
   "metadata": {},
   "source": [
    "### Great! Are we done? Not yet. There are a few more features we can encode on a numerical scale. We discuss each individually below"
   ]
  },
  {
   "cell_type": "markdown",
   "metadata": {},
   "source": [
    "# LotShape\n",
    "### From the data description:\n",
    "\n",
    "LotShape: General shape of property\n",
    "\n",
    "       Reg\tRegular\t\n",
    "       IR1\tSlightly irregular\n",
    "       IR2\tModerately Irregular\n",
    "       IR3\tIrregular\n",
    "       \n",
    "### There is definitely a increasing scale of irregularity we could encode here, but for it to be useful, it would need to correlate with SalePrice. Let us look"
   ]
  },
  {
   "cell_type": "code",
   "execution_count": 31,
   "metadata": {},
   "outputs": [
    {
     "name": "stderr",
     "output_type": "stream",
     "text": [
      "`summarise()` ungrouping output (override with `.groups` argument)\n"
     ]
    },
    {
     "data": {
      "text/html": [
       "<table>\n",
       "<thead><tr><th scope=col>LotShape</th><th scope=col>avg_sale_price</th><th scope=col>total</th></tr></thead>\n",
       "<tbody>\n",
       "\t<tr><td>IR2     </td><td>239833.4</td><td> 41     </td></tr>\n",
       "\t<tr><td>IR3     </td><td>216036.5</td><td> 10     </td></tr>\n",
       "\t<tr><td>IR1     </td><td>206101.7</td><td>484     </td></tr>\n",
       "\t<tr><td>Reg     </td><td>164754.8</td><td>925     </td></tr>\n",
       "</tbody>\n",
       "</table>\n"
      ],
      "text/latex": [
       "\\begin{tabular}{r|lll}\n",
       " LotShape & avg\\_sale\\_price & total\\\\\n",
       "\\hline\n",
       "\t IR2      & 239833.4 &  41     \\\\\n",
       "\t IR3      & 216036.5 &  10     \\\\\n",
       "\t IR1      & 206101.7 & 484     \\\\\n",
       "\t Reg      & 164754.8 & 925     \\\\\n",
       "\\end{tabular}\n"
      ],
      "text/markdown": [
       "\n",
       "| LotShape | avg_sale_price | total |\n",
       "|---|---|---|\n",
       "| IR2      | 239833.4 |  41      |\n",
       "| IR3      | 216036.5 |  10      |\n",
       "| IR1      | 206101.7 | 484      |\n",
       "| Reg      | 164754.8 | 925      |\n",
       "\n"
      ],
      "text/plain": [
       "  LotShape avg_sale_price total\n",
       "1 IR2      239833.4        41  \n",
       "2 IR3      216036.5        10  \n",
       "3 IR1      206101.7       484  \n",
       "4 Reg      164754.8       925  "
      ]
     },
     "metadata": {},
     "output_type": "display_data"
    }
   ],
   "source": [
    "houses %>% \n",
    "group_by(LotShape) %>% \n",
    "summarise(avg_sale_price = mean(SalePrice), \n",
    "        total = n()) %>%\n",
    "        arrange(desc(avg_sale_price))"
   ]
  },
  {
   "cell_type": "markdown",
   "metadata": {},
   "source": [
    "### We see a general tendency for more regular lots to be priced lower, but there may be confounding variables at play - perhaps larger properties tend to be more irregular compared to smaller properties, and their increased value has nothing to do with irregularity but rather size. Let us see if there is anything to this:"
   ]
  },
  {
   "cell_type": "code",
   "execution_count": 32,
   "metadata": {},
   "outputs": [
    {
     "name": "stderr",
     "output_type": "stream",
     "text": [
      "`summarise()` ungrouping output (override with `.groups` argument)\n"
     ]
    },
    {
     "data": {
      "text/html": [
       "<table>\n",
       "<thead><tr><th scope=col>LotShape</th><th scope=col>avg_sale_price</th><th scope=col>avg_lot_area</th><th scope=col>price_per_area</th><th scope=col>total</th></tr></thead>\n",
       "<tbody>\n",
       "\t<tr><td>Reg      </td><td>164754.8 </td><td> 8876.916</td><td>18.559917</td><td>925      </td></tr>\n",
       "\t<tr><td>IR1      </td><td>206101.7 </td><td>11894.545</td><td>17.327410</td><td>484      </td></tr>\n",
       "\t<tr><td>IR2      </td><td>239833.4 </td><td>23733.659</td><td>10.105200</td><td> 41      </td></tr>\n",
       "\t<tr><td>IR3      </td><td>216036.5 </td><td>41338.200</td><td> 5.226074</td><td> 10      </td></tr>\n",
       "</tbody>\n",
       "</table>\n"
      ],
      "text/latex": [
       "\\begin{tabular}{r|lllll}\n",
       " LotShape & avg\\_sale\\_price & avg\\_lot\\_area & price\\_per\\_area & total\\\\\n",
       "\\hline\n",
       "\t Reg       & 164754.8  &  8876.916 & 18.559917 & 925      \\\\\n",
       "\t IR1       & 206101.7  & 11894.545 & 17.327410 & 484      \\\\\n",
       "\t IR2       & 239833.4  & 23733.659 & 10.105200 &  41      \\\\\n",
       "\t IR3       & 216036.5  & 41338.200 &  5.226074 &  10      \\\\\n",
       "\\end{tabular}\n"
      ],
      "text/markdown": [
       "\n",
       "| LotShape | avg_sale_price | avg_lot_area | price_per_area | total |\n",
       "|---|---|---|---|---|\n",
       "| Reg       | 164754.8  |  8876.916 | 18.559917 | 925       |\n",
       "| IR1       | 206101.7  | 11894.545 | 17.327410 | 484       |\n",
       "| IR2       | 239833.4  | 23733.659 | 10.105200 |  41       |\n",
       "| IR3       | 216036.5  | 41338.200 |  5.226074 |  10       |\n",
       "\n"
      ],
      "text/plain": [
       "  LotShape avg_sale_price avg_lot_area price_per_area total\n",
       "1 Reg      164754.8        8876.916    18.559917      925  \n",
       "2 IR1      206101.7       11894.545    17.327410      484  \n",
       "3 IR2      239833.4       23733.659    10.105200       41  \n",
       "4 IR3      216036.5       41338.200     5.226074       10  "
      ]
     },
     "metadata": {},
     "output_type": "display_data"
    }
   ],
   "source": [
    "houses %>% \n",
    "group_by(LotShape) %>% \n",
    "summarise(avg_sale_price = mean(SalePrice), \n",
    "          avg_lot_area = mean(LotArea),\n",
    "          price_per_area = avg_sale_price / avg_lot_area,\n",
    "        total = n()) %>%\n",
    "        arrange(desc(price_per_area))"
   ]
  },
  {
   "cell_type": "markdown",
   "metadata": {},
   "source": [
    "### Indeed, our price per unit area goes down with increasing irregularity. We see a similar tendency if we look at LandSlope:\n",
    "\n",
    "LandSlope: Slope of property\n",
    "\t\t\n",
    "       Gtl\tGentle slope\n",
    "       Mod\tModerate Slope\t\n",
    "       Sev\tSevere Slope\n",
    "\n",
    "### We see that, while severe slope correlates with higher sales prices, it also correlates with much large lot areas, a confounding variable:"
   ]
  },
  {
   "cell_type": "code",
   "execution_count": 33,
   "metadata": {},
   "outputs": [
    {
     "name": "stderr",
     "output_type": "stream",
     "text": [
      "`summarise()` ungrouping output (override with `.groups` argument)\n"
     ]
    },
    {
     "data": {
      "text/html": [
       "<table>\n",
       "<thead><tr><th scope=col>LandSlope</th><th scope=col>avg_sale_price</th><th scope=col>avg_lot_area</th><th scope=col>price_per_area</th><th scope=col>total</th></tr></thead>\n",
       "<tbody>\n",
       "\t<tr><td>Gtl      </td><td>179956.8 </td><td> 9780.305</td><td>18.399916</td><td>1382     </td></tr>\n",
       "\t<tr><td>Mod      </td><td>196734.1 </td><td>14799.415</td><td>13.293372</td><td>  65     </td></tr>\n",
       "\t<tr><td>Sev      </td><td>204379.2 </td><td>67401.923</td><td> 3.032246</td><td>  13     </td></tr>\n",
       "</tbody>\n",
       "</table>\n"
      ],
      "text/latex": [
       "\\begin{tabular}{r|lllll}\n",
       " LandSlope & avg\\_sale\\_price & avg\\_lot\\_area & price\\_per\\_area & total\\\\\n",
       "\\hline\n",
       "\t Gtl       & 179956.8  &  9780.305 & 18.399916 & 1382     \\\\\n",
       "\t Mod       & 196734.1  & 14799.415 & 13.293372 &   65     \\\\\n",
       "\t Sev       & 204379.2  & 67401.923 &  3.032246 &   13     \\\\\n",
       "\\end{tabular}\n"
      ],
      "text/markdown": [
       "\n",
       "| LandSlope | avg_sale_price | avg_lot_area | price_per_area | total |\n",
       "|---|---|---|---|---|\n",
       "| Gtl       | 179956.8  |  9780.305 | 18.399916 | 1382      |\n",
       "| Mod       | 196734.1  | 14799.415 | 13.293372 |   65      |\n",
       "| Sev       | 204379.2  | 67401.923 |  3.032246 |   13      |\n",
       "\n"
      ],
      "text/plain": [
       "  LandSlope avg_sale_price avg_lot_area price_per_area total\n",
       "1 Gtl       179956.8        9780.305    18.399916      1382 \n",
       "2 Mod       196734.1       14799.415    13.293372        65 \n",
       "3 Sev       204379.2       67401.923     3.032246        13 "
      ]
     },
     "metadata": {},
     "output_type": "display_data"
    }
   ],
   "source": [
    "houses %>% \n",
    "group_by(LandSlope) %>% \n",
    "summarise(avg_sale_price = mean(SalePrice),\n",
    "          avg_lot_area = mean(LotArea),\n",
    "          price_per_area = avg_sale_price / avg_lot_area,\n",
    "        total = n()) %>%\n",
    "        arrange(desc(price_per_area))"
   ]
  },
  {
   "cell_type": "markdown",
   "metadata": {},
   "source": [
    "### So, it appears increasing severity of slope descreasing sale price. For both features, the decreases in price when you move from category to category are roughly linear,  so we feel good about encoding them with a simple integer sequence to put in the linear model - this is address the tendency we are observing in some way in the model."
   ]
  },
  {
   "cell_type": "code",
   "execution_count": 34,
   "metadata": {},
   "outputs": [],
   "source": [
    "houses$LandSlope<-as.integer(revalue(houses$LandSlope, c('Sev'=0, 'Mod'=1, 'Gtl'=2)))\n",
    "houses$LotShape<-as.integer(revalue(houses$LotShape, c('IR3'=0, 'IR2'=1, 'IR1'=2, 'Reg'=3)))"
   ]
  },
  {
   "cell_type": "markdown",
   "metadata": {},
   "source": [
    "# Other Features\n",
    "\n",
    "### We have a yes/no feature for CentralAir, and a binary feature for Street (gravel vs. paved), which we will encode in the obvious way"
   ]
  },
  {
   "cell_type": "code",
   "execution_count": 35,
   "metadata": {},
   "outputs": [],
   "source": [
    "houses$CentralAir<-as.integer(revalue(houses$CentralAir, c('N'=0, 'Y'=1)))\n",
    "houses$Street<-as.integer(revalue(houses$Street, c('Grvl'=0, 'Pave'=1)))"
   ]
  },
  {
   "cell_type": "markdown",
   "metadata": {},
   "source": [
    "### We have a PavedDrive feature, with values 'None', 'Partial', or 'Yes', which correspond to 3 ordered numerical values"
   ]
  },
  {
   "cell_type": "code",
   "execution_count": 36,
   "metadata": {},
   "outputs": [],
   "source": [
    "houses$PavedDrive<-as.integer(revalue(houses$PavedDrive, c('N'=0, 'P'=1, 'Y'=2)))"
   ]
  },
  {
   "cell_type": "markdown",
   "metadata": {},
   "source": [
    "### Now, with Utilities, let us take a look at the data description:\n",
    "\n",
    "Utilities: Type of utilities available\n",
    "\t\t\n",
    "       AllPub\tAll public Utilities (E,G,W,& S)\t\n",
    "       NoSewr\tElectricity, Gas, and Water (Septic Tank)\n",
    "       NoSeWa\tElectricity and Gas Only\n",
    "       ELO\tElectricity only\n",
    "\n",
    "### There is a clear order of desirability here. All public utilities is best. All minus sewer access is next best. Electricity and gas is third best, and electricity only is worst. Let us encode this:"
   ]
  },
  {
   "cell_type": "code",
   "execution_count": 37,
   "metadata": {},
   "outputs": [
    {
     "name": "stderr",
     "output_type": "stream",
     "text": [
      "The following `from` values were not present in `x`: ELO, NoSewr\n"
     ]
    }
   ],
   "source": [
    "houses$Utilities <- as.integer(revalue(houses$Utilities, c('ELO'=1, 'NoSeWa'=2, 'NoSewr'=3, 'AllPub'=4)))"
   ]
  },
  {
   "cell_type": "markdown",
   "metadata": {},
   "source": [
    "### Lastly, the meaning of categorical variable Functional is not clear from name alone. Let us take a look:\n",
    "\n",
    "Functional: Home functionality (Assume typical unless deductions are warranted)\n",
    "\n",
    "       Typ\tTypical Functionality\n",
    "       Min1\tMinor Deductions 1\n",
    "       Min2\tMinor Deductions 2\n",
    "       Mod\tModerate Deductions\n",
    "       Maj1\tMajor Deductions 1\n",
    "       Maj2\tMajor Deductions 2\n",
    "       Sev\tSeverely Damaged\n",
    "       Sal\tSalvage only\n",
    "\n",
    "### This corresponds to a clear numerical scale of desirability. Typical functionality is best, and Salvage Only is the worst, with the other ratings in between in increasing levels of damage (and thus decreasing levels of desirability)"
   ]
  },
  {
   "cell_type": "code",
   "execution_count": 38,
   "metadata": {},
   "outputs": [
    {
     "name": "stderr",
     "output_type": "stream",
     "text": [
      "The following `from` values were not present in `x`: Sal\n"
     ]
    }
   ],
   "source": [
    "houses$Functional <- as.integer(revalue(houses$Functional, c('Sal'=0, 'Sev'=1, 'Maj2'=2, 'Maj1'=3, 'Mod'=4, 'Min2'=5, 'Min1'=6, 'Typ'=7)))"
   ]
  },
  {
   "cell_type": "markdown",
   "metadata": {},
   "source": [
    "# First Model\n",
    "\n",
    "### Now that we have pre-processed the data enough to train a model on it, we will try a linear regression model on our data. However, as noted above, we cannot "
   ]
  },
  {
   "cell_type": "code",
   "execution_count": 39,
   "metadata": {},
   "outputs": [],
   "source": [
    "suppressMessages(library(h2o))\n",
    "options(warn=-1)"
   ]
  },
  {
   "cell_type": "code",
   "execution_count": 40,
   "metadata": {},
   "outputs": [
    {
     "name": "stdout",
     "output_type": "stream",
     "text": [
      "\n",
      "H2O is not running yet, starting it now...\n",
      "\n",
      "Note:  In case of errors look at the following log files:\n",
      "    C:\\Users\\Admin\\AppData\\Local\\Temp\\RtmpgPCiig/h2o_Admin_started_from_r.out\n",
      "    C:\\Users\\Admin\\AppData\\Local\\Temp\\RtmpgPCiig/h2o_Admin_started_from_r.err\n",
      "\n",
      "\n",
      "Starting H2O JVM and connecting:  Connection successful!\n",
      "\n",
      "R is connected to the H2O cluster: \n",
      "    H2O cluster uptime:         3 seconds 818 milliseconds \n",
      "    H2O cluster timezone:       America/New_York \n",
      "    H2O data parsing timezone:  UTC \n",
      "    H2O cluster version:        3.26.0.2 \n",
      "    H2O cluster version age:    1 year and 3 days !!! \n",
      "    H2O cluster name:           H2O_started_from_R_Admin_mds485 \n",
      "    H2O cluster total nodes:    1 \n",
      "    H2O cluster total memory:   14.21 GB \n",
      "    H2O cluster total cores:    16 \n",
      "    H2O cluster allowed cores:  16 \n",
      "    H2O cluster healthy:        TRUE \n",
      "    H2O Connection ip:          localhost \n",
      "    H2O Connection port:        54321 \n",
      "    H2O Connection proxy:       NA \n",
      "    H2O Internal Security:      FALSE \n",
      "    H2O API Extensions:         Amazon S3, Algos, AutoML, Core V3, Core V4 \n",
      "    R Version:                  R version 3.6.1 (2019-07-05) \n",
      "\n"
     ]
    }
   ],
   "source": [
    "h2o.init()"
   ]
  },
  {
   "cell_type": "code",
   "execution_count": 41,
   "metadata": {},
   "outputs": [
    {
     "name": "stdout",
     "output_type": "stream",
     "text": [
      "  |======================================================================| 100%\n"
     ]
    }
   ],
   "source": [
    "# Must turn data into H20Frame first\n",
    "houses_h2o <- as.h2o(houses)\n",
    "\n",
    "# Separate data into response (SalePrice) and predictors (all other features)\n",
    "response <- \"SalePrice\"\n",
    "predictors <- setdiff(names(houses_h2o), response)"
   ]
  },
  {
   "cell_type": "code",
   "execution_count": 42,
   "metadata": {},
   "outputs": [
    {
     "name": "stdout",
     "output_type": "stream",
     "text": [
      "  |======================================================================| 100%\n"
     ]
    }
   ],
   "source": [
    "houses_glm <- h2o.glm(family = \"gaussian\",\n",
    "                        x = predictors,\n",
    "                        y = response,\n",
    "                        training_frame = houses_h2o,\n",
    "                        nfolds = 5)"
   ]
  },
  {
   "cell_type": "code",
   "execution_count": 43,
   "metadata": {},
   "outputs": [
    {
     "data": {
      "text/plain": [
       "Model Details:\n",
       "==============\n",
       "\n",
       "H2ORegressionModel: glm\n",
       "Model ID:  GLM_model_R_1596161807875_1 \n",
       "GLM Model: summary\n",
       "    family     link                               regularization\n",
       "1 gaussian identity Elastic Net (alpha = 0.5, lambda = 12559.0 )\n",
       "  number_of_predictors_total number_of_active_predictors number_of_iterations\n",
       "1                        257                          62                    2\n",
       "     training_frame\n",
       "1 houses_sid_a4fd_1\n",
       "\n",
       "Coefficients: glm coefficients\n",
       "                 names  coefficients standardized_coefficients\n",
       "1            Intercept 179228.451688             180920.086914\n",
       "2 Neighborhood.Blmngtn      0.000000                  0.000000\n",
       "3 Neighborhood.Blueste      0.000000                  0.000000\n",
       "4  Neighborhood.BrDale      0.000000                  0.000000\n",
       "5 Neighborhood.BrkSide      0.000000                  0.000000\n",
       "\n",
       "---\n",
       "            names coefficients standardized_coefficients\n",
       "253 EnclosedPorch    -0.010183                 -0.622396\n",
       "254     3SsnPorch     0.000000                  0.000000\n",
       "255   ScreenPorch     0.007313                  0.407741\n",
       "256      PoolArea     0.004148                  0.166648\n",
       "257        PoolQC     1.525266                  0.410223\n",
       "258       MiscVal     0.000000                  0.000000\n",
       "\n",
       "H2ORegressionMetrics: glm\n",
       "** Reported on training data. **\n",
       "\n",
       "MSE:  6293023842\n",
       "RMSE:  79328.58\n",
       "MAE:  57361.98\n",
       "RMSLE:  0.4071075\n",
       "Mean Residual Deviance :  6293023842\n",
       "R^2 :  0.002182528\n",
       "Null Deviance :9.207911e+12\n",
       "Null D.o.F. :1459\n",
       "Residual Deviance :9.187815e+12\n",
       "Residual D.o.F. :1397\n",
       "AIC :37212.85\n",
       "\n",
       "\n",
       "\n",
       "H2ORegressionMetrics: glm\n",
       "** Reported on cross-validation data. **\n",
       "** 5-fold cross-validation on training data (Metrics computed for combined holdout predictions) **\n",
       "\n",
       "MSE:  6299570957\n",
       "RMSE:  79369.84\n",
       "MAE:  57386.34\n",
       "RMSLE:  0.4073298\n",
       "Mean Residual Deviance :  6299570957\n",
       "R^2 :  0.001144422\n",
       "Null Deviance :9.21257e+12\n",
       "Null D.o.F. :1459\n",
       "Residual Deviance :9.197374e+12\n",
       "Residual D.o.F. :1403\n",
       "AIC :37202.37\n",
       "\n",
       "\n",
       "Cross-Validation Metrics Summary: \n",
       "                                mean           sd    cv_1_valid    cv_2_valid\n",
       "mae                        57446.203    1776.9521      55376.85     57203.234\n",
       "mean_residual_deviance   6.3161871E9 4.11941856E8   5.4723523E9   6.4569912E9\n",
       "mse                      6.3161871E9 4.11941856E8   5.4723523E9   6.4569912E9\n",
       "null_deviance           1.8425141E12 8.9856295E10 1.61720972E12 1.82380318E12\n",
       "r2                      2.0688071E-4 0.0010428159  -0.002006355  0.0012807085\n",
       "residual_deviance      1.83947467E12 8.9768296E10 1.61434396E12 1.82087162E12\n",
       "rmse                       79390.516    2581.9277      73975.35      80355.41\n",
       "rmsle                     0.40757146  0.013540323     0.4066181     0.4129002\n",
       "                          cv_3_valid    cv_4_valid    cv_5_valid\n",
       "mae                        61362.023     54340.645      58948.26\n",
       "mean_residual_deviance   7.2770191E9   6.1215242E9   6.2530488E9\n",
       "mse                      7.2770191E9   6.1215242E9   6.2530488E9\n",
       "null_deviance          1.99714944E12 1.85785333E12 1.91655471E12\n",
       "r2                      0.0016226796   0.001247763 -0.0011103927\n",
       "residual_deviance      1.99390318E12 1.85482189E12 1.91343297E12\n",
       "rmse                       85305.445      78240.17      79076.23\n",
       "rmsle                     0.43791744    0.37836942    0.40205222"
      ]
     },
     "metadata": {},
     "output_type": "display_data"
    }
   ],
   "source": [
    "houses_glm"
   ]
  },
  {
   "cell_type": "markdown",
   "metadata": {},
   "source": [
    "### Wow, a average RMSLE of 0.4071075 is not very good, and puts us far down on Kaggle leaderboard. Let us see if we can improve this model."
   ]
  },
  {
   "cell_type": "markdown",
   "metadata": {},
   "source": [
    "# Remedy 1: Find and remove outliers, Remove Highly Correlated Features, Create New Features, Rinse and Repeat\n",
    "\n",
    "### Due to the mean square error used, linear models are very sensitive to outliers. One outlier can make an otherwise good idea for a model become inaccurate for data points in the \"main bunch\". Let us see if we can find any outliers, and eliminate them if we find any. First, let us look at the distribution of our response variable and see if there are any trends or outliers there. "
   ]
  },
  {
   "cell_type": "code",
   "execution_count": 44,
   "metadata": {
    "scrolled": true
   },
   "outputs": [
    {
     "data": {
      "text/plain": [
       "   Min. 1st Qu.  Median    Mean 3rd Qu.    Max. \n",
       "  34900  129975  163000  180921  214000  755000 "
      ]
     },
     "metadata": {},
     "output_type": "display_data"
    },
    {
     "data": {
      "image/png": "[encoded data removed]",
      "text/plain": [
       "plot without title"
      ]
     },
     "metadata": {},
     "output_type": "display_data"
    }
   ],
   "source": [
    "qplot(houses$SalePrice, geom='histogram', bins=50, alpha=I(0.2), fill=I('blue'), main='Histogram of SalesPrice', xlab='SalesPrice')\n",
    "summary(houses$SalePrice)"
   ]
  },
  {
   "cell_type": "markdown",
   "metadata": {},
   "source": [
    "### The response variable (SalesPrice) is rather strongly right-skewed, with a few extremely large values that may be affecting our linear model since these points are far away from the others and may have a disproportionate effect on MSE. By that I mean that if we imagine a regression line the fits the rest of the data well, it is often likely that points far away from the others won't fit the extrapolated trend line very well, so when we include them in the regression, the line may be disproportionately influenced by the need to have a small MSE for a handful of these outliers. \n",
    "\n",
    "### What to do? We could remove these points, but another possibility might be to take log of the SalesPrice and see if that creates a more symmetric distribution. Let us see what that looks like:"
   ]
  },
  {
   "cell_type": "code",
   "execution_count": 45,
   "metadata": {
    "scrolled": true
   },
   "outputs": [
    {
     "data": {
      "image/png": "[encoded data removed]",
      "text/plain": [
       "plot without title"
      ]
     },
     "metadata": {},
     "output_type": "display_data"
    }
   ],
   "source": [
    "lSalePrice <- log(houses$SalePrice)\n",
    "qplot(lSalePrice, geom='histogram', bins=50, alpha=I(0.2), fill=I('red'), main='Histogram of Log(SalesPrice)', xlab='Log(SalesPrice)')"
   ]
  },
  {
   "cell_type": "markdown",
   "metadata": {},
   "source": [
    "### Not bad. We may come back to this technique later. Let us try to find outliers by looking at other features and see if these points happen to be removed when we remove these outliers.\n",
    "\n",
    "### One assumption we are making by using this linear model directly on the data is that the response variable SalesPrice varies linearly with all of our features. Obviously, it is extremely unlikely that this is the case. Here in the outliers section, something we might look at is which features have the highest correlation with the response feature SalePrice, and then we can look at the values for this feature vs. SalePrice. If we notice that there are a few outliers we can remove to improve the correlation, we may do so to improve our model. However, if it is clear that the trend of the data is not linear, we may have to adjust certain features (or add an additional transformed feature column) that will allow us to use a linear model on these features. One think to consider is that if the data is almost linear except for the exception of a couple of outliers, we might consider removing the outliers to improve our linear model. A final think to consider is that eventually we will need to look at which features are highly correlated, and consider removing those that are, since highly correlated features can introduce noise in a linear model. \n",
    "\n",
    "### Here will be our strategy: we will look at which features are most highly correlated with SalePrice, as these will be the most essential to improve upon (via removing an outlier or two or making other minor adjustments) in order to improve our model. In order to do this, let us find the variables most highly correlated with SalePrice. While we are at it, we shall also take a glance at a heat map of correlations between the features that correlate most with SalePrice, to see if we might eliminate any of these features. For this we will need corrplot."
   ]
  },
  {
   "cell_type": "code",
   "execution_count": 46,
   "metadata": {},
   "outputs": [
    {
     "name": "stderr",
     "output_type": "stream",
     "text": [
      "corrplot 0.84 loaded\n"
     ]
    }
   ],
   "source": [
    "library(corrplot)"
   ]
  },
  {
   "cell_type": "code",
   "execution_count": 47,
   "metadata": {
    "scrolled": true
   },
   "outputs": [
    {
     "data": {
      "image/png": "[encoded data removed]",
      "text/plain": [
       "Plot with title \"\""
      ]
     },
     "metadata": {},
     "output_type": "display_data"
    }
   ],
   "source": [
    "# First this only works for numeric variables, so let us make a df with those\n",
    "numericVariables <-  unlist(lapply(houses, is.numeric))\n",
    "# Now we find the correlation between the different numeric features\n",
    "correlation = cor(houses[numericVariables])\n",
    "# Now we will order them in order of which features have the highest correlation with SalePrice\n",
    "correlation_sorted <- as.matrix(sort(correlation[,'SalePrice'], decreasing = TRUE))\n",
    "# So our graphic isn't too big, let us only look at ones that have a correlation with magnitude greater than 0.5 (in either direction)\n",
    "highCorrelation <- names(which(apply(correlation_sorted, 1, function(x) abs(x)>0.5)))\n",
    "correlation <- correlation[highCorrelation, highCorrelation]\n",
    "corrplot(correlation)"
   ]
  },
  {
   "cell_type": "markdown",
   "metadata": {},
   "source": [
    "### Most of these make a lot of sense. It seems obvious that Overall Quality and External Quality should both have a strong correlation with SalePrice. We see a few more quality features pop-up - Kitchen Quality, Basement Quality, and Fireplace Quality. Additionally, we see a lot of general size features - above grade living area, garage cars/area, total basement SF, 1st floor SF, # of full bathrooms, total rooms above grade. Lastly, we see a number of features related to age of the house  - YearBuilt, GarageYrBly, and YearRemod all have a non-negligeable relationship with SalePrice.\n",
    "\n",
    "### Now, as mentioned, what we want to do is see if there are any outliers or non-linear trends in these highly correlated features, so, is there any way we can look at this in an efficient manner? Why there is! There is a function called ggpairs in the package GGally that will help greatly in this endeavor. It provides in a single visual scatterplots of each pair of numeric variablesthat are drawn on the left part of the figure, Pearson correlation displayed on the right, and variable distribution is available on the diagonal. We can also customize the scatterplots on the (bottom) left part of the grid by writing up a new plot template and using geom_smooth to draw a line of best fit over the data. Now, to show how the data is trending overall, we will also draw via geom_smooth a line that follows the trend of the data as best as possible, but we don't want to make any assumptions about the trend, so we need something non-parametric. The loess method of geom_smooth offers this possibility, as our data set is small enough to handle it (LOESS essentially uses a spruced-up of KNN and calculates a sort of centroid trend as we move through the data set, so it is a) computationally expensive, but b) is nice to give a trend line if we don't want to make any assumptions about the data distribution). \n",
    "\n",
    "### So the individual plots are readable, we shall divide the features highly correlated with SalePrice into two halves and plot them separately"
   ]
  },
  {
   "cell_type": "code",
   "execution_count": 48,
   "metadata": {},
   "outputs": [
    {
     "name": "stderr",
     "output_type": "stream",
     "text": [
      "Registered S3 method overwritten by 'GGally':\n",
      "  method from   \n",
      "  +.gg   ggplot2\n"
     ]
    }
   ],
   "source": [
    "library(GGally)"
   ]
  },
  {
   "cell_type": "code",
   "execution_count": 49,
   "metadata": {
    "scrolled": true
   },
   "outputs": [
    {
     "name": "stderr",
     "output_type": "stream",
     "text": [
      "`geom_smooth()` using formula 'y ~ x'\n",
      "`geom_smooth()` using formula 'y ~ x'\n",
      "`geom_smooth()` using formula 'y ~ x'\n",
      "`geom_smooth()` using formula 'y ~ x'\n",
      "`geom_smooth()` using formula 'y ~ x'\n",
      "`geom_smooth()` using formula 'y ~ x'\n",
      "`geom_smooth()` using formula 'y ~ x'\n",
      "`geom_smooth()` using formula 'y ~ x'\n",
      "`geom_smooth()` using formula 'y ~ x'\n",
      "`geom_smooth()` using formula 'y ~ x'\n",
      "`geom_smooth()` using formula 'y ~ x'\n",
      "`geom_smooth()` using formula 'y ~ x'\n",
      "`geom_smooth()` using formula 'y ~ x'\n",
      "`geom_smooth()` using formula 'y ~ x'\n",
      "`geom_smooth()` using formula 'y ~ x'\n",
      "`geom_smooth()` using formula 'y ~ x'\n",
      "`geom_smooth()` using formula 'y ~ x'\n",
      "`geom_smooth()` using formula 'y ~ x'\n",
      "`geom_smooth()` using formula 'y ~ x'\n",
      "`geom_smooth()` using formula 'y ~ x'\n",
      "`geom_smooth()` using formula 'y ~ x'\n",
      "`geom_smooth()` using formula 'y ~ x'\n",
      "`geom_smooth()` using formula 'y ~ x'\n",
      "`geom_smooth()` using formula 'y ~ x'\n",
      "`geom_smooth()` using formula 'y ~ x'\n",
      "`geom_smooth()` using formula 'y ~ x'\n",
      "`geom_smooth()` using formula 'y ~ x'\n",
      "`geom_smooth()` using formula 'y ~ x'\n",
      "`geom_smooth()` using formula 'y ~ x'\n",
      "`geom_smooth()` using formula 'y ~ x'\n"
     ]
    },
    {
     "data": {
      "image/png": "[encoded data removed]",
      "text/plain": [
       "plot without title"
      ]
     },
     "metadata": {},
     "output_type": "display_data"
    }
   ],
   "source": [
    "# So first we are going to design how we want the bottom-left plots to look\n",
    "options(warn=-1)\n",
    "lm.plt <- function(data, mapping, ...){\n",
    "   plt <- ggplot(data = data, mapping = mapping) + \n",
    "    geom_point(shape = 20, alpha = 0.7, color = 'darkseagreen') + # Scattplot of data values for given feature vs. SalePrice\n",
    "    geom_smooth(method=loess, fill=\"red\", color=\"red\") + # LOESS trend curve\n",
    "    geom_smooth(method=lm, fill=\"blue\", color=\"blue\") + # line of best fit\n",
    "    theme_minimal() # this prevents it from displaying information about every feature and smoothing process\n",
    "  return(plt)\n",
    "}\n",
    "\n",
    "ggpairs(houses, highCorrelation[1:6], lower = list(continuous = lm.plt))"
   ]
  },
  {
   "cell_type": "code",
   "execution_count": 50,
   "metadata": {
    "scrolled": true
   },
   "outputs": [
    {
     "name": "stderr",
     "output_type": "stream",
     "text": [
      "`geom_smooth()` using formula 'y ~ x'\n",
      "`geom_smooth()` using formula 'y ~ x'\n",
      "`geom_smooth()` using formula 'y ~ x'\n",
      "`geom_smooth()` using formula 'y ~ x'\n",
      "`geom_smooth()` using formula 'y ~ x'\n",
      "`geom_smooth()` using formula 'y ~ x'\n",
      "`geom_smooth()` using formula 'y ~ x'\n",
      "`geom_smooth()` using formula 'y ~ x'\n",
      "`geom_smooth()` using formula 'y ~ x'\n",
      "`geom_smooth()` using formula 'y ~ x'\n",
      "`geom_smooth()` using formula 'y ~ x'\n",
      "`geom_smooth()` using formula 'y ~ x'\n",
      "`geom_smooth()` using formula 'y ~ x'\n",
      "`geom_smooth()` using formula 'y ~ x'\n",
      "`geom_smooth()` using formula 'y ~ x'\n",
      "`geom_smooth()` using formula 'y ~ x'\n",
      "`geom_smooth()` using formula 'y ~ x'\n",
      "`geom_smooth()` using formula 'y ~ x'\n",
      "`geom_smooth()` using formula 'y ~ x'\n",
      "`geom_smooth()` using formula 'y ~ x'\n",
      "`geom_smooth()` using formula 'y ~ x'\n",
      "`geom_smooth()` using formula 'y ~ x'\n",
      "`geom_smooth()` using formula 'y ~ x'\n",
      "`geom_smooth()` using formula 'y ~ x'\n",
      "`geom_smooth()` using formula 'y ~ x'\n",
      "`geom_smooth()` using formula 'y ~ x'\n",
      "`geom_smooth()` using formula 'y ~ x'\n",
      "`geom_smooth()` using formula 'y ~ x'\n",
      "`geom_smooth()` using formula 'y ~ x'\n",
      "`geom_smooth()` using formula 'y ~ x'\n"
     ]
    },
    {
     "data": {
      "image/png": "[encoded data removed]",
      "text/plain": [
       "plot without title"
      ]
     },
     "metadata": {},
     "output_type": "display_data"
    }
   ],
   "source": [
    "# Batch number two\n",
    "ggpairs(houses, highCorrelation[c(1,7:11)], lower = list(continuous = lm.plt))"
   ]
  },
  {
   "cell_type": "markdown",
   "metadata": {},
   "source": [
    "### Ok, we want to go about this very carefully, as removing outliers from our training data that, due to our use of cross-validation, will also serve as test data, could be consider \"cheating\" in a way when it comes to evaluating the effectiveness of our model. We argue however, that they make our model have less variance overall, since removing outliers allows for our model to better align with the trends of the housing market as a whole. Single our sample size is rather large, we expect that, the better a model fits most of our data here (i.e. our data excluding outliers), the better it will fit future test data.\n",
    "\n",
    "### Now, with that disclaimer out of the wat, let us take a look at OverallQual. From the small graph above, it appears there is an outlier at OverallQual=4 where the sale price is abnormally high, as well as an outlier at OverallQual=8 where the sales price is abnomally high. At OverallQual=10, there is a wide range of sale values, but a couple of them appear abnormally high. Let us take a closer look at these values using quick plot:"
   ]
  },
  {
   "cell_type": "code",
   "execution_count": 51,
   "metadata": {
    "scrolled": true
   },
   "outputs": [
    {
     "data": {
      "image/png": "[encoded data removed]",
      "text/plain": [
       "plot without title"
      ]
     },
     "metadata": {},
     "output_type": "display_data"
    }
   ],
   "source": [
    "qplot(factor(OverallQual),SalePrice, data = houses, geom='boxplot',xlab='OverallQual')"
   ]
  },
  {
   "cell_type": "markdown",
   "metadata": {},
   "source": [
    "### It's a tough decision...it seems the outlier at 4 and the outlier at 8 are exceptionally far from the mean given the data spread at these quality levels. Now, the variance in sales prices at this quality level 10 is pretty high, so eliminating those outliers is slightly harder to justify. Out of an excess of caution, we shall eliminate the outliers at 4 and 8 but leave the ones at 10.\n",
    "\n",
    "### Now, to target these outliers, it appears that 4 has sale price greater than 200000 and the one at 8 has sale price greater than 500000, so we can find them via these two values:"
   ]
  },
  {
   "cell_type": "code",
   "execution_count": 52,
   "metadata": {},
   "outputs": [
    {
     "data": {
      "text/html": [
       "<ol class=list-inline>\n",
       "\t<li>1458</li>\n",
       "\t<li>81</li>\n",
       "</ol>\n"
      ],
      "text/latex": [
       "\\begin{enumerate*}\n",
       "\\item 1458\n",
       "\\item 81\n",
       "\\end{enumerate*}\n"
      ],
      "text/markdown": [
       "1. 1458\n",
       "2. 81\n",
       "\n",
       "\n"
      ],
      "text/plain": [
       "[1] 1458   81"
      ]
     },
     "metadata": {},
     "output_type": "display_data"
    }
   ],
   "source": [
    "outliersOverallQual1 <- which(houses$OverallQual == 4 & houses$SalePrice > 200000 )\n",
    "houses <- houses[-outliersOverallQual1,]\n",
    "\n",
    "outliersOverallQual2 <- which(houses$OverallQual == 8 & houses$SalePrice > 500000 )\n",
    "houses <- houses[-outliersOverallQual2,]\n",
    "dim(houses)"
   ]
  },
  {
   "cell_type": "markdown",
   "metadata": {},
   "source": [
    "### Alright, we went from 1460 instances to 1458, so the removal worked. Now, let us look at the next most highly correlated feature, GrLivArea (i.e. living area above grade). From the small plot above, it looks like there are two outliers with outlandishly high values for this feature. Let us take a closer look with qplot:"
   ]
  },
  {
   "cell_type": "code",
   "execution_count": 53,
   "metadata": {
    "scrolled": true
   },
   "outputs": [
    {
     "name": "stderr",
     "output_type": "stream",
     "text": [
      "`geom_smooth()` using formula 'y ~ x'\n"
     ]
    },
    {
     "data": {
      "image/png": "[encoded data removed]",
      "text/plain": [
       "plot without title"
      ]
     },
     "metadata": {},
     "output_type": "display_data"
    }
   ],
   "source": [
    "qplot(GrLivArea,SalePrice , data=houses, geom = c('point','smooth'), method='lm')"
   ]
  },
  {
   "cell_type": "markdown",
   "metadata": {},
   "source": [
    "### Indeed, in the bottom right, we see two houses with large living area but relatively low sales prices. Perhaps these houses are on the outskirts of the city where space is not at a premium, or perhaps they were run-down and in a state of disrepair, but they are pulling the trendline down away from a more upward direction that would likely make them fit the data better. We can improve the predictive power of our model by eliminating them. While we are here, we also notice those two pesky houses with extraordinarily high sale prices also appear to be outliers for this feature as well. Recall, these two houses were borderline outliers for OverallQual as well. At this point, it might be reasonable to go ahead and eliminate them to increase the predictive power of our model for the vast majority of houses/ We do this by noticing these are the only four points with GrLivArea greater than 400:"
   ]
  },
  {
   "cell_type": "code",
   "execution_count": 54,
   "metadata": {},
   "outputs": [
    {
     "data": {
      "text/html": [
       "<ol class=list-inline>\n",
       "\t<li>1454</li>\n",
       "\t<li>81</li>\n",
       "</ol>\n"
      ],
      "text/latex": [
       "\\begin{enumerate*}\n",
       "\\item 1454\n",
       "\\item 81\n",
       "\\end{enumerate*}\n"
      ],
      "text/markdown": [
       "1. 1454\n",
       "2. 81\n",
       "\n",
       "\n"
      ],
      "text/plain": [
       "[1] 1454   81"
      ]
     },
     "metadata": {},
     "output_type": "display_data"
    }
   ],
   "source": [
    "outliersGrLivArea <- which(houses$GrLivArea > 4000)\n",
    "houses <- houses[-outliersGrLivArea,]\n",
    "dim(houses)"
   ]
  },
  {
   "cell_type": "markdown",
   "metadata": {},
   "source": [
    "### Great! We went from 1458 instances to 1454. Lastly, both GarageArea and GarageCars appear to wildly deviate from a linear model at higher feature values; let us take a closer look at the latter:"
   ]
  },
  {
   "cell_type": "code",
   "execution_count": 55,
   "metadata": {
    "scrolled": true
   },
   "outputs": [
    {
     "data": {
      "image/png": "[encoded data removed]",
      "text/plain": [
       "plot without title"
      ]
     },
     "metadata": {},
     "output_type": "display_data"
    }
   ],
   "source": [
    "qplot(factor(GarageCars),SalePrice, data = houses, geom='boxplot', xlab='Garage Cars')"
   ]
  },
  {
   "cell_type": "markdown",
   "metadata": {},
   "source": [
    "### We seem to have a linear relation up until GarageCars=4, when the value goes down again. There doesn't seem to be a good, logical way to fix this. We shouldn't try to introduce a new feature like GarageCars^2 or GarageCars^3 or anything like that to better match the data, because we might get some unfortunately results if in an eventual test set we had a house with GarageCars=5, in which case a quadratic model might predict a negative price and a cubic model likewise could predict a negative or very high price. That is to say, while doing something like that here wouldn't be an issue, overfitting here could create too much variance for future test sets we might want to use this model on (for instance, if I wanted to use this model on the Kaggle test set as a competition entry). For that reason, we will let this feature be.\n",
    "\n",
    "### Now, we notice that the trend of GarageArea diverges from a linear model in a similar way to GarageCars. In fact, if we look at the corrmap above, these two variables are highly correlated for obvious reasons: the bigger the garage, the more cars it can store. Let us look at the exact value here:"
   ]
  },
  {
   "cell_type": "code",
   "execution_count": 56,
   "metadata": {
    "scrolled": true
   },
   "outputs": [
    {
     "data": {
      "text/html": [
       "<table>\n",
       "<thead><tr><th></th><th scope=col>SalePrice</th><th scope=col>OverallQual</th><th scope=col>GrLivArea</th><th scope=col>ExterQual</th><th scope=col>KitchenQual</th><th scope=col>GarageCars</th><th scope=col>GarageArea</th><th scope=col>TotalBsmtSF</th><th scope=col>1stFlrSF</th><th scope=col>BsmtQual</th><th scope=col>FullBath</th><th scope=col>GarageFinish</th><th scope=col>TotRmsAbvGrd</th><th scope=col>YearBuilt</th><th scope=col>FireplaceQu</th><th scope=col>GarageYrBlt</th><th scope=col>YearRemodAdd</th></tr></thead>\n",
       "<tbody>\n",
       "\t<tr><th scope=row>SalePrice</th><td>1.0000000 </td><td>0.7909816 </td><td>0.7086245 </td><td>0.6826392 </td><td>0.6595997 </td><td>0.6404092 </td><td>0.6234314 </td><td>0.6135806 </td><td>0.6058522 </td><td>0.5852072 </td><td>0.5606638 </td><td>0.5492468 </td><td>0.53372316</td><td>0.52289733</td><td>0.5204376 </td><td>0.5080433 </td><td>0.5071010 </td></tr>\n",
       "\t<tr><th scope=row>OverallQual</th><td>0.7909816 </td><td>1.0000000 </td><td>0.5930074 </td><td>0.7262785 </td><td>0.6733308 </td><td>0.6006707 </td><td>0.5620218 </td><td>0.5378085 </td><td>0.4762238 </td><td>0.6293791 </td><td>0.5505997 </td><td>0.5568634 </td><td>0.42745234</td><td>0.57232277</td><td>0.4907878 </td><td>0.5550219 </td><td>0.5506839 </td></tr>\n",
       "\t<tr><th scope=row>GrLivArea</th><td>0.7086245 </td><td>0.5930074 </td><td>1.0000000 </td><td>0.4359861 </td><td>0.4205627 </td><td>0.4672474 </td><td>0.4689975 </td><td>0.4548682 </td><td>0.5660240 </td><td>0.3279556 </td><td>0.6300116 </td><td>0.3530215 </td><td>0.82548937</td><td>0.19900971</td><td>0.4699468 </td><td>0.2353869 </td><td>0.2873885 </td></tr>\n",
       "\t<tr><th scope=row>ExterQual</th><td>0.6826392 </td><td>0.7262785 </td><td>0.4359861 </td><td>1.0000000 </td><td>0.7161222 </td><td>0.5263902 </td><td>0.4957776 </td><td>0.4705796 </td><td>0.3978354 </td><td>0.5655581 </td><td>0.4839494 </td><td>0.5190542 </td><td>0.29790278</td><td>0.59816048</td><td>0.3617980 </td><td>0.5833311 </td><td>0.5873184 </td></tr>\n",
       "\t<tr><th scope=row>KitchenQual</th><td>0.6595997 </td><td>0.6733308 </td><td>0.4205627 </td><td>0.7161222 </td><td>1.0000000 </td><td>0.5098096 </td><td>0.4896056 </td><td>0.4326296 </td><td>0.3870273 </td><td>0.5109380 </td><td>0.4346480 </td><td>0.4745698 </td><td>0.28727854</td><td>0.53016534</td><td>0.3538059 </td><td>0.5352806 </td><td>0.6253161 </td></tr>\n",
       "\t<tr><th scope=row>GarageCars</th><td>0.6404092 </td><td>0.6006707 </td><td>0.4672474 </td><td>0.5263902 </td><td>0.5098096 </td><td>1.0000000 </td><td>0.8824754 </td><td>0.4345848 </td><td>0.4393168 </td><td>0.4491944 </td><td>0.4696720 </td><td>0.5797290 </td><td>0.36228857</td><td>0.53785009</td><td>0.3700339 </td><td>0.6198969 </td><td>0.4206222 </td></tr>\n",
       "\t<tr><th scope=row>GarageArea</th><td>0.6234314 </td><td>0.5620218 </td><td>0.4689975 </td><td>0.4957776 </td><td>0.4896056 </td><td>0.8824754 </td><td>1.0000000 </td><td>0.4866655 </td><td>0.4897817 </td><td>0.4061091 </td><td>0.4056562 </td><td>0.5164279 </td><td>0.33782212</td><td>0.47895382</td><td>0.3279733 </td><td>0.6028032 </td><td>0.3715998 </td></tr>\n",
       "\t<tr><th scope=row>TotalBsmtSF</th><td>0.6135806 </td><td>0.5378085 </td><td>0.4548682 </td><td>0.4705796 </td><td>0.4326296 </td><td>0.4345848 </td><td>0.4866655 </td><td>1.0000000 </td><td>0.8195300 </td><td>0.5642988 </td><td>0.3237224 </td><td>0.3715143 </td><td>0.28557256</td><td>0.39145200</td><td>0.3476154 </td><td>0.3459364 </td><td>0.2910656 </td></tr>\n",
       "\t<tr><th scope=row>1stFlrSF</th><td>0.6058522 </td><td>0.4762238 </td><td>0.5660240 </td><td>0.3978354 </td><td>0.3870273 </td><td>0.4393168 </td><td>0.4897817 </td><td>0.8195300 </td><td>1.0000000 </td><td>0.2935980 </td><td>0.3806375 </td><td>0.3341385 </td><td>0.40951598</td><td>0.28198586</td><td>0.4078874 </td><td>0.2657773 </td><td>0.2403793 </td></tr>\n",
       "\t<tr><th scope=row>BsmtQual</th><td>0.5852072 </td><td>0.6293791 </td><td>0.3279556 </td><td>0.5655581 </td><td>0.5109380 </td><td>0.4491944 </td><td>0.4061091 </td><td>0.5642988 </td><td>0.2935980 </td><td>1.0000000 </td><td>0.3712430 </td><td>0.4851840 </td><td>0.18584583</td><td>0.60279701</td><td>0.3073370 </td><td>0.5648719 </td><td>0.5150133 </td></tr>\n",
       "\t<tr><th scope=row>FullBath</th><td>0.5606638 </td><td>0.5505997 </td><td>0.6300116 </td><td>0.4839494 </td><td>0.4346480 </td><td>0.4696720 </td><td>0.4056562 </td><td>0.3237224 </td><td>0.3806375 </td><td>0.3712430 </td><td>1.0000000 </td><td>0.4075878 </td><td>0.55478425</td><td>0.46827079</td><td>0.2968570 </td><td>0.4638112 </td><td>0.4390465 </td></tr>\n",
       "\t<tr><th scope=row>GarageFinish</th><td>0.5492468 </td><td>0.5568634 </td><td>0.3530215 </td><td>0.5190542 </td><td>0.4745698 </td><td>0.5797290 </td><td>0.5164279 </td><td>0.3715143 </td><td>0.3341385 </td><td>0.4851840 </td><td>0.4075878 </td><td>1.0000000 </td><td>0.24129302</td><td>0.59578144</td><td>0.3948911 </td><td>0.5701384 </td><td>0.4445412 </td></tr>\n",
       "\t<tr><th scope=row>TotRmsAbvGrd</th><td>0.5337232 </td><td>0.4274523 </td><td>0.8254894 </td><td>0.2979028 </td><td>0.2872785 </td><td>0.3622886 </td><td>0.3378221 </td><td>0.2855726 </td><td>0.4095160 </td><td>0.1858458 </td><td>0.5547843 </td><td>0.2412930 </td><td>1.00000000</td><td>0.09558913</td><td>0.3555888 </td><td>0.1376660 </td><td>0.1917398 </td></tr>\n",
       "\t<tr><th scope=row>YearBuilt</th><td>0.5228973 </td><td>0.5723228 </td><td>0.1990097 </td><td>0.5981605 </td><td>0.5301653 </td><td>0.5378501 </td><td>0.4789538 </td><td>0.3914520 </td><td>0.2819859 </td><td>0.6027970 </td><td>0.4682708 </td><td>0.5957814 </td><td>0.09558913</td><td>1.00000000</td><td>0.2245451 </td><td>0.8451407 </td><td>0.5928550 </td></tr>\n",
       "\t<tr><th scope=row>FireplaceQu</th><td>0.5204376 </td><td>0.4907878 </td><td>0.4699468 </td><td>0.3617980 </td><td>0.3538059 </td><td>0.3700339 </td><td>0.3279733 </td><td>0.3476154 </td><td>0.4078874 </td><td>0.3073370 </td><td>0.2968570 </td><td>0.3948911 </td><td>0.35558878</td><td>0.22454514</td><td>1.0000000 </td><td>0.1879227 </td><td>0.1961033 </td></tr>\n",
       "\t<tr><th scope=row>GarageYrBlt</th><td>0.5080433 </td><td>0.5550219 </td><td>0.2353869 </td><td>0.5833311 </td><td>0.5352806 </td><td>0.6198969 </td><td>0.6028032 </td><td>0.3459364 </td><td>0.2657773 </td><td>0.5648719 </td><td>0.4638112 </td><td>0.5701384 </td><td>0.13766599</td><td>0.84514067</td><td>0.1879227 </td><td>1.0000000 </td><td>0.6043527 </td></tr>\n",
       "\t<tr><th scope=row>YearRemodAdd</th><td>0.5071010 </td><td>0.5506839 </td><td>0.2873885 </td><td>0.5873184 </td><td>0.6253161 </td><td>0.4206222 </td><td>0.3715998 </td><td>0.2910656 </td><td>0.2403793 </td><td>0.5150133 </td><td>0.4390465 </td><td>0.4445412 </td><td>0.19173982</td><td>0.59285498</td><td>0.1961033 </td><td>0.6043527 </td><td>1.0000000 </td></tr>\n",
       "</tbody>\n",
       "</table>\n"
      ],
      "text/latex": [
       "\\begin{tabular}{r|lllllllllllllllll}\n",
       "  & SalePrice & OverallQual & GrLivArea & ExterQual & KitchenQual & GarageCars & GarageArea & TotalBsmtSF & 1stFlrSF & BsmtQual & FullBath & GarageFinish & TotRmsAbvGrd & YearBuilt & FireplaceQu & GarageYrBlt & YearRemodAdd\\\\\n",
       "\\hline\n",
       "\tSalePrice & 1.0000000  & 0.7909816  & 0.7086245  & 0.6826392  & 0.6595997  & 0.6404092  & 0.6234314  & 0.6135806  & 0.6058522  & 0.5852072  & 0.5606638  & 0.5492468  & 0.53372316 & 0.52289733 & 0.5204376  & 0.5080433  & 0.5071010 \\\\\n",
       "\tOverallQual & 0.7909816  & 1.0000000  & 0.5930074  & 0.7262785  & 0.6733308  & 0.6006707  & 0.5620218  & 0.5378085  & 0.4762238  & 0.6293791  & 0.5505997  & 0.5568634  & 0.42745234 & 0.57232277 & 0.4907878  & 0.5550219  & 0.5506839 \\\\\n",
       "\tGrLivArea & 0.7086245  & 0.5930074  & 1.0000000  & 0.4359861  & 0.4205627  & 0.4672474  & 0.4689975  & 0.4548682  & 0.5660240  & 0.3279556  & 0.6300116  & 0.3530215  & 0.82548937 & 0.19900971 & 0.4699468  & 0.2353869  & 0.2873885 \\\\\n",
       "\tExterQual & 0.6826392  & 0.7262785  & 0.4359861  & 1.0000000  & 0.7161222  & 0.5263902  & 0.4957776  & 0.4705796  & 0.3978354  & 0.5655581  & 0.4839494  & 0.5190542  & 0.29790278 & 0.59816048 & 0.3617980  & 0.5833311  & 0.5873184 \\\\\n",
       "\tKitchenQual & 0.6595997  & 0.6733308  & 0.4205627  & 0.7161222  & 1.0000000  & 0.5098096  & 0.4896056  & 0.4326296  & 0.3870273  & 0.5109380  & 0.4346480  & 0.4745698  & 0.28727854 & 0.53016534 & 0.3538059  & 0.5352806  & 0.6253161 \\\\\n",
       "\tGarageCars & 0.6404092  & 0.6006707  & 0.4672474  & 0.5263902  & 0.5098096  & 1.0000000  & 0.8824754  & 0.4345848  & 0.4393168  & 0.4491944  & 0.4696720  & 0.5797290  & 0.36228857 & 0.53785009 & 0.3700339  & 0.6198969  & 0.4206222 \\\\\n",
       "\tGarageArea & 0.6234314  & 0.5620218  & 0.4689975  & 0.4957776  & 0.4896056  & 0.8824754  & 1.0000000  & 0.4866655  & 0.4897817  & 0.4061091  & 0.4056562  & 0.5164279  & 0.33782212 & 0.47895382 & 0.3279733  & 0.6028032  & 0.3715998 \\\\\n",
       "\tTotalBsmtSF & 0.6135806  & 0.5378085  & 0.4548682  & 0.4705796  & 0.4326296  & 0.4345848  & 0.4866655  & 1.0000000  & 0.8195300  & 0.5642988  & 0.3237224  & 0.3715143  & 0.28557256 & 0.39145200 & 0.3476154  & 0.3459364  & 0.2910656 \\\\\n",
       "\t1stFlrSF & 0.6058522  & 0.4762238  & 0.5660240  & 0.3978354  & 0.3870273  & 0.4393168  & 0.4897817  & 0.8195300  & 1.0000000  & 0.2935980  & 0.3806375  & 0.3341385  & 0.40951598 & 0.28198586 & 0.4078874  & 0.2657773  & 0.2403793 \\\\\n",
       "\tBsmtQual & 0.5852072  & 0.6293791  & 0.3279556  & 0.5655581  & 0.5109380  & 0.4491944  & 0.4061091  & 0.5642988  & 0.2935980  & 1.0000000  & 0.3712430  & 0.4851840  & 0.18584583 & 0.60279701 & 0.3073370  & 0.5648719  & 0.5150133 \\\\\n",
       "\tFullBath & 0.5606638  & 0.5505997  & 0.6300116  & 0.4839494  & 0.4346480  & 0.4696720  & 0.4056562  & 0.3237224  & 0.3806375  & 0.3712430  & 1.0000000  & 0.4075878  & 0.55478425 & 0.46827079 & 0.2968570  & 0.4638112  & 0.4390465 \\\\\n",
       "\tGarageFinish & 0.5492468  & 0.5568634  & 0.3530215  & 0.5190542  & 0.4745698  & 0.5797290  & 0.5164279  & 0.3715143  & 0.3341385  & 0.4851840  & 0.4075878  & 1.0000000  & 0.24129302 & 0.59578144 & 0.3948911  & 0.5701384  & 0.4445412 \\\\\n",
       "\tTotRmsAbvGrd & 0.5337232  & 0.4274523  & 0.8254894  & 0.2979028  & 0.2872785  & 0.3622886  & 0.3378221  & 0.2855726  & 0.4095160  & 0.1858458  & 0.5547843  & 0.2412930  & 1.00000000 & 0.09558913 & 0.3555888  & 0.1376660  & 0.1917398 \\\\\n",
       "\tYearBuilt & 0.5228973  & 0.5723228  & 0.1990097  & 0.5981605  & 0.5301653  & 0.5378501  & 0.4789538  & 0.3914520  & 0.2819859  & 0.6027970  & 0.4682708  & 0.5957814  & 0.09558913 & 1.00000000 & 0.2245451  & 0.8451407  & 0.5928550 \\\\\n",
       "\tFireplaceQu & 0.5204376  & 0.4907878  & 0.4699468  & 0.3617980  & 0.3538059  & 0.3700339  & 0.3279733  & 0.3476154  & 0.4078874  & 0.3073370  & 0.2968570  & 0.3948911  & 0.35558878 & 0.22454514 & 1.0000000  & 0.1879227  & 0.1961033 \\\\\n",
       "\tGarageYrBlt & 0.5080433  & 0.5550219  & 0.2353869  & 0.5833311  & 0.5352806  & 0.6198969  & 0.6028032  & 0.3459364  & 0.2657773  & 0.5648719  & 0.4638112  & 0.5701384  & 0.13766599 & 0.84514067 & 0.1879227  & 1.0000000  & 0.6043527 \\\\\n",
       "\tYearRemodAdd & 0.5071010  & 0.5506839  & 0.2873885  & 0.5873184  & 0.6253161  & 0.4206222  & 0.3715998  & 0.2910656  & 0.2403793  & 0.5150133  & 0.4390465  & 0.4445412  & 0.19173982 & 0.59285498 & 0.1961033  & 0.6043527  & 1.0000000 \\\\\n",
       "\\end{tabular}\n"
      ],
      "text/markdown": [
       "\n",
       "| <!--/--> | SalePrice | OverallQual | GrLivArea | ExterQual | KitchenQual | GarageCars | GarageArea | TotalBsmtSF | 1stFlrSF | BsmtQual | FullBath | GarageFinish | TotRmsAbvGrd | YearBuilt | FireplaceQu | GarageYrBlt | YearRemodAdd |\n",
       "|---|---|---|---|---|---|---|---|---|---|---|---|---|---|---|---|---|---|\n",
       "| SalePrice | 1.0000000  | 0.7909816  | 0.7086245  | 0.6826392  | 0.6595997  | 0.6404092  | 0.6234314  | 0.6135806  | 0.6058522  | 0.5852072  | 0.5606638  | 0.5492468  | 0.53372316 | 0.52289733 | 0.5204376  | 0.5080433  | 0.5071010  |\n",
       "| OverallQual | 0.7909816  | 1.0000000  | 0.5930074  | 0.7262785  | 0.6733308  | 0.6006707  | 0.5620218  | 0.5378085  | 0.4762238  | 0.6293791  | 0.5505997  | 0.5568634  | 0.42745234 | 0.57232277 | 0.4907878  | 0.5550219  | 0.5506839  |\n",
       "| GrLivArea | 0.7086245  | 0.5930074  | 1.0000000  | 0.4359861  | 0.4205627  | 0.4672474  | 0.4689975  | 0.4548682  | 0.5660240  | 0.3279556  | 0.6300116  | 0.3530215  | 0.82548937 | 0.19900971 | 0.4699468  | 0.2353869  | 0.2873885  |\n",
       "| ExterQual | 0.6826392  | 0.7262785  | 0.4359861  | 1.0000000  | 0.7161222  | 0.5263902  | 0.4957776  | 0.4705796  | 0.3978354  | 0.5655581  | 0.4839494  | 0.5190542  | 0.29790278 | 0.59816048 | 0.3617980  | 0.5833311  | 0.5873184  |\n",
       "| KitchenQual | 0.6595997  | 0.6733308  | 0.4205627  | 0.7161222  | 1.0000000  | 0.5098096  | 0.4896056  | 0.4326296  | 0.3870273  | 0.5109380  | 0.4346480  | 0.4745698  | 0.28727854 | 0.53016534 | 0.3538059  | 0.5352806  | 0.6253161  |\n",
       "| GarageCars | 0.6404092  | 0.6006707  | 0.4672474  | 0.5263902  | 0.5098096  | 1.0000000  | 0.8824754  | 0.4345848  | 0.4393168  | 0.4491944  | 0.4696720  | 0.5797290  | 0.36228857 | 0.53785009 | 0.3700339  | 0.6198969  | 0.4206222  |\n",
       "| GarageArea | 0.6234314  | 0.5620218  | 0.4689975  | 0.4957776  | 0.4896056  | 0.8824754  | 1.0000000  | 0.4866655  | 0.4897817  | 0.4061091  | 0.4056562  | 0.5164279  | 0.33782212 | 0.47895382 | 0.3279733  | 0.6028032  | 0.3715998  |\n",
       "| TotalBsmtSF | 0.6135806  | 0.5378085  | 0.4548682  | 0.4705796  | 0.4326296  | 0.4345848  | 0.4866655  | 1.0000000  | 0.8195300  | 0.5642988  | 0.3237224  | 0.3715143  | 0.28557256 | 0.39145200 | 0.3476154  | 0.3459364  | 0.2910656  |\n",
       "| 1stFlrSF | 0.6058522  | 0.4762238  | 0.5660240  | 0.3978354  | 0.3870273  | 0.4393168  | 0.4897817  | 0.8195300  | 1.0000000  | 0.2935980  | 0.3806375  | 0.3341385  | 0.40951598 | 0.28198586 | 0.4078874  | 0.2657773  | 0.2403793  |\n",
       "| BsmtQual | 0.5852072  | 0.6293791  | 0.3279556  | 0.5655581  | 0.5109380  | 0.4491944  | 0.4061091  | 0.5642988  | 0.2935980  | 1.0000000  | 0.3712430  | 0.4851840  | 0.18584583 | 0.60279701 | 0.3073370  | 0.5648719  | 0.5150133  |\n",
       "| FullBath | 0.5606638  | 0.5505997  | 0.6300116  | 0.4839494  | 0.4346480  | 0.4696720  | 0.4056562  | 0.3237224  | 0.3806375  | 0.3712430  | 1.0000000  | 0.4075878  | 0.55478425 | 0.46827079 | 0.2968570  | 0.4638112  | 0.4390465  |\n",
       "| GarageFinish | 0.5492468  | 0.5568634  | 0.3530215  | 0.5190542  | 0.4745698  | 0.5797290  | 0.5164279  | 0.3715143  | 0.3341385  | 0.4851840  | 0.4075878  | 1.0000000  | 0.24129302 | 0.59578144 | 0.3948911  | 0.5701384  | 0.4445412  |\n",
       "| TotRmsAbvGrd | 0.5337232  | 0.4274523  | 0.8254894  | 0.2979028  | 0.2872785  | 0.3622886  | 0.3378221  | 0.2855726  | 0.4095160  | 0.1858458  | 0.5547843  | 0.2412930  | 1.00000000 | 0.09558913 | 0.3555888  | 0.1376660  | 0.1917398  |\n",
       "| YearBuilt | 0.5228973  | 0.5723228  | 0.1990097  | 0.5981605  | 0.5301653  | 0.5378501  | 0.4789538  | 0.3914520  | 0.2819859  | 0.6027970  | 0.4682708  | 0.5957814  | 0.09558913 | 1.00000000 | 0.2245451  | 0.8451407  | 0.5928550  |\n",
       "| FireplaceQu | 0.5204376  | 0.4907878  | 0.4699468  | 0.3617980  | 0.3538059  | 0.3700339  | 0.3279733  | 0.3476154  | 0.4078874  | 0.3073370  | 0.2968570  | 0.3948911  | 0.35558878 | 0.22454514 | 1.0000000  | 0.1879227  | 0.1961033  |\n",
       "| GarageYrBlt | 0.5080433  | 0.5550219  | 0.2353869  | 0.5833311  | 0.5352806  | 0.6198969  | 0.6028032  | 0.3459364  | 0.2657773  | 0.5648719  | 0.4638112  | 0.5701384  | 0.13766599 | 0.84514067 | 0.1879227  | 1.0000000  | 0.6043527  |\n",
       "| YearRemodAdd | 0.5071010  | 0.5506839  | 0.2873885  | 0.5873184  | 0.6253161  | 0.4206222  | 0.3715998  | 0.2910656  | 0.2403793  | 0.5150133  | 0.4390465  | 0.4445412  | 0.19173982 | 0.59285498 | 0.1961033  | 0.6043527  | 1.0000000  |\n",
       "\n"
      ],
      "text/plain": [
       "             SalePrice OverallQual GrLivArea ExterQual KitchenQual GarageCars\n",
       "SalePrice    1.0000000 0.7909816   0.7086245 0.6826392 0.6595997   0.6404092 \n",
       "OverallQual  0.7909816 1.0000000   0.5930074 0.7262785 0.6733308   0.6006707 \n",
       "GrLivArea    0.7086245 0.5930074   1.0000000 0.4359861 0.4205627   0.4672474 \n",
       "ExterQual    0.6826392 0.7262785   0.4359861 1.0000000 0.7161222   0.5263902 \n",
       "KitchenQual  0.6595997 0.6733308   0.4205627 0.7161222 1.0000000   0.5098096 \n",
       "GarageCars   0.6404092 0.6006707   0.4672474 0.5263902 0.5098096   1.0000000 \n",
       "GarageArea   0.6234314 0.5620218   0.4689975 0.4957776 0.4896056   0.8824754 \n",
       "TotalBsmtSF  0.6135806 0.5378085   0.4548682 0.4705796 0.4326296   0.4345848 \n",
       "1stFlrSF     0.6058522 0.4762238   0.5660240 0.3978354 0.3870273   0.4393168 \n",
       "BsmtQual     0.5852072 0.6293791   0.3279556 0.5655581 0.5109380   0.4491944 \n",
       "FullBath     0.5606638 0.5505997   0.6300116 0.4839494 0.4346480   0.4696720 \n",
       "GarageFinish 0.5492468 0.5568634   0.3530215 0.5190542 0.4745698   0.5797290 \n",
       "TotRmsAbvGrd 0.5337232 0.4274523   0.8254894 0.2979028 0.2872785   0.3622886 \n",
       "YearBuilt    0.5228973 0.5723228   0.1990097 0.5981605 0.5301653   0.5378501 \n",
       "FireplaceQu  0.5204376 0.4907878   0.4699468 0.3617980 0.3538059   0.3700339 \n",
       "GarageYrBlt  0.5080433 0.5550219   0.2353869 0.5833311 0.5352806   0.6198969 \n",
       "YearRemodAdd 0.5071010 0.5506839   0.2873885 0.5873184 0.6253161   0.4206222 \n",
       "             GarageArea TotalBsmtSF 1stFlrSF  BsmtQual  FullBath  GarageFinish\n",
       "SalePrice    0.6234314  0.6135806   0.6058522 0.5852072 0.5606638 0.5492468   \n",
       "OverallQual  0.5620218  0.5378085   0.4762238 0.6293791 0.5505997 0.5568634   \n",
       "GrLivArea    0.4689975  0.4548682   0.5660240 0.3279556 0.6300116 0.3530215   \n",
       "ExterQual    0.4957776  0.4705796   0.3978354 0.5655581 0.4839494 0.5190542   \n",
       "KitchenQual  0.4896056  0.4326296   0.3870273 0.5109380 0.4346480 0.4745698   \n",
       "GarageCars   0.8824754  0.4345848   0.4393168 0.4491944 0.4696720 0.5797290   \n",
       "GarageArea   1.0000000  0.4866655   0.4897817 0.4061091 0.4056562 0.5164279   \n",
       "TotalBsmtSF  0.4866655  1.0000000   0.8195300 0.5642988 0.3237224 0.3715143   \n",
       "1stFlrSF     0.4897817  0.8195300   1.0000000 0.2935980 0.3806375 0.3341385   \n",
       "BsmtQual     0.4061091  0.5642988   0.2935980 1.0000000 0.3712430 0.4851840   \n",
       "FullBath     0.4056562  0.3237224   0.3806375 0.3712430 1.0000000 0.4075878   \n",
       "GarageFinish 0.5164279  0.3715143   0.3341385 0.4851840 0.4075878 1.0000000   \n",
       "TotRmsAbvGrd 0.3378221  0.2855726   0.4095160 0.1858458 0.5547843 0.2412930   \n",
       "YearBuilt    0.4789538  0.3914520   0.2819859 0.6027970 0.4682708 0.5957814   \n",
       "FireplaceQu  0.3279733  0.3476154   0.4078874 0.3073370 0.2968570 0.3948911   \n",
       "GarageYrBlt  0.6028032  0.3459364   0.2657773 0.5648719 0.4638112 0.5701384   \n",
       "YearRemodAdd 0.3715998  0.2910656   0.2403793 0.5150133 0.4390465 0.4445412   \n",
       "             TotRmsAbvGrd YearBuilt  FireplaceQu GarageYrBlt YearRemodAdd\n",
       "SalePrice    0.53372316   0.52289733 0.5204376   0.5080433   0.5071010   \n",
       "OverallQual  0.42745234   0.57232277 0.4907878   0.5550219   0.5506839   \n",
       "GrLivArea    0.82548937   0.19900971 0.4699468   0.2353869   0.2873885   \n",
       "ExterQual    0.29790278   0.59816048 0.3617980   0.5833311   0.5873184   \n",
       "KitchenQual  0.28727854   0.53016534 0.3538059   0.5352806   0.6253161   \n",
       "GarageCars   0.36228857   0.53785009 0.3700339   0.6198969   0.4206222   \n",
       "GarageArea   0.33782212   0.47895382 0.3279733   0.6028032   0.3715998   \n",
       "TotalBsmtSF  0.28557256   0.39145200 0.3476154   0.3459364   0.2910656   \n",
       "1stFlrSF     0.40951598   0.28198586 0.4078874   0.2657773   0.2403793   \n",
       "BsmtQual     0.18584583   0.60279701 0.3073370   0.5648719   0.5150133   \n",
       "FullBath     0.55478425   0.46827079 0.2968570   0.4638112   0.4390465   \n",
       "GarageFinish 0.24129302   0.59578144 0.3948911   0.5701384   0.4445412   \n",
       "TotRmsAbvGrd 1.00000000   0.09558913 0.3555888   0.1376660   0.1917398   \n",
       "YearBuilt    0.09558913   1.00000000 0.2245451   0.8451407   0.5928550   \n",
       "FireplaceQu  0.35558878   0.22454514 1.0000000   0.1879227   0.1961033   \n",
       "GarageYrBlt  0.13766599   0.84514067 0.1879227   1.0000000   0.6043527   \n",
       "YearRemodAdd 0.19173982   0.59285498 0.1961033   0.6043527   1.0000000   "
      ]
     },
     "metadata": {},
     "output_type": "display_data"
    }
   ],
   "source": [
    "correlation"
   ]
  },
  {
   "cell_type": "markdown",
   "metadata": {},
   "source": [
    "### Indeed, GarageCars and GarageArea have a correlation of 0.8825. Now, with two features so highly correlated that both have an unfortunate non-linear trend for higher values, we fear that they are factoring in disproportionately in our linear model, since we are essentially getting penalized twice for big garages, drags the linear model dow, decreasing the coefficients for these features and making the model worse overall for houses with small garages. In order to reduce this effect, let us only keep one, GarageCars, since it has a higher correlation with SalePrice.\n",
    "\n",
    "### While we're at it, there appear to be lots of highly correlated features that may be introducing unnecessary noise into our model since we are measuring the same physical thing twice. Also, GarageYrBlt predictably has a very high correlation with YearBlt at 0.84514. Why don't  we eliminate GarageYrBlt since it has a lower correlation with SalePrice. Lastly, for obvious reasons (more rooms=more area usually), TotalRmsAbvGrd has 0.8255 correlation with GrLivArea, so we will ditch the former since the latter has better correlation with SalePrice"
   ]
  },
  {
   "cell_type": "code",
   "execution_count": 57,
   "metadata": {},
   "outputs": [],
   "source": [
    "houses <- houses[,!(names(houses) %in% c('GarageYrBlt', 'GarageArea', 'TotRmsAbvGrd'))]"
   ]
  },
  {
   "cell_type": "code",
   "execution_count": 58,
   "metadata": {},
   "outputs": [
    {
     "data": {
      "text/html": [
       "<ol class=list-inline>\n",
       "\t<li>1454</li>\n",
       "\t<li>78</li>\n",
       "</ol>\n"
      ],
      "text/latex": [
       "\\begin{enumerate*}\n",
       "\\item 1454\n",
       "\\item 78\n",
       "\\end{enumerate*}\n"
      ],
      "text/markdown": [
       "1. 1454\n",
       "2. 78\n",
       "\n",
       "\n"
      ],
      "text/plain": [
       "[1] 1454   78"
      ]
     },
     "metadata": {},
     "output_type": "display_data"
    }
   ],
   "source": [
    "dim(houses)"
   ]
  },
  {
   "cell_type": "markdown",
   "metadata": {},
   "source": [
    "### Ok, we are down to 78 features. This whole concept of eliminating highly correlated features gives us an idea. Perhaps, we can combine certain features into a single feature that will summarize these features, in such a way that we can keep the single feature and possibly eliminate the others. For instance, something that may summarize all the area variables in a useful way is a variable that simply sums all the area features to get total area of the house. Let us make this feature and see how it correlates with SalePrice:"
   ]
  },
  {
   "cell_type": "code",
   "execution_count": 59,
   "metadata": {},
   "outputs": [
    {
     "name": "stdout",
     "output_type": "stream",
     "text": [
      "[1] \"Correlation:  0.819934502813852\"\n"
     ]
    }
   ],
   "source": [
    "houses$TotalSF <- houses$GrLivArea + houses$TotalBsmtSF\n",
    "print(paste(\"Correlation: \", cor(houses$TotalSF, houses$SalePrice)))"
   ]
  },
  {
   "cell_type": "markdown",
   "metadata": {},
   "source": [
    "### Wow, we have just made our best feature yet! Another one that might be interesting is the age of the house when it was sold (taking remodeling into account). Obviously, under the hood, our linear model assigns coefficients to the two features to take this into account, but if we explicitly make then feature, we might be able to eliminate YrSold and YrRemodAdd to streamline our model a litte:"
   ]
  },
  {
   "cell_type": "code",
   "execution_count": 60,
   "metadata": {},
   "outputs": [
    {
     "name": "stdout",
     "output_type": "stream",
     "text": [
      "[1] \"Correlation:  -0.524579871380559\"\n"
     ]
    }
   ],
   "source": [
    "houses$AgeWhenSold <- as.numeric(houses$YrSold)-houses$YearRemodAdd\n",
    "print(paste(\"Correlation: \", cor(houses$AgeWhenSold, houses$SalePrice)))"
   ]
  },
  {
   "cell_type": "markdown",
   "metadata": {},
   "source": [
    "### Ok, not bad. This is a slightly better predictor of SalePrice than YrBlt or YearRemodAdd, so this is a slight improvement. Now, another one we might try is a simplification of the two bathroom features (FullBath and HalfBath) into a single feature. TotBathrooms:"
   ]
  },
  {
   "cell_type": "code",
   "execution_count": 61,
   "metadata": {},
   "outputs": [
    {
     "name": "stdout",
     "output_type": "stream",
     "text": [
      "[1] \"Correlation:  0.633526616680689\"\n"
     ]
    }
   ],
   "source": [
    "houses$TotBathrooms <- houses$FullBath + (houses$HalfBath*0.5) + houses$BsmtFullBath + (houses$BsmtHalfBath*0.5)\n",
    "print(paste(\"Correlation: \", cor(houses$TotBathrooms, houses$SalePrice)))"
   ]
  },
  {
   "cell_type": "markdown",
   "metadata": {},
   "source": [
    "### Ah, another useful feature indeed. Now, we might try to add some categorical binary features to improve learning, as these types of features won't introduce any noise into the model since they are just 0 or 1, and might fix some of the noise issues with measurement or quality features related to the items in question. For instance, a hasGarage feature and a hasPool feature might smooth out some of the noise from using measurements related to these two features alone (since all the zero values for the measurement features will drag down that regression line, when it would be better to move up the intercept for cases when we know a house has a pool to better model the increases in SalePrice related to changes in this value)"
   ]
  },
  {
   "cell_type": "code",
   "execution_count": 62,
   "metadata": {},
   "outputs": [
    {
     "name": "stdout",
     "output_type": "stream",
     "text": [
      "[1] \"Correlation:  0.244214134778817\"\n",
      "[1] \"Correlation:  0.0328290738660012\"\n"
     ]
    }
   ],
   "source": [
    "houses$HasGarage <- ifelse(houses$GarageCars > 0, 1, 0)\n",
    "print(paste(\"Correlation: \", cor(houses$HasGarage, houses$SalePrice)))\n",
    "houses$HasPool <- ifelse(houses$PoolArea > 0, 1, 0)\n",
    "print(paste(\"Correlation: \", cor(houses$HasPool, houses$SalePrice)))"
   ]
  },
  {
   "cell_type": "markdown",
   "metadata": {},
   "source": [
    "### The correlation isn't high, but that isn't the function of these features. They will help with the linear model later on. Another useful categorical feature might be whether or not the house was new when it was sold (i.e. YrSold=YearBuilt). With cars, houses, boats, and other high-value items, there is a certain premium that one must pay to buy the item new vs. used. To take this into account, we can introduce a feature that will indicate this:"
   ]
  },
  {
   "cell_type": "code",
   "execution_count": 63,
   "metadata": {},
   "outputs": [
    {
     "name": "stdout",
     "output_type": "stream",
     "text": [
      "[1] \"Correlation:  0.242359604571845\"\n"
     ]
    }
   ],
   "source": [
    "houses$WasNew <- ifelse(houses$YrSold==houses$YearBuilt, 1, 0)\n",
    "print(paste(\"Correlation: \", cor(houses$WasNew, houses$SalePrice)))"
   ]
  },
  {
   "cell_type": "markdown",
   "metadata": {},
   "source": [
    "### Once again, this feature is less about correlation and more about improving the linear model. I mostly am just calculating the correlation for these categorical features to make sure they got added successfully to the data frame. Now, last of these binary features we will add is whether or not the home has been remodeled. If so, it might correspond to a certain flat increase in home value that we might want to take into account:"
   ]
  },
  {
   "cell_type": "code",
   "execution_count": 64,
   "metadata": {},
   "outputs": [
    {
     "name": "stdout",
     "output_type": "stream",
     "text": [
      "[1] \"Correlation:  -0.0213972753460313\"\n"
     ]
    }
   ],
   "source": [
    "houses$Remodeled <- ifelse(houses$YearBuilt==houses$YearRemodAdd, 0, 1)\n",
    "print(paste(\"Correlation: \", cor(houses$Remodeled, houses$SalePrice)))"
   ]
  },
  {
   "cell_type": "markdown",
   "metadata": {},
   "source": [
    "### Lastly, it is possible that certain neighbourhoods are gated communities or otherwise rich neighbourhoods, and experience a sharp increase in price by the fact itself of being location in these neighbourhoods. Similarly, perhaps certain areas might be categorically more poor and blighted than others, experiencing a sharp drop-off in home prices. The kinds of divisions might negatively impact our linear model since the sharp spike in prices in rich neighbourhoods cannot be accurately modeled by the same line that also must fit the prices in the rest of the neighbourhoods. Similarly, a straight linear model on home prices might have issues with a sharp drop-off in prices for particularly blighted neightbourhoods. The solution is to introduce a feature that will step up everytime there is a sharp increase in price levels between neighbourhoods. Let us take a look at the median sales prices in different neighbourhoods to see if there is a noticeable spike anywhere:"
   ]
  },
  {
   "cell_type": "code",
   "execution_count": 65,
   "metadata": {
    "scrolled": true
   },
   "outputs": [
    {
     "name": "stderr",
     "output_type": "stream",
     "text": [
      "No summary function supplied, defaulting to `mean_se()`\n"
     ]
    },
    {
     "data": {
      "image/png": "[encoded data removed]",
      "text/plain": [
       "plot without title"
      ]
     },
     "metadata": {},
     "output_type": "display_data"
    }
   ],
   "source": [
    "ggplot(houses, aes(x=reorder(Neighborhood, SalePrice, FUN=median), y=SalePrice, alpha=I(0.55))) +\n",
    "        geom_bar(stat='summary', fun.y = \"median\", fill='red') + labs(x='Neighbourhood', y='Median SalePrice') +\n",
    "        theme(axis.text.x = element_text(angle = 30, hjust = 1)) +\n",
    "        scale_y_continuous(breaks= seq(0, 400000, by=50000)) +\n",
    "        geom_label(stat = \"count\", aes(label = ..count.., y = ..count..), size=2.5)"
   ]
  },
  {
   "cell_type": "markdown",
   "metadata": {},
   "source": [
    "### Indeed, it looks like we have 3 groups that internally each follow a vaguely linear trend. After the initial 3 poorest neighbourhoods (MeadowV, IDOTRR, and BrDale), there is a small jump, then we have a large group of neighbourhoods in the middle where median price value goes up more or less linearly, then there is another jump to a group of rich neighbourhoods StoneBy, NoRidge, and NridgHt, where home prices are markedly higher. Let us create labels for these different groups of homes, 0 for the poorest neighbourhoods, 1 for the main group, and 2 for the richest neighbourhoods:"
   ]
  },
  {
   "cell_type": "code",
   "execution_count": 66,
   "metadata": {},
   "outputs": [
    {
     "name": "stdout",
     "output_type": "stream",
     "text": [
      "[1] \"Correlation:  0.5795898901631\"\n"
     ]
    }
   ],
   "source": [
    "houses$NeighClass[houses$Neighborhood %in% c('StoneBr', 'NridgHt', 'NoRidge')] <- 2\n",
    "houses$NeighClass[!houses$Neighborhood %in% c('MeadowV', 'IDOTRR', 'BrDale', 'StoneBr', 'NridgHt', 'NoRidge')] <- 1\n",
    "houses$NeighClass[houses$Neighborhood %in% c('MeadowV', 'IDOTRR', 'BrDale')] <- 0\n",
    "\n",
    "print(paste(\"Correlation: \", cor(houses$NeighClass, houses$SalePrice)))"
   ]
  },
  {
   "cell_type": "markdown",
   "metadata": {},
   "source": [
    "### This is already an effective feature on the basis of its correlation alone, and it should work well in combination with others in the linear model. Now, the goal of a lot of these features was to be able to remove similar features with which they correlate strongly, so let us take a look at the correlation matrix again and see if these high expected correlations pan out:"
   ]
  },
  {
   "cell_type": "code",
   "execution_count": 67,
   "metadata": {
    "scrolled": true
   },
   "outputs": [
    {
     "data": {
      "image/png": "[encoded data removed]",
      "text/plain": [
       "Plot with title \"\""
      ]
     },
     "metadata": {},
     "output_type": "display_data"
    }
   ],
   "source": [
    "# First this only works for numeric variables, so let us make a df with those\n",
    "numericVariables <-  unlist(lapply(houses, is.numeric))\n",
    "# Now we find the correlation between the different numeric features\n",
    "correlation = cor(houses[numericVariables])\n",
    "# Now we will order them in order of which features have the highest correlation with SalePrice\n",
    "correlation_sorted <- as.matrix(sort(correlation[,'SalePrice'], decreasing = TRUE))\n",
    "# So our graphic isn't too big, let us only look at ones that have a correlation with magnitude greater than 0.5 (in either direction)\n",
    "highCorrelation <- names(which(apply(correlation_sorted, 1, function(x) abs(x)>0.5)))\n",
    "correlation <- correlation[highCorrelation, highCorrelation]\n",
    "corrplot(correlation)"
   ]
  },
  {
   "cell_type": "markdown",
   "metadata": {},
   "source": [
    "### As planned, our best new best feature, TotalSF, correlated highly with TotalBsmtSF and 1stFlrSF. How highly? Let us take a look at the matrix:"
   ]
  },
  {
   "cell_type": "code",
   "execution_count": 68,
   "metadata": {
    "scrolled": true
   },
   "outputs": [
    {
     "data": {
      "text/html": [
       "<table>\n",
       "<thead><tr><th></th><th scope=col>SalePrice</th><th scope=col>TotalSF</th><th scope=col>OverallQual</th><th scope=col>GrLivArea</th><th scope=col>ExterQual</th><th scope=col>KitchenQual</th><th scope=col>GarageCars</th><th scope=col>TotalBsmtSF</th><th scope=col>TotBathrooms</th><th scope=col>1stFlrSF</th><th scope=col>BsmtQual</th><th scope=col>NeighClass</th><th scope=col>FullBath</th><th scope=col>GarageFinish</th><th scope=col>YearBuilt</th><th scope=col>FireplaceQu</th><th scope=col>YearRemodAdd</th><th scope=col>AgeWhenSold</th></tr></thead>\n",
       "<tbody>\n",
       "\t<tr><th scope=row>SalePrice</th><td> 1.0000000</td><td> 0.8199345</td><td> 0.8049165</td><td> 0.7176366</td><td> 0.6934904</td><td> 0.6649624</td><td> 0.6494586</td><td> 0.6470769</td><td> 0.6335266</td><td> 0.6254278</td><td> 0.5945915</td><td> 0.5795899</td><td> 0.5572099</td><td> 0.5563504</td><td> 0.5367659</td><td> 0.5288297</td><td> 0.5225779</td><td>-0.5245799</td></tr>\n",
       "\t<tr><th scope=row>TotalSF</th><td> 0.8199345</td><td> 1.0000000</td><td> 0.6708351</td><td> 0.8662759</td><td> 0.5244044</td><td> 0.4953830</td><td> 0.5515700</td><td> 0.7999446</td><td> 0.5972161</td><td> 0.7756388</td><td> 0.5196826</td><td> 0.4717582</td><td> 0.5866698</td><td> 0.4286573</td><td> 0.3418912</td><td> 0.5013625</td><td> 0.3480132</td><td>-0.3500955</td></tr>\n",
       "\t<tr><th scope=row>OverallQual</th><td> 0.8049165</td><td> 0.6708351</td><td> 1.0000000</td><td> 0.5838634</td><td> 0.7216979</td><td> 0.6687683</td><td> 0.5989466</td><td> 0.5333455</td><td> 0.5303760</td><td> 0.4634053</td><td> 0.6265435</td><td> 0.4904493</td><td> 0.5424763</td><td> 0.5550940</td><td> 0.5712256</td><td> 0.4892141</td><td> 0.5515871</td><td>-0.5533702</td></tr>\n",
       "\t<tr><th scope=row>GrLivArea</th><td> 0.7176366</td><td> 0.8662759</td><td> 0.5838634</td><td> 1.0000000</td><td> 0.4182864</td><td> 0.4046005</td><td> 0.4724748</td><td> 0.3931962</td><td> 0.5835242</td><td> 0.5220974</td><td> 0.3173981</td><td> 0.3738002</td><td> 0.6334676</td><td> 0.3470682</td><td> 0.1911231</td><td> 0.4765680</td><td> 0.2883782</td><td>-0.2907682</td></tr>\n",
       "\t<tr><th scope=row>ExterQual</th><td> 0.6934904</td><td> 0.5244044</td><td> 0.7216979</td><td> 0.4182864</td><td> 1.0000000</td><td> 0.7119309</td><td> 0.5231397</td><td> 0.4627283</td><td> 0.4633461</td><td> 0.3819678</td><td> 0.5623102</td><td> 0.4734863</td><td> 0.4751176</td><td> 0.5156611</td><td> 0.5971232</td><td> 0.3567741</td><td> 0.5876636</td><td>-0.5882694</td></tr>\n",
       "\t<tr><th scope=row>KitchenQual</th><td> 0.6649624</td><td> 0.4953830</td><td> 0.6687683</td><td> 0.4046005</td><td> 0.7119309</td><td> 1.0000000</td><td> 0.5053878</td><td> 0.4257535</td><td> 0.4537620</td><td> 0.3730054</td><td> 0.5057644</td><td> 0.4112987</td><td> 0.4258603</td><td> 0.4688930</td><td> 0.5283991</td><td> 0.3481220</td><td> 0.6250917</td><td>-0.6250957</td></tr>\n",
       "\t<tr><th scope=row>GarageCars</th><td> 0.6494586</td><td> 0.5515700</td><td> 0.5989466</td><td> 0.4724748</td><td> 0.5231397</td><td> 0.5053878</td><td> 1.0000000</td><td> 0.4476363</td><td> 0.4788101</td><td> 0.4449605</td><td> 0.4457924</td><td> 0.4172661</td><td> 0.4642803</td><td> 0.5772445</td><td> 0.5364615</td><td> 0.3666300</td><td> 0.4190231</td><td>-0.4216353</td></tr>\n",
       "\t<tr><th scope=row>TotalBsmtSF</th><td> 0.6470769</td><td> 0.7999446</td><td> 0.5333455</td><td> 0.3931962</td><td> 0.4627283</td><td> 0.4257535</td><td> 0.4476363</td><td> 1.0000000</td><td> 0.3982567</td><td> 0.8004301</td><td> 0.5752238</td><td> 0.4192690</td><td> 0.3188547</td><td> 0.3720517</td><td> 0.3996778</td><td> 0.3503122</td><td> 0.2941236</td><td>-0.2950852</td></tr>\n",
       "\t<tr><th scope=row>TotBathrooms</th><td> 0.6335266</td><td> 0.5972161</td><td> 0.5303760</td><td> 0.5835242</td><td> 0.4633461</td><td> 0.4537620</td><td> 0.4788101</td><td> 0.3982567</td><td> 1.0000000</td><td> 0.3701456</td><td> 0.4738614</td><td> 0.3391675</td><td> 0.6888050</td><td> 0.4558407</td><td> 0.5225437</td><td> 0.3213974</td><td> 0.4423063</td><td>-0.4410965</td></tr>\n",
       "\t<tr><th scope=row>1stFlrSF</th><td> 0.6254278</td><td> 0.7756388</td><td> 0.4634053</td><td> 0.5220974</td><td> 0.3819678</td><td> 0.3730054</td><td> 0.4449605</td><td> 0.8004301</td><td> 0.3701456</td><td> 1.0000000</td><td> 0.2824169</td><td> 0.4095564</td><td> 0.3745238</td><td> 0.3277767</td><td> 0.2799385</td><td> 0.4090786</td><td> 0.2374142</td><td>-0.2382260</td></tr>\n",
       "\t<tr><th scope=row>BsmtQual</th><td> 0.5945915</td><td> 0.5196826</td><td> 0.6265435</td><td> 0.3173981</td><td> 0.5623102</td><td> 0.5057644</td><td> 0.4457924</td><td> 0.5752238</td><td> 0.4738614</td><td> 0.2824169</td><td> 1.0000000</td><td> 0.3299678</td><td> 0.3656129</td><td> 0.4813400</td><td> 0.6016455</td><td> 0.3029492</td><td> 0.5135329</td><td>-0.5149513</td></tr>\n",
       "\t<tr><th scope=row>NeighClass</th><td> 0.5795899</td><td> 0.4717582</td><td> 0.4904493</td><td> 0.3738002</td><td> 0.4734863</td><td> 0.4112987</td><td> 0.4172661</td><td> 0.4192690</td><td> 0.3391675</td><td> 0.4095564</td><td> 0.3299678</td><td> 1.0000000</td><td> 0.3196050</td><td> 0.3221889</td><td> 0.3519702</td><td> 0.3166672</td><td> 0.3105079</td><td>-0.3103202</td></tr>\n",
       "\t<tr><th scope=row>FullBath</th><td> 0.5572099</td><td> 0.5866698</td><td> 0.5424763</td><td> 0.6334676</td><td> 0.4751176</td><td> 0.4258603</td><td> 0.4642803</td><td> 0.3188547</td><td> 0.6888050</td><td> 0.3745238</td><td> 0.3656129</td><td> 0.3196050</td><td> 1.0000000</td><td> 0.4032281</td><td> 0.4659108</td><td> 0.2922724</td><td> 0.4382804</td><td>-0.4396330</td></tr>\n",
       "\t<tr><th scope=row>GarageFinish</th><td> 0.5563504</td><td> 0.4286573</td><td> 0.5550940</td><td> 0.3470682</td><td> 0.5156611</td><td> 0.4688930</td><td> 0.5772445</td><td> 0.3720517</td><td> 0.4558407</td><td> 0.3277767</td><td> 0.4813400</td><td> 0.3221889</td><td> 0.4032281</td><td> 1.0000000</td><td> 0.5950540</td><td> 0.3906723</td><td> 0.4424978</td><td>-0.4425059</td></tr>\n",
       "\t<tr><th scope=row>YearBuilt</th><td> 0.5367659</td><td> 0.3418912</td><td> 0.5712256</td><td> 0.1911231</td><td> 0.5971232</td><td> 0.5283991</td><td> 0.5364615</td><td> 0.3996778</td><td> 0.5225437</td><td> 0.2799385</td><td> 0.6016455</td><td> 0.3519702</td><td> 0.4659108</td><td> 0.5950540</td><td> 1.0000000</td><td> 0.2220233</td><td> 0.5919320</td><td>-0.5929477</td></tr>\n",
       "\t<tr><th scope=row>FireplaceQu</th><td> 0.5288297</td><td> 0.5013625</td><td> 0.4892141</td><td> 0.4765680</td><td> 0.3567741</td><td> 0.3481220</td><td> 0.3666300</td><td> 0.3503122</td><td> 0.3213974</td><td> 0.4090786</td><td> 0.3029492</td><td> 0.3166672</td><td> 0.2922724</td><td> 0.3906723</td><td> 0.2220233</td><td> 1.0000000</td><td> 0.1932088</td><td>-0.1965713</td></tr>\n",
       "\t<tr><th scope=row>YearRemodAdd</th><td> 0.5225779</td><td> 0.3480132</td><td> 0.5515871</td><td> 0.2883782</td><td> 0.5876636</td><td> 0.6250917</td><td> 0.4190231</td><td> 0.2941236</td><td> 0.4423063</td><td> 0.2374142</td><td> 0.5135329</td><td> 0.3105079</td><td> 0.4382804</td><td> 0.4424978</td><td> 0.5919320</td><td> 0.1932088</td><td> 1.0000000</td><td>-0.9979303</td></tr>\n",
       "\t<tr><th scope=row>AgeWhenSold</th><td>-0.5245799</td><td>-0.3500955</td><td>-0.5533702</td><td>-0.2907682</td><td>-0.5882694</td><td>-0.6250957</td><td>-0.4216353</td><td>-0.2950852</td><td>-0.4410965</td><td>-0.2382260</td><td>-0.5149513</td><td>-0.3103202</td><td>-0.4396330</td><td>-0.4425059</td><td>-0.5929477</td><td>-0.1965713</td><td>-0.9979303</td><td> 1.0000000</td></tr>\n",
       "</tbody>\n",
       "</table>\n"
      ],
      "text/latex": [
       "\\begin{tabular}{r|llllllllllllllllll}\n",
       "  & SalePrice & TotalSF & OverallQual & GrLivArea & ExterQual & KitchenQual & GarageCars & TotalBsmtSF & TotBathrooms & 1stFlrSF & BsmtQual & NeighClass & FullBath & GarageFinish & YearBuilt & FireplaceQu & YearRemodAdd & AgeWhenSold\\\\\n",
       "\\hline\n",
       "\tSalePrice &  1.0000000 &  0.8199345 &  0.8049165 &  0.7176366 &  0.6934904 &  0.6649624 &  0.6494586 &  0.6470769 &  0.6335266 &  0.6254278 &  0.5945915 &  0.5795899 &  0.5572099 &  0.5563504 &  0.5367659 &  0.5288297 &  0.5225779 & -0.5245799\\\\\n",
       "\tTotalSF &  0.8199345 &  1.0000000 &  0.6708351 &  0.8662759 &  0.5244044 &  0.4953830 &  0.5515700 &  0.7999446 &  0.5972161 &  0.7756388 &  0.5196826 &  0.4717582 &  0.5866698 &  0.4286573 &  0.3418912 &  0.5013625 &  0.3480132 & -0.3500955\\\\\n",
       "\tOverallQual &  0.8049165 &  0.6708351 &  1.0000000 &  0.5838634 &  0.7216979 &  0.6687683 &  0.5989466 &  0.5333455 &  0.5303760 &  0.4634053 &  0.6265435 &  0.4904493 &  0.5424763 &  0.5550940 &  0.5712256 &  0.4892141 &  0.5515871 & -0.5533702\\\\\n",
       "\tGrLivArea &  0.7176366 &  0.8662759 &  0.5838634 &  1.0000000 &  0.4182864 &  0.4046005 &  0.4724748 &  0.3931962 &  0.5835242 &  0.5220974 &  0.3173981 &  0.3738002 &  0.6334676 &  0.3470682 &  0.1911231 &  0.4765680 &  0.2883782 & -0.2907682\\\\\n",
       "\tExterQual &  0.6934904 &  0.5244044 &  0.7216979 &  0.4182864 &  1.0000000 &  0.7119309 &  0.5231397 &  0.4627283 &  0.4633461 &  0.3819678 &  0.5623102 &  0.4734863 &  0.4751176 &  0.5156611 &  0.5971232 &  0.3567741 &  0.5876636 & -0.5882694\\\\\n",
       "\tKitchenQual &  0.6649624 &  0.4953830 &  0.6687683 &  0.4046005 &  0.7119309 &  1.0000000 &  0.5053878 &  0.4257535 &  0.4537620 &  0.3730054 &  0.5057644 &  0.4112987 &  0.4258603 &  0.4688930 &  0.5283991 &  0.3481220 &  0.6250917 & -0.6250957\\\\\n",
       "\tGarageCars &  0.6494586 &  0.5515700 &  0.5989466 &  0.4724748 &  0.5231397 &  0.5053878 &  1.0000000 &  0.4476363 &  0.4788101 &  0.4449605 &  0.4457924 &  0.4172661 &  0.4642803 &  0.5772445 &  0.5364615 &  0.3666300 &  0.4190231 & -0.4216353\\\\\n",
       "\tTotalBsmtSF &  0.6470769 &  0.7999446 &  0.5333455 &  0.3931962 &  0.4627283 &  0.4257535 &  0.4476363 &  1.0000000 &  0.3982567 &  0.8004301 &  0.5752238 &  0.4192690 &  0.3188547 &  0.3720517 &  0.3996778 &  0.3503122 &  0.2941236 & -0.2950852\\\\\n",
       "\tTotBathrooms &  0.6335266 &  0.5972161 &  0.5303760 &  0.5835242 &  0.4633461 &  0.4537620 &  0.4788101 &  0.3982567 &  1.0000000 &  0.3701456 &  0.4738614 &  0.3391675 &  0.6888050 &  0.4558407 &  0.5225437 &  0.3213974 &  0.4423063 & -0.4410965\\\\\n",
       "\t1stFlrSF &  0.6254278 &  0.7756388 &  0.4634053 &  0.5220974 &  0.3819678 &  0.3730054 &  0.4449605 &  0.8004301 &  0.3701456 &  1.0000000 &  0.2824169 &  0.4095564 &  0.3745238 &  0.3277767 &  0.2799385 &  0.4090786 &  0.2374142 & -0.2382260\\\\\n",
       "\tBsmtQual &  0.5945915 &  0.5196826 &  0.6265435 &  0.3173981 &  0.5623102 &  0.5057644 &  0.4457924 &  0.5752238 &  0.4738614 &  0.2824169 &  1.0000000 &  0.3299678 &  0.3656129 &  0.4813400 &  0.6016455 &  0.3029492 &  0.5135329 & -0.5149513\\\\\n",
       "\tNeighClass &  0.5795899 &  0.4717582 &  0.4904493 &  0.3738002 &  0.4734863 &  0.4112987 &  0.4172661 &  0.4192690 &  0.3391675 &  0.4095564 &  0.3299678 &  1.0000000 &  0.3196050 &  0.3221889 &  0.3519702 &  0.3166672 &  0.3105079 & -0.3103202\\\\\n",
       "\tFullBath &  0.5572099 &  0.5866698 &  0.5424763 &  0.6334676 &  0.4751176 &  0.4258603 &  0.4642803 &  0.3188547 &  0.6888050 &  0.3745238 &  0.3656129 &  0.3196050 &  1.0000000 &  0.4032281 &  0.4659108 &  0.2922724 &  0.4382804 & -0.4396330\\\\\n",
       "\tGarageFinish &  0.5563504 &  0.4286573 &  0.5550940 &  0.3470682 &  0.5156611 &  0.4688930 &  0.5772445 &  0.3720517 &  0.4558407 &  0.3277767 &  0.4813400 &  0.3221889 &  0.4032281 &  1.0000000 &  0.5950540 &  0.3906723 &  0.4424978 & -0.4425059\\\\\n",
       "\tYearBuilt &  0.5367659 &  0.3418912 &  0.5712256 &  0.1911231 &  0.5971232 &  0.5283991 &  0.5364615 &  0.3996778 &  0.5225437 &  0.2799385 &  0.6016455 &  0.3519702 &  0.4659108 &  0.5950540 &  1.0000000 &  0.2220233 &  0.5919320 & -0.5929477\\\\\n",
       "\tFireplaceQu &  0.5288297 &  0.5013625 &  0.4892141 &  0.4765680 &  0.3567741 &  0.3481220 &  0.3666300 &  0.3503122 &  0.3213974 &  0.4090786 &  0.3029492 &  0.3166672 &  0.2922724 &  0.3906723 &  0.2220233 &  1.0000000 &  0.1932088 & -0.1965713\\\\\n",
       "\tYearRemodAdd &  0.5225779 &  0.3480132 &  0.5515871 &  0.2883782 &  0.5876636 &  0.6250917 &  0.4190231 &  0.2941236 &  0.4423063 &  0.2374142 &  0.5135329 &  0.3105079 &  0.4382804 &  0.4424978 &  0.5919320 &  0.1932088 &  1.0000000 & -0.9979303\\\\\n",
       "\tAgeWhenSold & -0.5245799 & -0.3500955 & -0.5533702 & -0.2907682 & -0.5882694 & -0.6250957 & -0.4216353 & -0.2950852 & -0.4410965 & -0.2382260 & -0.5149513 & -0.3103202 & -0.4396330 & -0.4425059 & -0.5929477 & -0.1965713 & -0.9979303 &  1.0000000\\\\\n",
       "\\end{tabular}\n"
      ],
      "text/markdown": [
       "\n",
       "| <!--/--> | SalePrice | TotalSF | OverallQual | GrLivArea | ExterQual | KitchenQual | GarageCars | TotalBsmtSF | TotBathrooms | 1stFlrSF | BsmtQual | NeighClass | FullBath | GarageFinish | YearBuilt | FireplaceQu | YearRemodAdd | AgeWhenSold |\n",
       "|---|---|---|---|---|---|---|---|---|---|---|---|---|---|---|---|---|---|---|\n",
       "| SalePrice |  1.0000000 |  0.8199345 |  0.8049165 |  0.7176366 |  0.6934904 |  0.6649624 |  0.6494586 |  0.6470769 |  0.6335266 |  0.6254278 |  0.5945915 |  0.5795899 |  0.5572099 |  0.5563504 |  0.5367659 |  0.5288297 |  0.5225779 | -0.5245799 |\n",
       "| TotalSF |  0.8199345 |  1.0000000 |  0.6708351 |  0.8662759 |  0.5244044 |  0.4953830 |  0.5515700 |  0.7999446 |  0.5972161 |  0.7756388 |  0.5196826 |  0.4717582 |  0.5866698 |  0.4286573 |  0.3418912 |  0.5013625 |  0.3480132 | -0.3500955 |\n",
       "| OverallQual |  0.8049165 |  0.6708351 |  1.0000000 |  0.5838634 |  0.7216979 |  0.6687683 |  0.5989466 |  0.5333455 |  0.5303760 |  0.4634053 |  0.6265435 |  0.4904493 |  0.5424763 |  0.5550940 |  0.5712256 |  0.4892141 |  0.5515871 | -0.5533702 |\n",
       "| GrLivArea |  0.7176366 |  0.8662759 |  0.5838634 |  1.0000000 |  0.4182864 |  0.4046005 |  0.4724748 |  0.3931962 |  0.5835242 |  0.5220974 |  0.3173981 |  0.3738002 |  0.6334676 |  0.3470682 |  0.1911231 |  0.4765680 |  0.2883782 | -0.2907682 |\n",
       "| ExterQual |  0.6934904 |  0.5244044 |  0.7216979 |  0.4182864 |  1.0000000 |  0.7119309 |  0.5231397 |  0.4627283 |  0.4633461 |  0.3819678 |  0.5623102 |  0.4734863 |  0.4751176 |  0.5156611 |  0.5971232 |  0.3567741 |  0.5876636 | -0.5882694 |\n",
       "| KitchenQual |  0.6649624 |  0.4953830 |  0.6687683 |  0.4046005 |  0.7119309 |  1.0000000 |  0.5053878 |  0.4257535 |  0.4537620 |  0.3730054 |  0.5057644 |  0.4112987 |  0.4258603 |  0.4688930 |  0.5283991 |  0.3481220 |  0.6250917 | -0.6250957 |\n",
       "| GarageCars |  0.6494586 |  0.5515700 |  0.5989466 |  0.4724748 |  0.5231397 |  0.5053878 |  1.0000000 |  0.4476363 |  0.4788101 |  0.4449605 |  0.4457924 |  0.4172661 |  0.4642803 |  0.5772445 |  0.5364615 |  0.3666300 |  0.4190231 | -0.4216353 |\n",
       "| TotalBsmtSF |  0.6470769 |  0.7999446 |  0.5333455 |  0.3931962 |  0.4627283 |  0.4257535 |  0.4476363 |  1.0000000 |  0.3982567 |  0.8004301 |  0.5752238 |  0.4192690 |  0.3188547 |  0.3720517 |  0.3996778 |  0.3503122 |  0.2941236 | -0.2950852 |\n",
       "| TotBathrooms |  0.6335266 |  0.5972161 |  0.5303760 |  0.5835242 |  0.4633461 |  0.4537620 |  0.4788101 |  0.3982567 |  1.0000000 |  0.3701456 |  0.4738614 |  0.3391675 |  0.6888050 |  0.4558407 |  0.5225437 |  0.3213974 |  0.4423063 | -0.4410965 |\n",
       "| 1stFlrSF |  0.6254278 |  0.7756388 |  0.4634053 |  0.5220974 |  0.3819678 |  0.3730054 |  0.4449605 |  0.8004301 |  0.3701456 |  1.0000000 |  0.2824169 |  0.4095564 |  0.3745238 |  0.3277767 |  0.2799385 |  0.4090786 |  0.2374142 | -0.2382260 |\n",
       "| BsmtQual |  0.5945915 |  0.5196826 |  0.6265435 |  0.3173981 |  0.5623102 |  0.5057644 |  0.4457924 |  0.5752238 |  0.4738614 |  0.2824169 |  1.0000000 |  0.3299678 |  0.3656129 |  0.4813400 |  0.6016455 |  0.3029492 |  0.5135329 | -0.5149513 |\n",
       "| NeighClass |  0.5795899 |  0.4717582 |  0.4904493 |  0.3738002 |  0.4734863 |  0.4112987 |  0.4172661 |  0.4192690 |  0.3391675 |  0.4095564 |  0.3299678 |  1.0000000 |  0.3196050 |  0.3221889 |  0.3519702 |  0.3166672 |  0.3105079 | -0.3103202 |\n",
       "| FullBath |  0.5572099 |  0.5866698 |  0.5424763 |  0.6334676 |  0.4751176 |  0.4258603 |  0.4642803 |  0.3188547 |  0.6888050 |  0.3745238 |  0.3656129 |  0.3196050 |  1.0000000 |  0.4032281 |  0.4659108 |  0.2922724 |  0.4382804 | -0.4396330 |\n",
       "| GarageFinish |  0.5563504 |  0.4286573 |  0.5550940 |  0.3470682 |  0.5156611 |  0.4688930 |  0.5772445 |  0.3720517 |  0.4558407 |  0.3277767 |  0.4813400 |  0.3221889 |  0.4032281 |  1.0000000 |  0.5950540 |  0.3906723 |  0.4424978 | -0.4425059 |\n",
       "| YearBuilt |  0.5367659 |  0.3418912 |  0.5712256 |  0.1911231 |  0.5971232 |  0.5283991 |  0.5364615 |  0.3996778 |  0.5225437 |  0.2799385 |  0.6016455 |  0.3519702 |  0.4659108 |  0.5950540 |  1.0000000 |  0.2220233 |  0.5919320 | -0.5929477 |\n",
       "| FireplaceQu |  0.5288297 |  0.5013625 |  0.4892141 |  0.4765680 |  0.3567741 |  0.3481220 |  0.3666300 |  0.3503122 |  0.3213974 |  0.4090786 |  0.3029492 |  0.3166672 |  0.2922724 |  0.3906723 |  0.2220233 |  1.0000000 |  0.1932088 | -0.1965713 |\n",
       "| YearRemodAdd |  0.5225779 |  0.3480132 |  0.5515871 |  0.2883782 |  0.5876636 |  0.6250917 |  0.4190231 |  0.2941236 |  0.4423063 |  0.2374142 |  0.5135329 |  0.3105079 |  0.4382804 |  0.4424978 |  0.5919320 |  0.1932088 |  1.0000000 | -0.9979303 |\n",
       "| AgeWhenSold | -0.5245799 | -0.3500955 | -0.5533702 | -0.2907682 | -0.5882694 | -0.6250957 | -0.4216353 | -0.2950852 | -0.4410965 | -0.2382260 | -0.5149513 | -0.3103202 | -0.4396330 | -0.4425059 | -0.5929477 | -0.1965713 | -0.9979303 |  1.0000000 |\n",
       "\n"
      ],
      "text/plain": [
       "             SalePrice  TotalSF    OverallQual GrLivArea  ExterQual \n",
       "SalePrice     1.0000000  0.8199345  0.8049165   0.7176366  0.6934904\n",
       "TotalSF       0.8199345  1.0000000  0.6708351   0.8662759  0.5244044\n",
       "OverallQual   0.8049165  0.6708351  1.0000000   0.5838634  0.7216979\n",
       "GrLivArea     0.7176366  0.8662759  0.5838634   1.0000000  0.4182864\n",
       "ExterQual     0.6934904  0.5244044  0.7216979   0.4182864  1.0000000\n",
       "KitchenQual   0.6649624  0.4953830  0.6687683   0.4046005  0.7119309\n",
       "GarageCars    0.6494586  0.5515700  0.5989466   0.4724748  0.5231397\n",
       "TotalBsmtSF   0.6470769  0.7999446  0.5333455   0.3931962  0.4627283\n",
       "TotBathrooms  0.6335266  0.5972161  0.5303760   0.5835242  0.4633461\n",
       "1stFlrSF      0.6254278  0.7756388  0.4634053   0.5220974  0.3819678\n",
       "BsmtQual      0.5945915  0.5196826  0.6265435   0.3173981  0.5623102\n",
       "NeighClass    0.5795899  0.4717582  0.4904493   0.3738002  0.4734863\n",
       "FullBath      0.5572099  0.5866698  0.5424763   0.6334676  0.4751176\n",
       "GarageFinish  0.5563504  0.4286573  0.5550940   0.3470682  0.5156611\n",
       "YearBuilt     0.5367659  0.3418912  0.5712256   0.1911231  0.5971232\n",
       "FireplaceQu   0.5288297  0.5013625  0.4892141   0.4765680  0.3567741\n",
       "YearRemodAdd  0.5225779  0.3480132  0.5515871   0.2883782  0.5876636\n",
       "AgeWhenSold  -0.5245799 -0.3500955 -0.5533702  -0.2907682 -0.5882694\n",
       "             KitchenQual GarageCars TotalBsmtSF TotBathrooms 1stFlrSF  \n",
       "SalePrice     0.6649624   0.6494586  0.6470769   0.6335266    0.6254278\n",
       "TotalSF       0.4953830   0.5515700  0.7999446   0.5972161    0.7756388\n",
       "OverallQual   0.6687683   0.5989466  0.5333455   0.5303760    0.4634053\n",
       "GrLivArea     0.4046005   0.4724748  0.3931962   0.5835242    0.5220974\n",
       "ExterQual     0.7119309   0.5231397  0.4627283   0.4633461    0.3819678\n",
       "KitchenQual   1.0000000   0.5053878  0.4257535   0.4537620    0.3730054\n",
       "GarageCars    0.5053878   1.0000000  0.4476363   0.4788101    0.4449605\n",
       "TotalBsmtSF   0.4257535   0.4476363  1.0000000   0.3982567    0.8004301\n",
       "TotBathrooms  0.4537620   0.4788101  0.3982567   1.0000000    0.3701456\n",
       "1stFlrSF      0.3730054   0.4449605  0.8004301   0.3701456    1.0000000\n",
       "BsmtQual      0.5057644   0.4457924  0.5752238   0.4738614    0.2824169\n",
       "NeighClass    0.4112987   0.4172661  0.4192690   0.3391675    0.4095564\n",
       "FullBath      0.4258603   0.4642803  0.3188547   0.6888050    0.3745238\n",
       "GarageFinish  0.4688930   0.5772445  0.3720517   0.4558407    0.3277767\n",
       "YearBuilt     0.5283991   0.5364615  0.3996778   0.5225437    0.2799385\n",
       "FireplaceQu   0.3481220   0.3666300  0.3503122   0.3213974    0.4090786\n",
       "YearRemodAdd  0.6250917   0.4190231  0.2941236   0.4423063    0.2374142\n",
       "AgeWhenSold  -0.6250957  -0.4216353 -0.2950852  -0.4410965   -0.2382260\n",
       "             BsmtQual   NeighClass FullBath   GarageFinish YearBuilt \n",
       "SalePrice     0.5945915  0.5795899  0.5572099  0.5563504    0.5367659\n",
       "TotalSF       0.5196826  0.4717582  0.5866698  0.4286573    0.3418912\n",
       "OverallQual   0.6265435  0.4904493  0.5424763  0.5550940    0.5712256\n",
       "GrLivArea     0.3173981  0.3738002  0.6334676  0.3470682    0.1911231\n",
       "ExterQual     0.5623102  0.4734863  0.4751176  0.5156611    0.5971232\n",
       "KitchenQual   0.5057644  0.4112987  0.4258603  0.4688930    0.5283991\n",
       "GarageCars    0.4457924  0.4172661  0.4642803  0.5772445    0.5364615\n",
       "TotalBsmtSF   0.5752238  0.4192690  0.3188547  0.3720517    0.3996778\n",
       "TotBathrooms  0.4738614  0.3391675  0.6888050  0.4558407    0.5225437\n",
       "1stFlrSF      0.2824169  0.4095564  0.3745238  0.3277767    0.2799385\n",
       "BsmtQual      1.0000000  0.3299678  0.3656129  0.4813400    0.6016455\n",
       "NeighClass    0.3299678  1.0000000  0.3196050  0.3221889    0.3519702\n",
       "FullBath      0.3656129  0.3196050  1.0000000  0.4032281    0.4659108\n",
       "GarageFinish  0.4813400  0.3221889  0.4032281  1.0000000    0.5950540\n",
       "YearBuilt     0.6016455  0.3519702  0.4659108  0.5950540    1.0000000\n",
       "FireplaceQu   0.3029492  0.3166672  0.2922724  0.3906723    0.2220233\n",
       "YearRemodAdd  0.5135329  0.3105079  0.4382804  0.4424978    0.5919320\n",
       "AgeWhenSold  -0.5149513 -0.3103202 -0.4396330 -0.4425059   -0.5929477\n",
       "             FireplaceQu YearRemodAdd AgeWhenSold\n",
       "SalePrice     0.5288297   0.5225779   -0.5245799 \n",
       "TotalSF       0.5013625   0.3480132   -0.3500955 \n",
       "OverallQual   0.4892141   0.5515871   -0.5533702 \n",
       "GrLivArea     0.4765680   0.2883782   -0.2907682 \n",
       "ExterQual     0.3567741   0.5876636   -0.5882694 \n",
       "KitchenQual   0.3481220   0.6250917   -0.6250957 \n",
       "GarageCars    0.3666300   0.4190231   -0.4216353 \n",
       "TotalBsmtSF   0.3503122   0.2941236   -0.2950852 \n",
       "TotBathrooms  0.3213974   0.4423063   -0.4410965 \n",
       "1stFlrSF      0.4090786   0.2374142   -0.2382260 \n",
       "BsmtQual      0.3029492   0.5135329   -0.5149513 \n",
       "NeighClass    0.3166672   0.3105079   -0.3103202 \n",
       "FullBath      0.2922724   0.4382804   -0.4396330 \n",
       "GarageFinish  0.3906723   0.4424978   -0.4425059 \n",
       "YearBuilt     0.2220233   0.5919320   -0.5929477 \n",
       "FireplaceQu   1.0000000   0.1932088   -0.1965713 \n",
       "YearRemodAdd  0.1932088   1.0000000   -0.9979303 \n",
       "AgeWhenSold  -0.1965713  -0.9979303    1.0000000 "
      ]
     },
     "metadata": {},
     "output_type": "display_data"
    }
   ],
   "source": [
    "correlation"
   ]
  },
  {
   "cell_type": "markdown",
   "metadata": {},
   "source": [
    "### With correlations of 0.7999 and 0.776 respectively, it seems reasonable to remove these two and only keep TotalSF, which we will do presently:"
   ]
  },
  {
   "cell_type": "code",
   "execution_count": 69,
   "metadata": {},
   "outputs": [
    {
     "name": "stdout",
     "output_type": "stream",
     "text": [
      "[1] 1454   86\n",
      "[1] 1454   84\n"
     ]
    }
   ],
   "source": [
    "print(dim(houses))\n",
    "houses <- houses[,!(names(houses) %in% c('TotalBsmtSF', '1stFlrSF'))]\n",
    "print(dim(houses))"
   ]
  },
  {
   "cell_type": "markdown",
   "metadata": {},
   "source": [
    "### Great. Now, if this initial revamped linear model doesn't work out, we may try some fancier types of regressions, ensemble methods, etc. In order to do this, depending on the package, certain issues can arise when column names begin with numbers, so to avoid potential issues, we shall relabel them to begin with characters."
   ]
  },
  {
   "cell_type": "code",
   "execution_count": 70,
   "metadata": {},
   "outputs": [
    {
     "data": {
      "text/html": [
       "<ol class=list-inline>\n",
       "\t<li>1454</li>\n",
       "\t<li>84</li>\n",
       "</ol>\n"
      ],
      "text/latex": [
       "\\begin{enumerate*}\n",
       "\\item 1454\n",
       "\\item 84\n",
       "\\end{enumerate*}\n"
      ],
      "text/markdown": [
       "1. 1454\n",
       "2. 84\n",
       "\n",
       "\n"
      ],
      "text/plain": [
       "[1] 1454   84"
      ]
     },
     "metadata": {},
     "output_type": "display_data"
    }
   ],
   "source": [
    "houses$SecondFlrSF <- houses$`2ndFlrSF`\n",
    "houses$ThreeSeasonPorch <- houses$`3SsnPorch`\n",
    "houses$`2ndFlrSF` <- NULL\n",
    "houses$`3SsnPorch` <- NULL\n",
    "dim(houses)"
   ]
  },
  {
   "cell_type": "markdown",
   "metadata": {},
   "source": [
    "### Great, now the last thing we might do to improve learning is to normalize numeric variables. Normalizing the feature data will solve the problem of certain features weighing disproportionately in the regression algorithm due to their scale. For instance, GrLivArea is typically in the hundreds or thousands, but variables about number of types of rooms, LotFrontage, GarageCars, etc. are much smaller. For least squares regression, this disproportiately forces the algorithm to focus on minimizing error for GrLivArea at the expense of other features. First we standardize which recenters the data at zero and divides by variance for that feature so it has roughly unit variance. To make this stage nice and easy, we do use the package caret"
   ]
  },
  {
   "cell_type": "code",
   "execution_count": 71,
   "metadata": {},
   "outputs": [
    {
     "name": "stderr",
     "output_type": "stream",
     "text": [
      "Loading required package: lattice\n",
      "\n",
      "Attaching package: 'caret'\n",
      "\n",
      "The following object is masked from 'package:purrr':\n",
      "\n",
      "    lift\n",
      "\n"
     ]
    }
   ],
   "source": [
    "library(caret)"
   ]
  },
  {
   "cell_type": "code",
   "execution_count": 73,
   "metadata": {},
   "outputs": [],
   "source": [
    "numVars <- which(sapply(houses, is.numeric))\n",
    "numVarNames <- names(numVars)\n",
    "numVarNames <- numVarNames[!(numVarNames %in% c('MSSubClass', 'MoSold', 'YrSold', 'SalePrice', 'OverallQual', 'OverallCond'))]\n",
    "numVars <- houses[, names(houses) %in% numVarNames]\n",
    "factors <- houses[, !(names(houses) %in% numVarNames)]\n",
    "salePrices <- houses$SalePrice"
   ]
  },
  {
   "cell_type": "code",
   "execution_count": 74,
   "metadata": {},
   "outputs": [
    {
     "name": "stdout",
     "output_type": "stream",
     "text": [
      "Created from 1454 samples and 56 variables\n",
      "\n",
      "Pre-processing:\n",
      "  - centered (56)\n",
      "  - ignored (0)\n",
      "  - scaled (56)\n",
      "\n"
     ]
    },
    {
     "data": {
      "text/html": [
       "<ol class=list-inline>\n",
       "\t<li>1454</li>\n",
       "\t<li>56</li>\n",
       "</ol>\n"
      ],
      "text/latex": [
       "\\begin{enumerate*}\n",
       "\\item 1454\n",
       "\\item 56\n",
       "\\end{enumerate*}\n"
      ],
      "text/markdown": [
       "1. 1454\n",
       "2. 56\n",
       "\n",
       "\n"
      ],
      "text/plain": [
       "[1] 1454   56"
      ]
     },
     "metadata": {},
     "output_type": "display_data"
    }
   ],
   "source": [
    "preprocessNum <- preProcess(numVars, method=c(\"center\", \"scale\"))\n",
    "print(preprocessNum)\n",
    "normNum <- predict(preprocessNum, numVars)\n",
    "dim(normNum)"
   ]
  },
  {
   "cell_type": "code",
   "execution_count": 75,
   "metadata": {},
   "outputs": [
    {
     "data": {
      "text/html": [
       "<table>\n",
       "<thead><tr><th scope=col>Id</th><th scope=col>LotFrontage</th><th scope=col>LotArea</th><th scope=col>Street</th><th scope=col>LotShape</th><th scope=col>Utilities</th><th scope=col>LandSlope</th><th scope=col>YearBuilt</th><th scope=col>YearRemodAdd</th><th scope=col>MasVnrArea</th><th scope=col>...</th><th scope=col>TotalSF</th><th scope=col>AgeWhenSold</th><th scope=col>TotBathrooms</th><th scope=col>HasGarage</th><th scope=col>HasPool</th><th scope=col>WasNew</th><th scope=col>Remodeled</th><th scope=col>NeighClass</th><th scope=col>SecondFlrSF</th><th scope=col>ThreeSeasonPorch</th></tr></thead>\n",
       "<tbody>\n",
       "\t<tr><td>-1.727987  </td><td>-0.22984606</td><td>-0.19919289</td><td>0.06434902 </td><td> 0.6994793 </td><td>0.02622514 </td><td>0.2229193  </td><td> 1.0535346 </td><td> 0.8809268 </td><td> 0.5364404 </td><td>...        </td><td> 0.01423228</td><td>-0.8721981 </td><td> 1.6703926 </td><td>0.2428051  </td><td>-0.05872208</td><td>-0.210973  </td><td>-0.9539484 </td><td>-0.1276644 </td><td> 1.1872137 </td><td>-0.1165422 </td></tr>\n",
       "\t<tr><td>-1.725617  </td><td> 0.47303427</td><td>-0.08109952</td><td>0.06434902 </td><td> 0.6994793 </td><td>0.02622514 </td><td>0.2229193  </td><td> 0.1597162 </td><td>-0.4259821 </td><td>-0.5732612 </td><td>...        </td><td>-0.04114792</td><td> 0.3865855 </td><td> 0.3822723 </td><td>0.2428051  </td><td>-0.05872208</td><td>-0.210973  </td><td>-0.9539484 </td><td>-0.1276644 </td><td>-0.7965578 </td><td>-0.1165422 </td></tr>\n",
       "\t<tr><td>-1.723247  </td><td>-0.08926999</td><td> 0.08833880</td><td>0.06434902 </td><td>-1.0331321 </td><td>0.02622514 </td><td>0.2229193  </td><td> 0.9873259 </td><td> 0.8325228 </td><td> 0.3439412 </td><td>...        </td><td> 0.19883295</td><td>-0.8237833 </td><td> 1.6703926 </td><td>0.2428051  </td><td>-0.05872208</td><td>-0.210973  </td><td> 1.0475537 </td><td>-0.1276644 </td><td> 1.2150887 </td><td>-0.1165422 </td></tr>\n",
       "\t<tr><td>-1.720877  </td><td>-0.46413950</td><td>-0.08623401</td><td>0.06434902 </td><td>-1.0331321 </td><td>0.02622514 </td><td>0.2229193  </td><td>-1.8596515 </td><td>-0.7164064 </td><td>-0.5732612 </td><td>...        </td><td>-0.10839531</td><td> 0.6286592 </td><td>-0.2617879 </td><td>0.2428051  </td><td>-0.05872208</td><td>-0.210973  </td><td> 1.0475537 </td><td>-0.1276644 </td><td> 0.9595678 </td><td>-0.1165422 </td></tr>\n",
       "\t<tr><td>-1.718507  </td><td> 0.66046903</td><td> 0.39743537</td><td>0.06434902 </td><td>-1.0331321 </td><td>0.02622514 </td><td>0.2229193  </td><td> 0.9542215 </td><td> 0.7357147 </td><td> 1.4083489 </td><td>...        </td><td> 1.03876599</td><td>-0.7269538 </td><td> 1.6703926 </td><td>0.2428051  </td><td>-0.05872208</td><td>-0.210973  </td><td>-0.9539484 </td><td> 2.5241073 </td><td> 1.6494742 </td><td>-0.1165422 </td></tr>\n",
       "\t<tr><td>-1.716137  </td><td> 0.70732771</td><td> 0.38254534</td><td>0.06434902 </td><td>-1.0331321 </td><td>0.02622514 </td><td>0.2229193  </td><td> 0.7224907 </td><td> 0.4936945 </td><td>-0.5732612 </td><td>...        </td><td>-0.52374681</td><td>-0.4364653 </td><td> 0.3822723 </td><td>0.2428051  </td><td>-0.05872208</td><td>-0.210973  </td><td> 1.0475537 </td><td>-0.1276644 </td><td> 0.5182135 </td><td>10.7763409 </td></tr>\n",
       "</tbody>\n",
       "</table>\n"
      ],
      "text/latex": [
       "\\begin{tabular}{r|llllllllllllllllllllllllllllllllllllllllllllllllllllllll}\n",
       " Id & LotFrontage & LotArea & Street & LotShape & Utilities & LandSlope & YearBuilt & YearRemodAdd & MasVnrArea & ... & TotalSF & AgeWhenSold & TotBathrooms & HasGarage & HasPool & WasNew & Remodeled & NeighClass & SecondFlrSF & ThreeSeasonPorch\\\\\n",
       "\\hline\n",
       "\t -1.727987   & -0.22984606 & -0.19919289 & 0.06434902  &  0.6994793  & 0.02622514  & 0.2229193   &  1.0535346  &  0.8809268  &  0.5364404  & ...         &  0.01423228 & -0.8721981  &  1.6703926  & 0.2428051   & -0.05872208 & -0.210973   & -0.9539484  & -0.1276644  &  1.1872137  & -0.1165422 \\\\\n",
       "\t -1.725617   &  0.47303427 & -0.08109952 & 0.06434902  &  0.6994793  & 0.02622514  & 0.2229193   &  0.1597162  & -0.4259821  & -0.5732612  & ...         & -0.04114792 &  0.3865855  &  0.3822723  & 0.2428051   & -0.05872208 & -0.210973   & -0.9539484  & -0.1276644  & -0.7965578  & -0.1165422 \\\\\n",
       "\t -1.723247   & -0.08926999 &  0.08833880 & 0.06434902  & -1.0331321  & 0.02622514  & 0.2229193   &  0.9873259  &  0.8325228  &  0.3439412  & ...         &  0.19883295 & -0.8237833  &  1.6703926  & 0.2428051   & -0.05872208 & -0.210973   &  1.0475537  & -0.1276644  &  1.2150887  & -0.1165422 \\\\\n",
       "\t -1.720877   & -0.46413950 & -0.08623401 & 0.06434902  & -1.0331321  & 0.02622514  & 0.2229193   & -1.8596515  & -0.7164064  & -0.5732612  & ...         & -0.10839531 &  0.6286592  & -0.2617879  & 0.2428051   & -0.05872208 & -0.210973   &  1.0475537  & -0.1276644  &  0.9595678  & -0.1165422 \\\\\n",
       "\t -1.718507   &  0.66046903 &  0.39743537 & 0.06434902  & -1.0331321  & 0.02622514  & 0.2229193   &  0.9542215  &  0.7357147  &  1.4083489  & ...         &  1.03876599 & -0.7269538  &  1.6703926  & 0.2428051   & -0.05872208 & -0.210973   & -0.9539484  &  2.5241073  &  1.6494742  & -0.1165422 \\\\\n",
       "\t -1.716137   &  0.70732771 &  0.38254534 & 0.06434902  & -1.0331321  & 0.02622514  & 0.2229193   &  0.7224907  &  0.4936945  & -0.5732612  & ...         & -0.52374681 & -0.4364653  &  0.3822723  & 0.2428051   & -0.05872208 & -0.210973   &  1.0475537  & -0.1276644  &  0.5182135  & 10.7763409 \\\\\n",
       "\\end{tabular}\n"
      ],
      "text/markdown": [
       "\n",
       "| Id | LotFrontage | LotArea | Street | LotShape | Utilities | LandSlope | YearBuilt | YearRemodAdd | MasVnrArea | ... | TotalSF | AgeWhenSold | TotBathrooms | HasGarage | HasPool | WasNew | Remodeled | NeighClass | SecondFlrSF | ThreeSeasonPorch |\n",
       "|---|---|---|---|---|---|---|---|---|---|---|---|---|---|---|---|---|---|---|---|---|\n",
       "| -1.727987   | -0.22984606 | -0.19919289 | 0.06434902  |  0.6994793  | 0.02622514  | 0.2229193   |  1.0535346  |  0.8809268  |  0.5364404  | ...         |  0.01423228 | -0.8721981  |  1.6703926  | 0.2428051   | -0.05872208 | -0.210973   | -0.9539484  | -0.1276644  |  1.1872137  | -0.1165422  |\n",
       "| -1.725617   |  0.47303427 | -0.08109952 | 0.06434902  |  0.6994793  | 0.02622514  | 0.2229193   |  0.1597162  | -0.4259821  | -0.5732612  | ...         | -0.04114792 |  0.3865855  |  0.3822723  | 0.2428051   | -0.05872208 | -0.210973   | -0.9539484  | -0.1276644  | -0.7965578  | -0.1165422  |\n",
       "| -1.723247   | -0.08926999 |  0.08833880 | 0.06434902  | -1.0331321  | 0.02622514  | 0.2229193   |  0.9873259  |  0.8325228  |  0.3439412  | ...         |  0.19883295 | -0.8237833  |  1.6703926  | 0.2428051   | -0.05872208 | -0.210973   |  1.0475537  | -0.1276644  |  1.2150887  | -0.1165422  |\n",
       "| -1.720877   | -0.46413950 | -0.08623401 | 0.06434902  | -1.0331321  | 0.02622514  | 0.2229193   | -1.8596515  | -0.7164064  | -0.5732612  | ...         | -0.10839531 |  0.6286592  | -0.2617879  | 0.2428051   | -0.05872208 | -0.210973   |  1.0475537  | -0.1276644  |  0.9595678  | -0.1165422  |\n",
       "| -1.718507   |  0.66046903 |  0.39743537 | 0.06434902  | -1.0331321  | 0.02622514  | 0.2229193   |  0.9542215  |  0.7357147  |  1.4083489  | ...         |  1.03876599 | -0.7269538  |  1.6703926  | 0.2428051   | -0.05872208 | -0.210973   | -0.9539484  |  2.5241073  |  1.6494742  | -0.1165422  |\n",
       "| -1.716137   |  0.70732771 |  0.38254534 | 0.06434902  | -1.0331321  | 0.02622514  | 0.2229193   |  0.7224907  |  0.4936945  | -0.5732612  | ...         | -0.52374681 | -0.4364653  |  0.3822723  | 0.2428051   | -0.05872208 | -0.210973   |  1.0475537  | -0.1276644  |  0.5182135  | 10.7763409  |\n",
       "\n"
      ],
      "text/plain": [
       "  Id        LotFrontage LotArea     Street     LotShape   Utilities  LandSlope\n",
       "1 -1.727987 -0.22984606 -0.19919289 0.06434902  0.6994793 0.02622514 0.2229193\n",
       "2 -1.725617  0.47303427 -0.08109952 0.06434902  0.6994793 0.02622514 0.2229193\n",
       "3 -1.723247 -0.08926999  0.08833880 0.06434902 -1.0331321 0.02622514 0.2229193\n",
       "4 -1.720877 -0.46413950 -0.08623401 0.06434902 -1.0331321 0.02622514 0.2229193\n",
       "5 -1.718507  0.66046903  0.39743537 0.06434902 -1.0331321 0.02622514 0.2229193\n",
       "6 -1.716137  0.70732771  0.38254534 0.06434902 -1.0331321 0.02622514 0.2229193\n",
       "  YearBuilt  YearRemodAdd MasVnrArea ... TotalSF     AgeWhenSold TotBathrooms\n",
       "1  1.0535346  0.8809268    0.5364404 ...  0.01423228 -0.8721981   1.6703926  \n",
       "2  0.1597162 -0.4259821   -0.5732612 ... -0.04114792  0.3865855   0.3822723  \n",
       "3  0.9873259  0.8325228    0.3439412 ...  0.19883295 -0.8237833   1.6703926  \n",
       "4 -1.8596515 -0.7164064   -0.5732612 ... -0.10839531  0.6286592  -0.2617879  \n",
       "5  0.9542215  0.7357147    1.4083489 ...  1.03876599 -0.7269538   1.6703926  \n",
       "6  0.7224907  0.4936945   -0.5732612 ... -0.52374681 -0.4364653   0.3822723  \n",
       "  HasGarage HasPool     WasNew    Remodeled  NeighClass SecondFlrSF\n",
       "1 0.2428051 -0.05872208 -0.210973 -0.9539484 -0.1276644  1.1872137 \n",
       "2 0.2428051 -0.05872208 -0.210973 -0.9539484 -0.1276644 -0.7965578 \n",
       "3 0.2428051 -0.05872208 -0.210973  1.0475537 -0.1276644  1.2150887 \n",
       "4 0.2428051 -0.05872208 -0.210973  1.0475537 -0.1276644  0.9595678 \n",
       "5 0.2428051 -0.05872208 -0.210973 -0.9539484  2.5241073  1.6494742 \n",
       "6 0.2428051 -0.05872208 -0.210973  1.0475537 -0.1276644  0.5182135 \n",
       "  ThreeSeasonPorch\n",
       "1 -0.1165422      \n",
       "2 -0.1165422      \n",
       "3 -0.1165422      \n",
       "4 -0.1165422      \n",
       "5 -0.1165422      \n",
       "6 10.7763409      "
      ]
     },
     "metadata": {},
     "output_type": "display_data"
    }
   ],
   "source": [
    "head(normNum)"
   ]
  },
  {
   "cell_type": "markdown",
   "metadata": {},
   "source": [
    "### It is not that we finally realize that we have kept the useless Id feature this whole time, so we will eliminate it now:"
   ]
  },
  {
   "cell_type": "code",
   "execution_count": 76,
   "metadata": {},
   "outputs": [],
   "source": [
    "normNum <- normNum[,!(names(normNum) %in% c('Id'))]"
   ]
  },
  {
   "cell_type": "code",
   "execution_count": 77,
   "metadata": {},
   "outputs": [
    {
     "data": {
      "text/html": [
       "<table>\n",
       "<thead><tr><th scope=col>LotFrontage</th><th scope=col>LotArea</th><th scope=col>Street</th><th scope=col>LotShape</th><th scope=col>Utilities</th><th scope=col>LandSlope</th><th scope=col>YearBuilt</th><th scope=col>YearRemodAdd</th><th scope=col>MasVnrArea</th><th scope=col>ExterQual</th><th scope=col>...</th><th scope=col>TotalSF</th><th scope=col>AgeWhenSold</th><th scope=col>TotBathrooms</th><th scope=col>HasGarage</th><th scope=col>HasPool</th><th scope=col>WasNew</th><th scope=col>Remodeled</th><th scope=col>NeighClass</th><th scope=col>SecondFlrSF</th><th scope=col>ThreeSeasonPorch</th></tr></thead>\n",
       "<tbody>\n",
       "\t<tr><td>-0.22984606</td><td>-0.19919289</td><td>0.06434902 </td><td> 0.6994793 </td><td>0.02622514 </td><td>0.2229193  </td><td> 1.0535346 </td><td> 0.8809268 </td><td> 0.5364404 </td><td> 1.0698181 </td><td>...        </td><td> 0.01423228</td><td>-0.8721981 </td><td> 1.6703926 </td><td>0.2428051  </td><td>-0.05872208</td><td>-0.210973  </td><td>-0.9539484 </td><td>-0.1276644 </td><td> 1.1872137 </td><td>-0.1165422 </td></tr>\n",
       "\t<tr><td> 0.47303427</td><td>-0.08109952</td><td>0.06434902 </td><td> 0.6994793 </td><td>0.02622514 </td><td>0.2229193  </td><td> 0.1597162 </td><td>-0.4259821 </td><td>-0.5732612 </td><td>-0.6878266 </td><td>...        </td><td>-0.04114792</td><td> 0.3865855 </td><td> 0.3822723 </td><td>0.2428051  </td><td>-0.05872208</td><td>-0.210973  </td><td>-0.9539484 </td><td>-0.1276644 </td><td>-0.7965578 </td><td>-0.1165422 </td></tr>\n",
       "\t<tr><td>-0.08926999</td><td> 0.08833880</td><td>0.06434902 </td><td>-1.0331321 </td><td>0.02622514 </td><td>0.2229193  </td><td> 0.9873259 </td><td> 0.8325228 </td><td> 0.3439412 </td><td> 1.0698181 </td><td>...        </td><td> 0.19883295</td><td>-0.8237833 </td><td> 1.6703926 </td><td>0.2428051  </td><td>-0.05872208</td><td>-0.210973  </td><td> 1.0475537 </td><td>-0.1276644 </td><td> 1.2150887 </td><td>-0.1165422 </td></tr>\n",
       "\t<tr><td>-0.46413950</td><td>-0.08623401</td><td>0.06434902 </td><td>-1.0331321 </td><td>0.02622514 </td><td>0.2229193  </td><td>-1.8596515 </td><td>-0.7164064 </td><td>-0.5732612 </td><td>-0.6878266 </td><td>...        </td><td>-0.10839531</td><td> 0.6286592 </td><td>-0.2617879 </td><td>0.2428051  </td><td>-0.05872208</td><td>-0.210973  </td><td> 1.0475537 </td><td>-0.1276644 </td><td> 0.9595678 </td><td>-0.1165422 </td></tr>\n",
       "\t<tr><td> 0.66046903</td><td> 0.39743537</td><td>0.06434902 </td><td>-1.0331321 </td><td>0.02622514 </td><td>0.2229193  </td><td> 0.9542215 </td><td> 0.7357147 </td><td> 1.4083489 </td><td> 1.0698181 </td><td>...        </td><td> 1.03876599</td><td>-0.7269538 </td><td> 1.6703926 </td><td>0.2428051  </td><td>-0.05872208</td><td>-0.210973  </td><td>-0.9539484 </td><td> 2.5241073 </td><td> 1.6494742 </td><td>-0.1165422 </td></tr>\n",
       "\t<tr><td> 0.70732771</td><td> 0.38254534</td><td>0.06434902 </td><td>-1.0331321 </td><td>0.02622514 </td><td>0.2229193  </td><td> 0.7224907 </td><td> 0.4936945 </td><td>-0.5732612 </td><td>-0.6878266 </td><td>...        </td><td>-0.52374681</td><td>-0.4364653 </td><td> 0.3822723 </td><td>0.2428051  </td><td>-0.05872208</td><td>-0.210973  </td><td> 1.0475537 </td><td>-0.1276644 </td><td> 0.5182135 </td><td>10.7763409 </td></tr>\n",
       "</tbody>\n",
       "</table>\n"
      ],
      "text/latex": [
       "\\begin{tabular}{r|lllllllllllllllllllllllllllllllllllllllllllllllllllllll}\n",
       " LotFrontage & LotArea & Street & LotShape & Utilities & LandSlope & YearBuilt & YearRemodAdd & MasVnrArea & ExterQual & ... & TotalSF & AgeWhenSold & TotBathrooms & HasGarage & HasPool & WasNew & Remodeled & NeighClass & SecondFlrSF & ThreeSeasonPorch\\\\\n",
       "\\hline\n",
       "\t -0.22984606 & -0.19919289 & 0.06434902  &  0.6994793  & 0.02622514  & 0.2229193   &  1.0535346  &  0.8809268  &  0.5364404  &  1.0698181  & ...         &  0.01423228 & -0.8721981  &  1.6703926  & 0.2428051   & -0.05872208 & -0.210973   & -0.9539484  & -0.1276644  &  1.1872137  & -0.1165422 \\\\\n",
       "\t  0.47303427 & -0.08109952 & 0.06434902  &  0.6994793  & 0.02622514  & 0.2229193   &  0.1597162  & -0.4259821  & -0.5732612  & -0.6878266  & ...         & -0.04114792 &  0.3865855  &  0.3822723  & 0.2428051   & -0.05872208 & -0.210973   & -0.9539484  & -0.1276644  & -0.7965578  & -0.1165422 \\\\\n",
       "\t -0.08926999 &  0.08833880 & 0.06434902  & -1.0331321  & 0.02622514  & 0.2229193   &  0.9873259  &  0.8325228  &  0.3439412  &  1.0698181  & ...         &  0.19883295 & -0.8237833  &  1.6703926  & 0.2428051   & -0.05872208 & -0.210973   &  1.0475537  & -0.1276644  &  1.2150887  & -0.1165422 \\\\\n",
       "\t -0.46413950 & -0.08623401 & 0.06434902  & -1.0331321  & 0.02622514  & 0.2229193   & -1.8596515  & -0.7164064  & -0.5732612  & -0.6878266  & ...         & -0.10839531 &  0.6286592  & -0.2617879  & 0.2428051   & -0.05872208 & -0.210973   &  1.0475537  & -0.1276644  &  0.9595678  & -0.1165422 \\\\\n",
       "\t  0.66046903 &  0.39743537 & 0.06434902  & -1.0331321  & 0.02622514  & 0.2229193   &  0.9542215  &  0.7357147  &  1.4083489  &  1.0698181  & ...         &  1.03876599 & -0.7269538  &  1.6703926  & 0.2428051   & -0.05872208 & -0.210973   & -0.9539484  &  2.5241073  &  1.6494742  & -0.1165422 \\\\\n",
       "\t  0.70732771 &  0.38254534 & 0.06434902  & -1.0331321  & 0.02622514  & 0.2229193   &  0.7224907  &  0.4936945  & -0.5732612  & -0.6878266  & ...         & -0.52374681 & -0.4364653  &  0.3822723  & 0.2428051   & -0.05872208 & -0.210973   &  1.0475537  & -0.1276644  &  0.5182135  & 10.7763409 \\\\\n",
       "\\end{tabular}\n"
      ],
      "text/markdown": [
       "\n",
       "| LotFrontage | LotArea | Street | LotShape | Utilities | LandSlope | YearBuilt | YearRemodAdd | MasVnrArea | ExterQual | ... | TotalSF | AgeWhenSold | TotBathrooms | HasGarage | HasPool | WasNew | Remodeled | NeighClass | SecondFlrSF | ThreeSeasonPorch |\n",
       "|---|---|---|---|---|---|---|---|---|---|---|---|---|---|---|---|---|---|---|---|---|\n",
       "| -0.22984606 | -0.19919289 | 0.06434902  |  0.6994793  | 0.02622514  | 0.2229193   |  1.0535346  |  0.8809268  |  0.5364404  |  1.0698181  | ...         |  0.01423228 | -0.8721981  |  1.6703926  | 0.2428051   | -0.05872208 | -0.210973   | -0.9539484  | -0.1276644  |  1.1872137  | -0.1165422  |\n",
       "|  0.47303427 | -0.08109952 | 0.06434902  |  0.6994793  | 0.02622514  | 0.2229193   |  0.1597162  | -0.4259821  | -0.5732612  | -0.6878266  | ...         | -0.04114792 |  0.3865855  |  0.3822723  | 0.2428051   | -0.05872208 | -0.210973   | -0.9539484  | -0.1276644  | -0.7965578  | -0.1165422  |\n",
       "| -0.08926999 |  0.08833880 | 0.06434902  | -1.0331321  | 0.02622514  | 0.2229193   |  0.9873259  |  0.8325228  |  0.3439412  |  1.0698181  | ...         |  0.19883295 | -0.8237833  |  1.6703926  | 0.2428051   | -0.05872208 | -0.210973   |  1.0475537  | -0.1276644  |  1.2150887  | -0.1165422  |\n",
       "| -0.46413950 | -0.08623401 | 0.06434902  | -1.0331321  | 0.02622514  | 0.2229193   | -1.8596515  | -0.7164064  | -0.5732612  | -0.6878266  | ...         | -0.10839531 |  0.6286592  | -0.2617879  | 0.2428051   | -0.05872208 | -0.210973   |  1.0475537  | -0.1276644  |  0.9595678  | -0.1165422  |\n",
       "|  0.66046903 |  0.39743537 | 0.06434902  | -1.0331321  | 0.02622514  | 0.2229193   |  0.9542215  |  0.7357147  |  1.4083489  |  1.0698181  | ...         |  1.03876599 | -0.7269538  |  1.6703926  | 0.2428051   | -0.05872208 | -0.210973   | -0.9539484  |  2.5241073  |  1.6494742  | -0.1165422  |\n",
       "|  0.70732771 |  0.38254534 | 0.06434902  | -1.0331321  | 0.02622514  | 0.2229193   |  0.7224907  |  0.4936945  | -0.5732612  | -0.6878266  | ...         | -0.52374681 | -0.4364653  |  0.3822723  | 0.2428051   | -0.05872208 | -0.210973   |  1.0475537  | -0.1276644  |  0.5182135  | 10.7763409  |\n",
       "\n"
      ],
      "text/plain": [
       "  LotFrontage LotArea     Street     LotShape   Utilities  LandSlope YearBuilt \n",
       "1 -0.22984606 -0.19919289 0.06434902  0.6994793 0.02622514 0.2229193  1.0535346\n",
       "2  0.47303427 -0.08109952 0.06434902  0.6994793 0.02622514 0.2229193  0.1597162\n",
       "3 -0.08926999  0.08833880 0.06434902 -1.0331321 0.02622514 0.2229193  0.9873259\n",
       "4 -0.46413950 -0.08623401 0.06434902 -1.0331321 0.02622514 0.2229193 -1.8596515\n",
       "5  0.66046903  0.39743537 0.06434902 -1.0331321 0.02622514 0.2229193  0.9542215\n",
       "6  0.70732771  0.38254534 0.06434902 -1.0331321 0.02622514 0.2229193  0.7224907\n",
       "  YearRemodAdd MasVnrArea ExterQual  ... TotalSF     AgeWhenSold TotBathrooms\n",
       "1  0.8809268    0.5364404  1.0698181 ...  0.01423228 -0.8721981   1.6703926  \n",
       "2 -0.4259821   -0.5732612 -0.6878266 ... -0.04114792  0.3865855   0.3822723  \n",
       "3  0.8325228    0.3439412  1.0698181 ...  0.19883295 -0.8237833   1.6703926  \n",
       "4 -0.7164064   -0.5732612 -0.6878266 ... -0.10839531  0.6286592  -0.2617879  \n",
       "5  0.7357147    1.4083489  1.0698181 ...  1.03876599 -0.7269538   1.6703926  \n",
       "6  0.4936945   -0.5732612 -0.6878266 ... -0.52374681 -0.4364653   0.3822723  \n",
       "  HasGarage HasPool     WasNew    Remodeled  NeighClass SecondFlrSF\n",
       "1 0.2428051 -0.05872208 -0.210973 -0.9539484 -0.1276644  1.1872137 \n",
       "2 0.2428051 -0.05872208 -0.210973 -0.9539484 -0.1276644 -0.7965578 \n",
       "3 0.2428051 -0.05872208 -0.210973  1.0475537 -0.1276644  1.2150887 \n",
       "4 0.2428051 -0.05872208 -0.210973  1.0475537 -0.1276644  0.9595678 \n",
       "5 0.2428051 -0.05872208 -0.210973 -0.9539484  2.5241073  1.6494742 \n",
       "6 0.2428051 -0.05872208 -0.210973  1.0475537 -0.1276644  0.5182135 \n",
       "  ThreeSeasonPorch\n",
       "1 -0.1165422      \n",
       "2 -0.1165422      \n",
       "3 -0.1165422      \n",
       "4 -0.1165422      \n",
       "5 -0.1165422      \n",
       "6 10.7763409      "
      ]
     },
     "metadata": {},
     "output_type": "display_data"
    }
   ],
   "source": [
    "head(normNum)"
   ]
  },
  {
   "cell_type": "markdown",
   "metadata": {},
   "source": [
    "### Let us put these normalized features back together with the factor variables:"
   ]
  },
  {
   "cell_type": "code",
   "execution_count": 78,
   "metadata": {},
   "outputs": [],
   "source": [
    "houses <- cbind(normNum, factors)"
   ]
  },
  {
   "cell_type": "markdown",
   "metadata": {},
   "source": [
    "### Now, lastly, let us go ahead and try to fix the skew in the SalePrices by taking the log, as discussed earlier"
   ]
  },
  {
   "cell_type": "code",
   "execution_count": 79,
   "metadata": {},
   "outputs": [],
   "source": [
    "houses$SalePrice <- log(salePrices)"
   ]
  },
  {
   "cell_type": "code",
   "execution_count": 80,
   "metadata": {
    "scrolled": true
   },
   "outputs": [
    {
     "data": {
      "image/png": "[encoded data removed]",
      "text/plain": [
       "plot without title"
      ]
     },
     "metadata": {},
     "output_type": "display_data"
    }
   ],
   "source": [
    "qplot(houses$SalePrice, geom='histogram', bins=50, alpha=I(0.2), fill=I('red'), main='Histogram of Log(SalesPrice)', xlab='Log(SalesPrice)')"
   ]
  },
  {
   "cell_type": "markdown",
   "metadata": {},
   "source": [
    "### Looks good. We are ready to try our linear model again\n",
    "\n",
    "# End of Pre-Processing\n",
    "\n",
    "# Linear Model, Take 2"
   ]
  },
  {
   "cell_type": "code",
   "execution_count": 81,
   "metadata": {},
   "outputs": [
    {
     "name": "stdout",
     "output_type": "stream",
     "text": [
      "  |======================================================================| 100%\n",
      "  |======================================================================| 100%\n"
     ]
    }
   ],
   "source": [
    "houses_h2o <- as.h2o(houses)\n",
    "response <- \"SalePrice\"\n",
    "predictors <- setdiff(names(houses_h2o), response)\n",
    "houses_glm <- h2o.glm(family = \"gaussian\",\n",
    "                        x = predictors,\n",
    "                        y = response,\n",
    "                        training_frame = houses_h2o,\n",
    "                        nfolds = 5)"
   ]
  },
  {
   "cell_type": "code",
   "execution_count": 82,
   "metadata": {},
   "outputs": [
    {
     "data": {
      "text/plain": [
       "Model Details:\n",
       "==============\n",
       "\n",
       "H2ORegressionModel: glm\n",
       "Model ID:  GLM_model_R_1596161807875_2 \n",
       "GLM Model: summary\n",
       "    family     link                               regularization\n",
       "1 gaussian identity Elastic Net (alpha = 0.5, lambda = 0.06486 )\n",
       "  number_of_predictors_total number_of_active_predictors number_of_iterations\n",
       "1                        258                          19                    2\n",
       "     training_frame\n",
       "1 houses_sid_a4fd_3\n",
       "\n",
       "Coefficients: glm coefficients\n",
       "                 names coefficients standardized_coefficients\n",
       "1            Intercept    11.578699                 12.020840\n",
       "2 Neighborhood.Blmngtn     0.000000                  0.000000\n",
       "3 Neighborhood.Blueste     0.000000                  0.000000\n",
       "4  Neighborhood.BrDale     0.000000                  0.000000\n",
       "5 Neighborhood.BrkSide     0.000000                  0.000000\n",
       "\n",
       "---\n",
       "               names coefficients standardized_coefficients\n",
       "254        Remodeled     0.000000                  0.000000\n",
       "255       NeighClass     0.018385                  0.018385\n",
       "256      SecondFlrSF     0.000000                  0.000000\n",
       "257 ThreeSeasonPorch     0.000000                  0.000000\n",
       "258      OverallQual     0.071439                  0.097772\n",
       "259      OverallCond     0.001285                  0.001432\n",
       "\n",
       "H2ORegressionMetrics: glm\n",
       "** Reported on training data. **\n",
       "\n",
       "MSE:  0.02076724\n",
       "RMSE:  0.1441084\n",
       "MAE:  0.1013886\n",
       "RMSLE:  0.01124171\n",
       "Mean Residual Deviance :  0.02076724\n",
       "R^2 :  0.8668005\n",
       "Null Deviance :226.6943\n",
       "Null D.o.F. :1453\n",
       "Residual Deviance :30.19557\n",
       "Residual D.o.F. :1434\n",
       "AIC :-1465.073\n",
       "\n",
       "\n",
       "\n",
       "H2ORegressionMetrics: glm\n",
       "** Reported on cross-validation data. **\n",
       "** 5-fold cross-validation on training data (Metrics computed for combined holdout predictions) **\n",
       "\n",
       "MSE:  0.02363926\n",
       "RMSE:  0.1537506\n",
       "MAE:  0.1078928\n",
       "RMSLE:  0.01198765\n",
       "Mean Residual Deviance :  0.02363926\n",
       "R^2 :  0.8483796\n",
       "Null Deviance :226.9829\n",
       "Null D.o.F. :1453\n",
       "Residual Deviance :34.37148\n",
       "Residual D.o.F. :1436\n",
       "AIC :-1280.734\n",
       "\n",
       "\n",
       "Cross-Validation Metrics Summary: \n",
       "                              mean           sd  cv_1_valid   cv_2_valid\n",
       "mae                     0.10738594  0.009736274  0.10386967   0.08906668\n",
       "mean_residual_deviance   0.0233331  0.005214533 0.020437334 0.0143385045\n",
       "mse                      0.0233331  0.005214533 0.020437334 0.0143385045\n",
       "null_deviance            45.396584    5.5329356   46.602074     32.72131\n",
       "r2                      0.85237044   0.02140956   0.8733931    0.8752143\n",
       "residual_deviance        6.8742957    1.7479509   5.8859525      4.02912\n",
       "rmse                    0.15083191  0.017070953   0.1429592  0.119743496\n",
       "rmsle                  0.011752042 0.0013517602  0.01111906  0.009332879\n",
       "                        cv_3_valid  cv_4_valid  cv_5_valid\n",
       "mae                     0.12669271  0.09806631  0.11923431\n",
       "mean_residual_deviance  0.03307065 0.017871613 0.030947402\n",
       "mse                     0.03307065 0.017871613 0.030947402\n",
       "null_deviance             53.09743    41.05158   53.510517\n",
       "r2                        0.820625   0.8819376   0.8106822\n",
       "residual_deviance         9.524347    4.843207   10.088853\n",
       "rmse                    0.18185337  0.13368475  0.17591874\n",
       "rmsle                  0.014171895 0.010341347 0.013795028"
      ]
     },
     "metadata": {},
     "output_type": "display_data"
    }
   ],
   "source": [
    "houses_glm"
   ]
  },
  {
   "cell_type": "markdown",
   "metadata": {},
   "source": [
    "### Great! A RMSLE of 0.01177 would be 66 on the Kaggle leaderboard. Granted, we have cheated a little bit by removing outliers that should in theory be in our test sets during cross-validation, which means our error is \"artificially\" low in a manner of speaking, but this is still a good result.\n",
    "\n",
    "### Since we have a good number of features, another model we might be interested in is a linear model with lasso regression, which basically adds a regularization term times the sum of the absolute value of feature weights to the loss function, which has the effect of, well, regularizing the regression process (i.e. making it less sensitive to the training data, decreasing variance), but also will have the effect of decreasing the weights of features that do not play a significant role in the final linear model. In theory, since certain features may only be weakly correlated with SalePrice, this is a good property to have. \n",
    "\n",
    "### Now, the way this is implemented in R is with glmnet method in train method in caret. glmnet combines both lasso and ridge regression in a single method, with 0 <= alpha <= 1 as a parameter to select how much of each type we want. Here we set alpha=1 to get only lasso regression. Now, we need to find the best regularization parameter, lambda, that minimizes RMSE (unfortunately glmnet does not output RMSE, so we can only compare if this method is better or worse than our linear model above). Now, how do we chose lambda? Lambda can take on any value, so it is not clear how to proceed. Since we only want to improve on our result from earlier, and since the numerical features are normalized, we needn't focus on large values for lambda, so we will sweep form 0.001 to 0.1 with a step size of 0.0005. Stopping at 0.1 will prevent too much regularization, which might induce bias into our model. We  will perform 5-fold cross validation to test our model. We use the tuneGrid parameter to find the best lambda (in terms of RMSE) and will find the value of the RMSE at this lambda. "
   ]
  },
  {
   "cell_type": "code",
   "execution_count": 83,
   "metadata": {},
   "outputs": [
    {
     "data": {
      "text/html": [
       "<table>\n",
       "<thead><tr><th></th><th scope=col>alpha</th><th scope=col>lambda</th></tr></thead>\n",
       "<tbody>\n",
       "\t<tr><th scope=row>8</th><td>1     </td><td>0.0045</td></tr>\n",
       "</tbody>\n",
       "</table>\n"
      ],
      "text/latex": [
       "\\begin{tabular}{r|ll}\n",
       "  & alpha & lambda\\\\\n",
       "\\hline\n",
       "\t8 & 1      & 0.0045\\\\\n",
       "\\end{tabular}\n"
      ],
      "text/markdown": [
       "\n",
       "| <!--/--> | alpha | lambda |\n",
       "|---|---|---|\n",
       "| 8 | 1      | 0.0045 |\n",
       "\n"
      ],
      "text/plain": [
       "  alpha lambda\n",
       "8 1     0.0045"
      ]
     },
     "metadata": {},
     "output_type": "display_data"
    }
   ],
   "source": [
    "traincv <- trainControl(method=\"cv\", number=5)\n",
    "lassoGrid <- expand.grid(alpha = 1, lambda = seq(0.001,0.1,by = 0.0005))\n",
    "\n",
    "lasso_model <- train(SalePrice~.,data=houses, method='glmnet', trControl= traincv, tuneGrid=lassoGrid) \n",
    "lasso_model$bestTune"
   ]
  },
  {
   "cell_type": "markdown",
   "metadata": {},
   "source": [
    "### So a regularization parameter of 0.0045 results in the best RMSE, which is..."
   ]
  },
  {
   "cell_type": "code",
   "execution_count": 86,
   "metadata": {},
   "outputs": [
    {
     "data": {
      "text/html": [
       "0.115610539420061"
      ],
      "text/latex": [
       "0.115610539420061"
      ],
      "text/markdown": [
       "0.115610539420061"
      ],
      "text/plain": [
       "[1] 0.1156105"
      ]
     },
     "metadata": {},
     "output_type": "display_data"
    }
   ],
   "source": [
    "min(lasso_model$results$RMSE)"
   ]
  },
  {
   "cell_type": "markdown",
   "metadata": {},
   "source": [
    "### Not bad. Recall that our earlier linear model had RMSE:  0.1509139, so it appears this model is slightly better. Unfortunately, since no RMSLE is provided, we cannot compare our result to the Kaggle leaderboard. Lastly, as mentioned earlier, Lasso regression has the property of removing features that are not useful in the regression model. Out of curiosity, let us see how many features were removed (i.e. whose weight is equal to zero)"
   ]
  },
  {
   "cell_type": "code",
   "execution_count": 88,
   "metadata": {},
   "outputs": [
    {
     "name": "stdout",
     "output_type": "stream",
     "text": [
      "Lasso used 61 features, did not use 173 features"
     ]
    }
   ],
   "source": [
    "lassoFeatImp <- varImp(lasso_model,scale=F)\n",
    "lassoImportance <- lassoFeatImp$importance\n",
    "\n",
    "featSelected <- length(which(lassoImportance$Overall!=0))\n",
    "featNotSelected <- length(which(lassoImportance$Overall==0))\n",
    "\n",
    "cat('Lasso used', featSelected, 'features, did not use', featNotSelected, 'features')"
   ]
  },
  {
   "cell_type": "markdown",
   "metadata": {},
   "source": [
    "### This is perhaps Lasso regression's strength, i.e. eliminating features that are not useful in the model and are just generating noise. \"Why are these so many features?\", we might be asking ourselves. Recall that for factor variables, a lot of R methods will one-hot encode the different values for the variable so that, from the viewpoint of the train method earlier, we have many, many more features than the 80 some-odd features in the dataframe."
   ]
  }
 ],
 "metadata": {
  "kernelspec": {
   "display_name": "R",
   "language": "R",
   "name": "ir"
  },
  "language_info": {
   "codemirror_mode": "r",
   "file_extension": ".r",
   "mimetype": "text/x-r-source",
   "name": "R",
   "pygments_lexer": "r",
   "version": "3.6.1"
  }
 },
 "nbformat": 4,
 "nbformat_minor": 4
}
